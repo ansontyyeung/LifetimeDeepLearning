{
  "nbformat": 4,
  "nbformat_minor": 0,
  "metadata": {
    "colab": {
      "name": "LED.ipynb",
      "provenance": [],
      "collapsed_sections": [
        "pKBrrWGllB6i",
        "0gOoXHUulZBt",
        "G_svnj-hKSsL",
        "0yMMI7xA6HqD"
      ],
      "toc_visible": true
    },
    "kernelspec": {
      "display_name": "Python 3",
      "name": "python3"
    }
  },
  "cells": [
    {
      "cell_type": "markdown",
      "metadata": {
        "id": "qv-9bn-kgelp"
      },
      "source": [
        "# **LED Lifetime Prediction**\n",
        "\n",
        "----\n",
        "\n",
        "## **0. Import data & library**"
      ]
    },
    {
      "cell_type": "code",
      "metadata": {
        "id": "gCmJb9NSNPPD"
      },
      "source": [
        "import seaborn as sns\n",
        "import matplotlib.pyplot as plt\n",
        "import numpy as np\n",
        "import itertools\n",
        "import pandas as pd"
      ],
      "execution_count": null,
      "outputs": []
    },
    {
      "cell_type": "code",
      "metadata": {
        "colab": {
          "base_uri": "https://localhost:8080/",
          "height": 204
        },
        "id": "vHJelCe4C3VT",
        "outputId": "a2f26ad6-52bb-41a1-def2-ffeb72efdc2a"
      },
      "source": [
        "dataset = pd.read_excel('/content/li_vi_organised_reshaped.xlsx')\n",
        "dataset.head()"
      ],
      "execution_count": null,
      "outputs": [
        {
          "output_type": "execute_result",
          "data": {
            "text/html": [
              "<div>\n",
              "<style scoped>\n",
              "    .dataframe tbody tr th:only-of-type {\n",
              "        vertical-align: middle;\n",
              "    }\n",
              "\n",
              "    .dataframe tbody tr th {\n",
              "        vertical-align: top;\n",
              "    }\n",
              "\n",
              "    .dataframe thead th {\n",
              "        text-align: right;\n",
              "    }\n",
              "</style>\n",
              "<table border=\"1\" class=\"dataframe\">\n",
              "  <thead>\n",
              "    <tr style=\"text-align: right;\">\n",
              "      <th></th>\n",
              "      <th>LED</th>\n",
              "      <th>temperature</th>\n",
              "      <th>stressing current</th>\n",
              "      <th>performing hour</th>\n",
              "      <th>input voltage</th>\n",
              "      <th>reverse saturated current</th>\n",
              "      <th>light intensity</th>\n",
              "    </tr>\n",
              "  </thead>\n",
              "  <tbody>\n",
              "    <tr>\n",
              "      <th>0</th>\n",
              "      <td>A</td>\n",
              "      <td>25</td>\n",
              "      <td>40</td>\n",
              "      <td>0.0</td>\n",
              "      <td>-5.00</td>\n",
              "      <td>-5.270000e-10</td>\n",
              "      <td>2517</td>\n",
              "    </tr>\n",
              "    <tr>\n",
              "      <th>1</th>\n",
              "      <td>A</td>\n",
              "      <td>25</td>\n",
              "      <td>40</td>\n",
              "      <td>0.0</td>\n",
              "      <td>-4.95</td>\n",
              "      <td>-5.180000e-10</td>\n",
              "      <td>2517</td>\n",
              "    </tr>\n",
              "    <tr>\n",
              "      <th>2</th>\n",
              "      <td>A</td>\n",
              "      <td>25</td>\n",
              "      <td>40</td>\n",
              "      <td>0.0</td>\n",
              "      <td>-4.90</td>\n",
              "      <td>-5.210000e-10</td>\n",
              "      <td>2517</td>\n",
              "    </tr>\n",
              "    <tr>\n",
              "      <th>3</th>\n",
              "      <td>A</td>\n",
              "      <td>25</td>\n",
              "      <td>40</td>\n",
              "      <td>0.0</td>\n",
              "      <td>-4.85</td>\n",
              "      <td>-5.220000e-10</td>\n",
              "      <td>2517</td>\n",
              "    </tr>\n",
              "    <tr>\n",
              "      <th>4</th>\n",
              "      <td>A</td>\n",
              "      <td>25</td>\n",
              "      <td>40</td>\n",
              "      <td>0.0</td>\n",
              "      <td>-4.80</td>\n",
              "      <td>-5.160000e-10</td>\n",
              "      <td>2517</td>\n",
              "    </tr>\n",
              "  </tbody>\n",
              "</table>\n",
              "</div>"
            ],
            "text/plain": [
              "  LED  temperature  ...  reverse saturated current  light intensity\n",
              "0   A           25  ...              -5.270000e-10             2517\n",
              "1   A           25  ...              -5.180000e-10             2517\n",
              "2   A           25  ...              -5.210000e-10             2517\n",
              "3   A           25  ...              -5.220000e-10             2517\n",
              "4   A           25  ...              -5.160000e-10             2517\n",
              "\n",
              "[5 rows x 7 columns]"
            ]
          },
          "metadata": {
            "tags": []
          },
          "execution_count": 3
        }
      ]
    },
    {
      "cell_type": "markdown",
      "metadata": {
        "id": "1PT2UL7Ug3Xj"
      },
      "source": [
        "\n",
        "\n",
        "---\n",
        "## **Model 1: With LED label information**\n"
      ]
    },
    {
      "cell_type": "code",
      "metadata": {
        "id": "DUzFDSkRF0lU"
      },
      "source": [
        "df2=pd.get_dummies(dataset.iloc[:,0])\n",
        "df=dataset.iloc[:,1:].join(df2)\n",
        "df=df.drop_duplicates()\n",
        "X = df.iloc[:,:4].join(df.iloc[:,6:]).values\n",
        "y = df.iloc[:,5].values"
      ],
      "execution_count": null,
      "outputs": []
    },
    {
      "cell_type": "code",
      "metadata": {
        "id": "KcyoEPLxGLZo"
      },
      "source": [
        "# Splitting the dataset into the Training set and Test set\n",
        "from sklearn.model_selection import train_test_split\n",
        "X_train, X_test, y_train, y_test = train_test_split(X, y, test_size = 0.2, random_state = 0)"
      ],
      "execution_count": null,
      "outputs": []
    },
    {
      "cell_type": "code",
      "metadata": {
        "colab": {
          "base_uri": "https://localhost:8080/"
        },
        "id": "vE-Yp38XDVad",
        "outputId": "48de7911-9d9d-4baa-9113-ce9d336413e3"
      },
      "source": [
        "# Importing the Keras libraries and packages\n",
        "import keras\n",
        "from keras.models import Sequential\n",
        "from keras.layers import Dense\n",
        "\n",
        "# Initialising the DNN\n",
        "model = Sequential()\n",
        "optimizer = keras.optimizers.RMSprop(0.001)\n",
        "# Adding the input layer and the first hidden layer\n",
        "model.add(Dense(units = 32, activation = 'relu', input_dim = 9))\n",
        "model.add(Dense(units = 32, activation = 'relu'))\n",
        "model.add(Dense(units = 32, activation = 'relu'))\n",
        "\n",
        "# Adding the output layer\n",
        "model.add(Dense(units = 1, activation = 'relu'))\n",
        "\n",
        "# Compiling the DNN\n",
        "model.compile(optimizer = optimizer, loss = 'mse', metrics = ['mse','mae'])\n",
        "\n",
        "# Fitting the DNN to the Training set\n",
        "history = model.fit(X_train, y_train, batch_size = 100, epochs = 50, \n",
        "                    validation_split = 0.2,verbose=1)"
      ],
      "execution_count": null,
      "outputs": [
        {
          "output_type": "stream",
          "text": [
            "Epoch 1/50\n",
            "541/541 [==============================] - 2s 2ms/step - loss: 2680933.9031 - mse: 2680933.9031 - mae: 1341.7975 - val_loss: 2196879.7500 - val_mse: 2196879.7500 - val_mae: 1315.1790\n",
            "Epoch 2/50\n",
            "541/541 [==============================] - 1s 2ms/step - loss: 2176894.4933 - mse: 2176894.4933 - mae: 1314.2421 - val_loss: 2168666.5000 - val_mse: 2168666.5000 - val_mae: 1312.1534\n",
            "Epoch 3/50\n",
            "541/541 [==============================] - 1s 2ms/step - loss: 2158636.1995 - mse: 2158636.2009 - mae: 1310.4511 - val_loss: 2115393.7500 - val_mse: 2115393.7500 - val_mae: 1294.3927\n",
            "Epoch 4/50\n",
            "541/541 [==============================] - 1s 2ms/step - loss: 2074295.5558 - mse: 2074295.5558 - mae: 1284.8560 - val_loss: 1934435.7500 - val_mse: 1934435.7500 - val_mae: 1241.6707\n",
            "Epoch 5/50\n",
            "541/541 [==============================] - 1s 2ms/step - loss: 1809928.7869 - mse: 1809928.7869 - mae: 1202.9613 - val_loss: 1084978.8750 - val_mse: 1084978.8750 - val_mae: 927.6682\n",
            "Epoch 6/50\n",
            "541/541 [==============================] - 1s 2ms/step - loss: 792632.6278 - mse: 792632.6278 - mae: 747.2739 - val_loss: 532396.6875 - val_mse: 532396.6875 - val_mae: 563.9503\n",
            "Epoch 7/50\n",
            "541/541 [==============================] - 1s 2ms/step - loss: 460198.0897 - mse: 460198.0894 - mae: 483.2396 - val_loss: 438917.0312 - val_mse: 438917.0312 - val_mae: 480.8150\n",
            "Epoch 8/50\n",
            "541/541 [==============================] - 1s 2ms/step - loss: 405197.7753 - mse: 405197.7753 - mae: 433.0075 - val_loss: 410933.5938 - val_mse: 410933.5938 - val_mae: 419.2816\n",
            "Epoch 9/50\n",
            "541/541 [==============================] - 1s 2ms/step - loss: 384000.7544 - mse: 384000.7513 - mae: 408.9555 - val_loss: 374666.5625 - val_mse: 374666.5625 - val_mae: 418.1208\n",
            "Epoch 10/50\n",
            "541/541 [==============================] - 1s 2ms/step - loss: 373896.8946 - mse: 373896.8945 - mae: 396.6138 - val_loss: 355032.8125 - val_mse: 355032.8125 - val_mae: 374.5920\n",
            "Epoch 11/50\n",
            "541/541 [==============================] - 1s 2ms/step - loss: 352588.5449 - mse: 352588.5393 - mae: 379.9432 - val_loss: 348738.4062 - val_mse: 348738.4375 - val_mae: 386.2107\n",
            "Epoch 12/50\n",
            "541/541 [==============================] - 1s 2ms/step - loss: 349765.5300 - mse: 349765.5288 - mae: 376.4312 - val_loss: 437509.1250 - val_mse: 437509.1250 - val_mae: 423.4463\n",
            "Epoch 13/50\n",
            "541/541 [==============================] - 1s 2ms/step - loss: 338440.7971 - mse: 338440.8021 - mae: 364.3463 - val_loss: 366730.5000 - val_mse: 366730.5000 - val_mae: 399.1677\n",
            "Epoch 14/50\n",
            "541/541 [==============================] - 1s 2ms/step - loss: 328508.3949 - mse: 328508.3864 - mae: 356.4134 - val_loss: 305471.5938 - val_mse: 305471.5625 - val_mae: 342.0838\n",
            "Epoch 15/50\n",
            "541/541 [==============================] - 1s 2ms/step - loss: 324526.3723 - mse: 324526.3717 - mae: 350.3445 - val_loss: 463151.7188 - val_mse: 463151.7188 - val_mae: 435.5944\n",
            "Epoch 16/50\n",
            "541/541 [==============================] - 1s 2ms/step - loss: 319149.4569 - mse: 319149.4569 - mae: 347.0526 - val_loss: 299672.0000 - val_mse: 299672.0000 - val_mae: 330.2361\n",
            "Epoch 17/50\n",
            "541/541 [==============================] - 1s 2ms/step - loss: 307252.9016 - mse: 307252.9016 - mae: 338.5137 - val_loss: 290866.2188 - val_mse: 290866.2188 - val_mae: 333.0317\n",
            "Epoch 18/50\n",
            "541/541 [==============================] - 1s 2ms/step - loss: 299954.4744 - mse: 299954.4744 - mae: 331.4417 - val_loss: 445103.5625 - val_mse: 445103.5625 - val_mae: 418.0456\n",
            "Epoch 19/50\n",
            "541/541 [==============================] - 1s 2ms/step - loss: 297833.0683 - mse: 297833.0683 - mae: 329.7919 - val_loss: 325362.3438 - val_mse: 325362.3438 - val_mae: 342.8164\n",
            "Epoch 20/50\n",
            "541/541 [==============================] - 1s 2ms/step - loss: 293944.1932 - mse: 293944.1932 - mae: 325.4937 - val_loss: 333647.6250 - val_mse: 333647.6250 - val_mae: 383.0880\n",
            "Epoch 21/50\n",
            "541/541 [==============================] - 1s 2ms/step - loss: 280075.6137 - mse: 280075.6137 - mae: 318.8272 - val_loss: 386028.2812 - val_mse: 386028.2812 - val_mae: 367.9926\n",
            "Epoch 22/50\n",
            "541/541 [==============================] - 1s 2ms/step - loss: 282610.6754 - mse: 282610.6754 - mae: 318.8887 - val_loss: 265782.5312 - val_mse: 265782.5312 - val_mae: 298.9030\n",
            "Epoch 23/50\n",
            "541/541 [==============================] - 1s 2ms/step - loss: 279407.4523 - mse: 279407.4523 - mae: 315.1232 - val_loss: 261518.0625 - val_mse: 261518.0625 - val_mae: 302.1670\n",
            "Epoch 24/50\n",
            "541/541 [==============================] - 1s 2ms/step - loss: 273911.4421 - mse: 273911.4421 - mae: 310.9158 - val_loss: 254907.0938 - val_mse: 254907.0938 - val_mae: 290.1624\n",
            "Epoch 25/50\n",
            "541/541 [==============================] - 1s 2ms/step - loss: 276921.2863 - mse: 276921.2864 - mae: 310.4361 - val_loss: 345217.4062 - val_mse: 345217.4062 - val_mae: 354.2034\n",
            "Epoch 26/50\n",
            "541/541 [==============================] - 1s 2ms/step - loss: 268150.4536 - mse: 268150.4557 - mae: 308.4160 - val_loss: 255666.3125 - val_mse: 255666.3125 - val_mae: 300.9145\n",
            "Epoch 27/50\n",
            "541/541 [==============================] - 1s 2ms/step - loss: 269792.2894 - mse: 269792.2877 - mae: 307.3108 - val_loss: 250276.0781 - val_mse: 250276.0781 - val_mae: 289.0647\n",
            "Epoch 28/50\n",
            "541/541 [==============================] - 1s 2ms/step - loss: 263471.3687 - mse: 263471.3678 - mae: 302.0588 - val_loss: 286083.6875 - val_mse: 286083.6875 - val_mae: 306.3554\n",
            "Epoch 29/50\n",
            "541/541 [==============================] - 1s 2ms/step - loss: 268450.1748 - mse: 268450.1695 - mae: 303.9686 - val_loss: 251051.3281 - val_mse: 251051.3281 - val_mae: 283.8866\n",
            "Epoch 30/50\n",
            "541/541 [==============================] - 1s 2ms/step - loss: 266785.0789 - mse: 266785.0814 - mae: 303.7938 - val_loss: 284940.9688 - val_mse: 284940.9688 - val_mae: 335.4200\n",
            "Epoch 31/50\n",
            "541/541 [==============================] - 1s 2ms/step - loss: 259081.8914 - mse: 259081.8914 - mae: 298.1397 - val_loss: 312931.1875 - val_mse: 312931.1875 - val_mae: 354.0860\n",
            "Epoch 32/50\n",
            "541/541 [==============================] - 1s 2ms/step - loss: 252446.7711 - mse: 252446.7711 - mae: 295.8724 - val_loss: 241681.7188 - val_mse: 241681.7188 - val_mae: 274.7753\n",
            "Epoch 33/50\n",
            "541/541 [==============================] - 1s 2ms/step - loss: 252192.7797 - mse: 252192.7821 - mae: 292.5622 - val_loss: 241188.8438 - val_mse: 241188.8438 - val_mae: 285.7145\n",
            "Epoch 34/50\n",
            "541/541 [==============================] - 1s 2ms/step - loss: 246396.8451 - mse: 246396.8451 - mae: 288.4846 - val_loss: 284393.9688 - val_mse: 284393.9688 - val_mae: 332.6768\n",
            "Epoch 35/50\n",
            "541/541 [==============================] - 1s 2ms/step - loss: 244457.5726 - mse: 244457.5726 - mae: 287.2223 - val_loss: 243126.4062 - val_mse: 243126.4062 - val_mae: 277.9688\n",
            "Epoch 36/50\n",
            "541/541 [==============================] - 1s 2ms/step - loss: 249761.2467 - mse: 249761.2467 - mae: 287.8003 - val_loss: 232240.3125 - val_mse: 232240.2812 - val_mae: 276.3253\n",
            "Epoch 37/50\n",
            "541/541 [==============================] - 1s 2ms/step - loss: 251168.6765 - mse: 251168.6765 - mae: 290.8089 - val_loss: 266524.8125 - val_mse: 266524.7812 - val_mae: 300.7334\n",
            "Epoch 38/50\n",
            "541/541 [==============================] - 1s 2ms/step - loss: 235200.0997 - mse: 235200.0928 - mae: 279.0841 - val_loss: 246376.6094 - val_mse: 246376.6094 - val_mae: 285.0713\n",
            "Epoch 39/50\n",
            "541/541 [==============================] - 1s 2ms/step - loss: 239056.7515 - mse: 239056.7515 - mae: 281.8311 - val_loss: 224506.5781 - val_mse: 224506.5781 - val_mae: 266.2960\n",
            "Epoch 40/50\n",
            "541/541 [==============================] - 1s 2ms/step - loss: 239312.0203 - mse: 239312.0203 - mae: 281.7703 - val_loss: 262220.2500 - val_mse: 262220.2500 - val_mae: 322.7272\n",
            "Epoch 41/50\n",
            "541/541 [==============================] - 1s 2ms/step - loss: 237905.0066 - mse: 237904.9916 - mae: 280.6202 - val_loss: 217451.2031 - val_mse: 217451.2031 - val_mae: 263.5878\n",
            "Epoch 42/50\n",
            "541/541 [==============================] - 1s 2ms/step - loss: 229909.0971 - mse: 229909.0971 - mae: 275.0548 - val_loss: 232524.1094 - val_mse: 232524.1094 - val_mae: 288.2228\n",
            "Epoch 43/50\n",
            "541/541 [==============================] - 1s 2ms/step - loss: 233685.8794 - mse: 233685.8794 - mae: 274.8890 - val_loss: 222675.4219 - val_mse: 222675.4219 - val_mae: 269.6688\n",
            "Epoch 44/50\n",
            "541/541 [==============================] - 1s 2ms/step - loss: 229754.0872 - mse: 229754.0872 - mae: 274.6690 - val_loss: 274515.5938 - val_mse: 274515.5938 - val_mae: 331.9631\n",
            "Epoch 45/50\n",
            "541/541 [==============================] - 1s 2ms/step - loss: 223053.7564 - mse: 223053.7564 - mae: 271.2770 - val_loss: 316595.7500 - val_mse: 316595.7500 - val_mae: 342.5820\n",
            "Epoch 46/50\n",
            "541/541 [==============================] - 1s 2ms/step - loss: 229484.7724 - mse: 229484.7851 - mae: 274.5476 - val_loss: 338069.5000 - val_mse: 338069.5000 - val_mae: 356.9851\n",
            "Epoch 47/50\n",
            "541/541 [==============================] - 1s 2ms/step - loss: 227184.9122 - mse: 227184.9122 - mae: 270.7033 - val_loss: 232807.6094 - val_mse: 232807.6094 - val_mae: 281.0572\n",
            "Epoch 48/50\n",
            "541/541 [==============================] - 1s 2ms/step - loss: 211171.7753 - mse: 211171.7770 - mae: 264.4955 - val_loss: 205391.4062 - val_mse: 205391.4062 - val_mae: 260.3836\n",
            "Epoch 49/50\n",
            "541/541 [==============================] - 1s 2ms/step - loss: 219477.5890 - mse: 219477.5802 - mae: 265.3705 - val_loss: 280063.5312 - val_mse: 280063.5312 - val_mae: 317.1353\n",
            "Epoch 50/50\n",
            "541/541 [==============================] - 1s 2ms/step - loss: 215918.8511 - mse: 215918.8511 - mae: 263.3318 - val_loss: 240899.7969 - val_mse: 240899.7969 - val_mae: 290.9642\n"
          ],
          "name": "stdout"
        }
      ]
    },
    {
      "cell_type": "code",
      "metadata": {
        "colab": {
          "base_uri": "https://localhost:8080/",
          "height": 204
        },
        "id": "ynoeymsOP8GI",
        "outputId": "9eb3100a-2c68-4c37-f78d-31485e35e1e9"
      },
      "source": [
        "hist = pd.DataFrame(history.history)\n",
        "hist['epoch'] = history.epoch\n",
        "hist.tail()"
      ],
      "execution_count": null,
      "outputs": [
        {
          "output_type": "execute_result",
          "data": {
            "text/html": [
              "<div>\n",
              "<style scoped>\n",
              "    .dataframe tbody tr th:only-of-type {\n",
              "        vertical-align: middle;\n",
              "    }\n",
              "\n",
              "    .dataframe tbody tr th {\n",
              "        vertical-align: top;\n",
              "    }\n",
              "\n",
              "    .dataframe thead th {\n",
              "        text-align: right;\n",
              "    }\n",
              "</style>\n",
              "<table border=\"1\" class=\"dataframe\">\n",
              "  <thead>\n",
              "    <tr style=\"text-align: right;\">\n",
              "      <th></th>\n",
              "      <th>loss</th>\n",
              "      <th>mse</th>\n",
              "      <th>mae</th>\n",
              "      <th>val_loss</th>\n",
              "      <th>val_mse</th>\n",
              "      <th>val_mae</th>\n",
              "      <th>epoch</th>\n",
              "    </tr>\n",
              "  </thead>\n",
              "  <tbody>\n",
              "    <tr>\n",
              "      <th>45</th>\n",
              "      <td>224217.71875</td>\n",
              "      <td>224217.718750</td>\n",
              "      <td>270.573120</td>\n",
              "      <td>338069.500000</td>\n",
              "      <td>338069.500000</td>\n",
              "      <td>356.985077</td>\n",
              "      <td>45</td>\n",
              "    </tr>\n",
              "    <tr>\n",
              "      <th>46</th>\n",
              "      <td>222115.84375</td>\n",
              "      <td>222115.843750</td>\n",
              "      <td>268.945435</td>\n",
              "      <td>232807.609375</td>\n",
              "      <td>232807.609375</td>\n",
              "      <td>281.057159</td>\n",
              "      <td>46</td>\n",
              "    </tr>\n",
              "    <tr>\n",
              "      <th>47</th>\n",
              "      <td>220249.12500</td>\n",
              "      <td>220249.125000</td>\n",
              "      <td>267.130188</td>\n",
              "      <td>205391.406250</td>\n",
              "      <td>205391.406250</td>\n",
              "      <td>260.383575</td>\n",
              "      <td>47</td>\n",
              "    </tr>\n",
              "    <tr>\n",
              "      <th>48</th>\n",
              "      <td>218755.40625</td>\n",
              "      <td>218755.390625</td>\n",
              "      <td>265.283936</td>\n",
              "      <td>280063.531250</td>\n",
              "      <td>280063.531250</td>\n",
              "      <td>317.135315</td>\n",
              "      <td>48</td>\n",
              "    </tr>\n",
              "    <tr>\n",
              "      <th>49</th>\n",
              "      <td>217142.46875</td>\n",
              "      <td>217142.468750</td>\n",
              "      <td>264.319763</td>\n",
              "      <td>240899.796875</td>\n",
              "      <td>240899.796875</td>\n",
              "      <td>290.964203</td>\n",
              "      <td>49</td>\n",
              "    </tr>\n",
              "  </tbody>\n",
              "</table>\n",
              "</div>"
            ],
            "text/plain": [
              "            loss            mse         mae  ...        val_mse     val_mae  epoch\n",
              "45  224217.71875  224217.718750  270.573120  ...  338069.500000  356.985077     45\n",
              "46  222115.84375  222115.843750  268.945435  ...  232807.609375  281.057159     46\n",
              "47  220249.12500  220249.125000  267.130188  ...  205391.406250  260.383575     47\n",
              "48  218755.40625  218755.390625  265.283936  ...  280063.531250  317.135315     48\n",
              "49  217142.46875  217142.468750  264.319763  ...  240899.796875  290.964203     49\n",
              "\n",
              "[5 rows x 7 columns]"
            ]
          },
          "metadata": {
            "tags": []
          },
          "execution_count": 94
        }
      ]
    },
    {
      "cell_type": "code",
      "metadata": {
        "colab": {
          "base_uri": "https://localhost:8080/",
          "height": 552
        },
        "id": "FNpAJhf1P9-k",
        "outputId": "55aaec70-027d-4d15-af9b-96c59383d6f5"
      },
      "source": [
        "def plot_history(history):\n",
        "  hist = pd.DataFrame(history.history)\n",
        "  hist['epoch'] = history.epoch\n",
        "\n",
        "  plt.figure()\n",
        "  plt.xlabel('Epoch')\n",
        "  plt.ylabel('Mean Abs Error [MPG]')\n",
        "  plt.plot(hist['epoch'], hist['mae'],\n",
        "           label='Train Error')\n",
        "  plt.plot(hist['epoch'], hist['val_mae'],\n",
        "           label = 'Val Error')\n",
        "  plt.legend()\n",
        "\n",
        "  plt.figure()\n",
        "  plt.xlabel('Epoch')\n",
        "  plt.ylabel('Mean Square Error [$MPG^2$]')\n",
        "  plt.plot(hist['epoch'], hist['mse'],\n",
        "           label='Train Error')\n",
        "  plt.plot(hist['epoch'], hist['val_mse'],\n",
        "           label = 'Val Error')\n",
        "  plt.legend()\n",
        "  plt.show()\n",
        "\n",
        "\n",
        "plot_history(history)"
      ],
      "execution_count": null,
      "outputs": [
        {
          "output_type": "display_data",
          "data": {
            "image/png": "[encoded data removed]",
            "text/plain": [
              "<Figure size 432x288 with 1 Axes>"
            ]
          },
          "metadata": {
            "tags": []
          }
        },
        {
          "output_type": "display_data",
          "data": {
            "image/png": "[encoded data removed]",
            "text/plain": [
              "<Figure size 432x288 with 1 Axes>"
            ]
          },
          "metadata": {
            "tags": []
          }
        }
      ]
    },
    {
      "cell_type": "code",
      "metadata": {
        "colab": {
          "base_uri": "https://localhost:8080/"
        },
        "id": "Gm6qZe3lJZ14",
        "outputId": "4b35dbff-c427-4db1-9e4d-a593f7b9d67a"
      },
      "source": [
        "y_pred = model.predict(X_test)\n",
        "y_pred"
      ],
      "execution_count": null,
      "outputs": [
        {
          "output_type": "execute_result",
          "data": {
            "text/plain": [
              "array([[   0.     ],\n",
              "       [   0.     ],\n",
              "       [   0.     ],\n",
              "       ...,\n",
              "       [1500.2756 ],\n",
              "       [ 834.67706],\n",
              "       [   0.     ]], dtype=float32)"
            ]
          },
          "metadata": {
            "tags": []
          },
          "execution_count": 96
        }
      ]
    },
    {
      "cell_type": "code",
      "metadata": {
        "colab": {
          "base_uri": "https://localhost:8080/",
          "height": 348
        },
        "id": "SBxlYSK50nqu",
        "outputId": "0a350b62-ee37-4a8d-aaa1-7996a841d851"
      },
      "source": [
        "y_pred2=y_pred>0\n",
        "y_test2=y_test>0\n",
        "\n",
        "from sklearn.metrics import confusion_matrix\n",
        "def plot_confusion_matrix(cm, classes,\n",
        "                          normalize=False,\n",
        "                          title='Confusion matrix',\n",
        "                          cmap=plt.cm.Blues):\n",
        "    \"\"\"\n",
        "    This function prints and plots the confusion matrix.\n",
        "    Normalization can be applied by setting `normalize=True`.\n",
        "    \"\"\"\n",
        "    if normalize:\n",
        "        cm = cm.astype('float') / cm.sum(axis=1)[:, np.newaxis]\n",
        "        print(\"Normalized confusion matrix\")\n",
        "    else:\n",
        "        print('Confusion matrix, without normalization')\n",
        "\n",
        "    print(cm)\n",
        "\n",
        "    plt.imshow(cm, interpolation='nearest', cmap=cmap)\n",
        "    plt.title(title)\n",
        "    plt.colorbar()\n",
        "    tick_marks = np.arange(len(classes))\n",
        "    plt.xticks(tick_marks, classes, rotation=45)\n",
        "    plt.yticks(tick_marks, classes)\n",
        "\n",
        "    fmt = '.2f' if normalize else 'd'\n",
        "    thresh = cm.max() / 2.\n",
        "    for i, j in itertools.product(range(cm.shape[0]), range(cm.shape[1])):\n",
        "        plt.text(j, i, format(cm[i, j], fmt),\n",
        "                 horizontalalignment=\"center\",\n",
        "                 color=\"white\" if cm[i, j] > thresh else \"black\")\n",
        "\n",
        "    plt.ylabel('True label')\n",
        "    plt.xlabel('Predicted label')\n",
        "    plt.tight_layout()\n",
        " \n",
        "plot_confusion_matrix(confusion_matrix(y_test2, y_pred2),['Dead','Alive'])"
      ],
      "execution_count": null,
      "outputs": [
        {
          "output_type": "stream",
          "text": [
            "Confusion matrix, without normalization\n",
            "[[ 4382  1650]\n",
            " [   82 10770]]\n"
          ],
          "name": "stdout"
        },
        {
          "output_type": "display_data",
          "data": {
            "image/png": "[encoded data removed]",
            "text/plain": [
              "<Figure size 432x288 with 2 Axes>"
            ]
          },
          "metadata": {
            "tags": []
          }
        }
      ]
    },
    {
      "cell_type": "code",
      "metadata": {
        "colab": {
          "base_uri": "https://localhost:8080/"
        },
        "id": "w0_YODIY57a7",
        "outputId": "fe4e0cd5-79c2-4d02-e381-210603815c03"
      },
      "source": [
        "import sklearn.metrics\n",
        "print(f'f1 score: {sklearn.metrics.f1_score(y_test2, y_pred2)*100:.2f}%')\n",
        "print(f'Accuracy: {sklearn.metrics.accuracy_score(y_test2, y_pred2)*100:.2f}%')"
      ],
      "execution_count": null,
      "outputs": [
        {
          "output_type": "stream",
          "text": [
            "f1 score: 92.56%\n",
            "Accuracy: 89.74%\n"
          ],
          "name": "stdout"
        }
      ]
    },
    {
      "cell_type": "code",
      "metadata": {
        "colab": {
          "base_uri": "https://localhost:8080/",
          "height": 346
        },
        "id": "B2Um0_8L7Jz-",
        "outputId": "76d3e226-54ed-446f-b7cb-ee49cc8e8326"
      },
      "source": [
        "from sklearn.metrics import roc_curve, auc\n",
        "import matplotlib.pyplot as plt\n",
        "\n",
        "fpr, tpr, thersholds = roc_curve(y_test2, y_pred2)\n",
        "\n",
        "for i, value in enumerate(thersholds):\n",
        "    print(\"%f %f %f\" % (fpr[i], tpr[i], value))\n",
        "\n",
        "roc_auc = auc(fpr, tpr)\n",
        "\n",
        "plt.plot(fpr, tpr, 'k--', label='ROC (area = {0:.2f})'.format(roc_auc), lw=2)\n",
        "\n",
        "plt.xlim([-0.05, 1.05])\n",
        "plt.ylim([-0.05, 1.05])\n",
        "plt.xlabel('False Positive Rate')\n",
        "plt.ylabel('True Positive Rate')\n",
        "plt.title('ROC Curve')\n",
        "plt.legend(loc=\"lower right\")\n",
        "plt.show()"
      ],
      "execution_count": null,
      "outputs": [
        {
          "output_type": "stream",
          "text": [
            "0.000000 0.000000 2.000000\n",
            "0.273541 0.992444 1.000000\n",
            "1.000000 1.000000 0.000000\n"
          ],
          "name": "stdout"
        },
        {
          "output_type": "display_data",
          "data": {
            "image/png": "[encoded data removed]",
            "text/plain": [
              "<Figure size 432x288 with 1 Axes>"
            ]
          },
          "metadata": {
            "tags": []
          }
        }
      ]
    },
    {
      "cell_type": "markdown",
      "metadata": {
        "id": "4o3CM9k6BUIU"
      },
      "source": [
        "## **Summary: Model1 Performance**\n",
        "## **Light intensity predicition**\n",
        "mean square error (MSE): 131498.8\n",
        "\n",
        "mean absolute error (MAE): 195.1\n",
        "\n",
        "## **Dead/Alive classification:**\n",
        "f1 score: 93.23%\n",
        "\n",
        "Accuracy: 90.81%\n",
        "\n"
      ]
    },
    {
      "cell_type": "code",
      "metadata": {
        "id": "i0vbimhEW1wP"
      },
      "source": [
        ""
      ],
      "execution_count": null,
      "outputs": []
    },
    {
      "cell_type": "markdown",
      "metadata": {
        "id": "pKBrrWGllB6i"
      },
      "source": [
        "\n",
        "---\n",
        "\n",
        "## **Model 2: No A-E label, use LED E as testing set**"
      ]
    },
    {
      "cell_type": "code",
      "metadata": {
        "colab": {
          "base_uri": "https://localhost:8080/",
          "height": 204
        },
        "id": "78bLspz3o1Ku",
        "outputId": "5bccfd2e-38f3-45fd-a684-43457de648cd"
      },
      "source": [
        "data_E=dataset[dataset['LED']=='E']\n",
        "data_E.head()"
      ],
      "execution_count": null,
      "outputs": [
        {
          "output_type": "execute_result",
          "data": {
            "text/html": [
              "<div>\n",
              "<style scoped>\n",
              "    .dataframe tbody tr th:only-of-type {\n",
              "        vertical-align: middle;\n",
              "    }\n",
              "\n",
              "    .dataframe tbody tr th {\n",
              "        vertical-align: top;\n",
              "    }\n",
              "\n",
              "    .dataframe thead th {\n",
              "        text-align: right;\n",
              "    }\n",
              "</style>\n",
              "<table border=\"1\" class=\"dataframe\">\n",
              "  <thead>\n",
              "    <tr style=\"text-align: right;\">\n",
              "      <th></th>\n",
              "      <th>LED</th>\n",
              "      <th>temperature</th>\n",
              "      <th>stressing current</th>\n",
              "      <th>performing hour</th>\n",
              "      <th>input voltage</th>\n",
              "      <th>reverse saturated current</th>\n",
              "      <th>light intensity</th>\n",
              "    </tr>\n",
              "  </thead>\n",
              "  <tbody>\n",
              "    <tr>\n",
              "      <th>88352</th>\n",
              "      <td>E</td>\n",
              "      <td>25</td>\n",
              "      <td>40</td>\n",
              "      <td>0.0</td>\n",
              "      <td>-5.00</td>\n",
              "      <td>-6.250000e-10</td>\n",
              "      <td>2529</td>\n",
              "    </tr>\n",
              "    <tr>\n",
              "      <th>88353</th>\n",
              "      <td>E</td>\n",
              "      <td>25</td>\n",
              "      <td>40</td>\n",
              "      <td>0.0</td>\n",
              "      <td>-4.95</td>\n",
              "      <td>-6.130000e-10</td>\n",
              "      <td>2529</td>\n",
              "    </tr>\n",
              "    <tr>\n",
              "      <th>88354</th>\n",
              "      <td>E</td>\n",
              "      <td>25</td>\n",
              "      <td>40</td>\n",
              "      <td>0.0</td>\n",
              "      <td>-4.90</td>\n",
              "      <td>-6.160000e-10</td>\n",
              "      <td>2529</td>\n",
              "    </tr>\n",
              "    <tr>\n",
              "      <th>88355</th>\n",
              "      <td>E</td>\n",
              "      <td>25</td>\n",
              "      <td>40</td>\n",
              "      <td>0.0</td>\n",
              "      <td>-4.85</td>\n",
              "      <td>-6.090000e-10</td>\n",
              "      <td>2529</td>\n",
              "    </tr>\n",
              "    <tr>\n",
              "      <th>88356</th>\n",
              "      <td>E</td>\n",
              "      <td>25</td>\n",
              "      <td>40</td>\n",
              "      <td>0.0</td>\n",
              "      <td>-4.80</td>\n",
              "      <td>-6.040000e-10</td>\n",
              "      <td>2529</td>\n",
              "    </tr>\n",
              "  </tbody>\n",
              "</table>\n",
              "</div>"
            ],
            "text/plain": [
              "      LED  temperature  ...  reverse saturated current  light intensity\n",
              "88352   E           25  ...              -6.250000e-10             2529\n",
              "88353   E           25  ...              -6.130000e-10             2529\n",
              "88354   E           25  ...              -6.160000e-10             2529\n",
              "88355   E           25  ...              -6.090000e-10             2529\n",
              "88356   E           25  ...              -6.040000e-10             2529\n",
              "\n",
              "[5 rows x 7 columns]"
            ]
          },
          "metadata": {
            "tags": []
          },
          "execution_count": 100
        }
      ]
    },
    {
      "cell_type": "code",
      "metadata": {
        "colab": {
          "base_uri": "https://localhost:8080/",
          "height": 204
        },
        "id": "V6N6RRskpI-g",
        "outputId": "76d29b44-c89c-4fb6-f254-1e0602ca8f9f"
      },
      "source": [
        "data_AtoD=dataset[dataset['LED']!='E']\n",
        "from sklearn.utils import shuffle\n",
        "data_AtoD=shuffle(data_AtoD)\n",
        "data_E=shuffle(data_E)\n",
        "data_AtoD.head()"
      ],
      "execution_count": null,
      "outputs": [
        {
          "output_type": "execute_result",
          "data": {
            "text/html": [
              "<div>\n",
              "<style scoped>\n",
              "    .dataframe tbody tr th:only-of-type {\n",
              "        vertical-align: middle;\n",
              "    }\n",
              "\n",
              "    .dataframe tbody tr th {\n",
              "        vertical-align: top;\n",
              "    }\n",
              "\n",
              "    .dataframe thead th {\n",
              "        text-align: right;\n",
              "    }\n",
              "</style>\n",
              "<table border=\"1\" class=\"dataframe\">\n",
              "  <thead>\n",
              "    <tr style=\"text-align: right;\">\n",
              "      <th></th>\n",
              "      <th>LED</th>\n",
              "      <th>temperature</th>\n",
              "      <th>stressing current</th>\n",
              "      <th>performing hour</th>\n",
              "      <th>input voltage</th>\n",
              "      <th>reverse saturated current</th>\n",
              "      <th>light intensity</th>\n",
              "    </tr>\n",
              "  </thead>\n",
              "  <tbody>\n",
              "    <tr>\n",
              "      <th>23803</th>\n",
              "      <td>B</td>\n",
              "      <td>25</td>\n",
              "      <td>40</td>\n",
              "      <td>2.0</td>\n",
              "      <td>4.40</td>\n",
              "      <td>9.999800e-02</td>\n",
              "      <td>3178</td>\n",
              "    </tr>\n",
              "    <tr>\n",
              "      <th>48574</th>\n",
              "      <td>C</td>\n",
              "      <td>25</td>\n",
              "      <td>40</td>\n",
              "      <td>7.0</td>\n",
              "      <td>-3.80</td>\n",
              "      <td>-5.180000e-10</td>\n",
              "      <td>2734</td>\n",
              "    </tr>\n",
              "    <tr>\n",
              "      <th>43177</th>\n",
              "      <td>B</td>\n",
              "      <td>60</td>\n",
              "      <td>80</td>\n",
              "      <td>6.5</td>\n",
              "      <td>-4.70</td>\n",
              "      <td>0.000000e+00</td>\n",
              "      <td>0</td>\n",
              "    </tr>\n",
              "    <tr>\n",
              "      <th>42378</th>\n",
              "      <td>B</td>\n",
              "      <td>60</td>\n",
              "      <td>80</td>\n",
              "      <td>4.5</td>\n",
              "      <td>-4.45</td>\n",
              "      <td>-7.820000e-10</td>\n",
              "      <td>0</td>\n",
              "    </tr>\n",
              "    <tr>\n",
              "      <th>2233</th>\n",
              "      <td>A</td>\n",
              "      <td>25</td>\n",
              "      <td>40</td>\n",
              "      <td>3.0</td>\n",
              "      <td>0.90</td>\n",
              "      <td>-4.960000e-10</td>\n",
              "      <td>3169</td>\n",
              "    </tr>\n",
              "  </tbody>\n",
              "</table>\n",
              "</div>"
            ],
            "text/plain": [
              "      LED  temperature  ...  reverse saturated current  light intensity\n",
              "23803   B           25  ...               9.999800e-02             3178\n",
              "48574   C           25  ...              -5.180000e-10             2734\n",
              "43177   B           60  ...               0.000000e+00                0\n",
              "42378   B           60  ...              -7.820000e-10                0\n",
              "2233    A           25  ...              -4.960000e-10             3169\n",
              "\n",
              "[5 rows x 7 columns]"
            ]
          },
          "metadata": {
            "tags": []
          },
          "execution_count": 101
        }
      ]
    },
    {
      "cell_type": "code",
      "metadata": {
        "id": "afe3FA9kpkV7"
      },
      "source": [
        "X = data_AtoD.iloc[:,1:5].values\n",
        "y = data_AtoD.iloc[:,6].values"
      ],
      "execution_count": null,
      "outputs": []
    },
    {
      "cell_type": "code",
      "metadata": {
        "colab": {
          "base_uri": "https://localhost:8080/"
        },
        "id": "qul-3rbSp5ln",
        "outputId": "d9ed38aa-a822-498b-d831-5745c86939e8"
      },
      "source": [
        "# Importing the Keras libraries and packages\n",
        "import keras\n",
        "from keras.models import Sequential\n",
        "from keras.layers import Dense\n",
        "\n",
        "optimizer = keras.optimizers.RMSprop(0.001)\n",
        "\n",
        "# Initialising the ANN\n",
        "model2 = Sequential()\n",
        "\n",
        "# Adding the input layer and the first hidden layer\n",
        "model2.add(Dense(units = 64, activation = 'relu', input_dim = 4))\n",
        "model2.add(Dense(units = 64, activation = 'relu'))\n",
        "model2.add(Dense(units = 64, activation = 'relu'))\n",
        "\n",
        "# Adding the output layer\n",
        "model2.add(Dense(units = 1, activation = 'relu'))\n",
        "\n",
        "# Compiling the ANN\n",
        "model2.compile(optimizer = optimizer, loss = 'mse', metrics = ['mse','mae'])\n",
        "\n",
        "# Fitting the ANN to the Training set\n",
        "history = model2.fit(X, y, batch_size = 100, epochs = 50, validation_split = 0.2,verbose=1)"
      ],
      "execution_count": null,
      "outputs": [
        {
          "output_type": "stream",
          "text": [
            "Epoch 1/50\n",
            "707/707 [==============================] - 2s 2ms/step - loss: 3288792.5226 - mse: 3288792.5254 - mae: 1594.2294 - val_loss: 2703890.7500 - val_mse: 2703890.7500 - val_mae: 1510.8569\n",
            "Epoch 2/50\n",
            "707/707 [==============================] - 1s 2ms/step - loss: 2562774.4774 - mse: 2562774.4721 - mae: 1463.0637 - val_loss: 1463771.2500 - val_mse: 1463771.2500 - val_mae: 1035.2513\n",
            "Epoch 3/50\n",
            "707/707 [==============================] - 1s 2ms/step - loss: 1116395.5619 - mse: 1116395.5608 - mae: 858.6568 - val_loss: 539742.8750 - val_mse: 539742.8750 - val_mae: 553.5099\n",
            "Epoch 4/50\n",
            "707/707 [==============================] - 1s 2ms/step - loss: 440296.9902 - mse: 440296.9936 - mae: 463.0526 - val_loss: 337192.6562 - val_mse: 337192.6562 - val_mae: 383.6751\n",
            "Epoch 5/50\n",
            "707/707 [==============================] - 1s 2ms/step - loss: 326413.3484 - mse: 326413.3548 - mae: 372.5957 - val_loss: 308301.3438 - val_mse: 308301.3438 - val_mae: 348.6296\n",
            "Epoch 6/50\n",
            "707/707 [==============================] - 1s 2ms/step - loss: 304240.8283 - mse: 304240.8283 - mae: 354.7734 - val_loss: 322462.2812 - val_mse: 322462.2812 - val_mae: 376.5533\n",
            "Epoch 7/50\n",
            "707/707 [==============================] - 1s 2ms/step - loss: 290978.2750 - mse: 290978.2750 - mae: 345.9557 - val_loss: 312046.0625 - val_mse: 312046.0625 - val_mae: 372.0741\n",
            "Epoch 8/50\n",
            "707/707 [==============================] - 1s 2ms/step - loss: 280040.4637 - mse: 280040.4637 - mae: 340.4245 - val_loss: 283599.0938 - val_mse: 283599.0938 - val_mae: 327.9613\n",
            "Epoch 9/50\n",
            "707/707 [==============================] - 1s 2ms/step - loss: 269792.6665 - mse: 269792.6665 - mae: 332.6472 - val_loss: 276446.0625 - val_mse: 276446.0625 - val_mae: 334.5000\n",
            "Epoch 10/50\n",
            "707/707 [==============================] - 1s 2ms/step - loss: 267529.3140 - mse: 267529.3140 - mae: 329.1872 - val_loss: 253736.0625 - val_mse: 253736.0625 - val_mae: 315.4804\n",
            "Epoch 11/50\n",
            "707/707 [==============================] - 1s 2ms/step - loss: 254453.7517 - mse: 254453.7517 - mae: 323.4233 - val_loss: 267282.5000 - val_mse: 267282.5000 - val_mae: 324.1761\n",
            "Epoch 12/50\n",
            "707/707 [==============================] - 1s 2ms/step - loss: 253994.3279 - mse: 253994.3279 - mae: 321.9832 - val_loss: 244884.3125 - val_mse: 244884.3125 - val_mae: 305.2997\n",
            "Epoch 13/50\n",
            "707/707 [==============================] - 1s 2ms/step - loss: 247677.3387 - mse: 247677.3387 - mae: 316.8625 - val_loss: 269989.9688 - val_mse: 269990.0000 - val_mae: 322.1842\n",
            "Epoch 14/50\n",
            "707/707 [==============================] - 1s 2ms/step - loss: 243810.1667 - mse: 243810.1666 - mae: 314.8284 - val_loss: 239164.7031 - val_mse: 239164.7031 - val_mae: 308.1690\n",
            "Epoch 15/50\n",
            "707/707 [==============================] - 1s 2ms/step - loss: 245366.8031 - mse: 245366.8031 - mae: 314.5635 - val_loss: 234056.6250 - val_mse: 234056.6250 - val_mae: 307.5669\n",
            "Epoch 16/50\n",
            "707/707 [==============================] - 1s 2ms/step - loss: 236833.5916 - mse: 236833.5916 - mae: 310.5271 - val_loss: 294493.4688 - val_mse: 294493.4688 - val_mae: 348.7945\n",
            "Epoch 17/50\n",
            "707/707 [==============================] - 1s 2ms/step - loss: 236710.6695 - mse: 236710.6695 - mae: 310.0783 - val_loss: 267698.0625 - val_mse: 267698.0625 - val_mae: 342.4489\n",
            "Epoch 18/50\n",
            "707/707 [==============================] - 1s 2ms/step - loss: 230452.1568 - mse: 230452.1568 - mae: 306.5338 - val_loss: 225662.6094 - val_mse: 225662.6094 - val_mae: 294.1741\n",
            "Epoch 19/50\n",
            "707/707 [==============================] - 1s 2ms/step - loss: 232554.7161 - mse: 232554.7161 - mae: 306.1789 - val_loss: 241213.8281 - val_mse: 241213.8281 - val_mae: 313.8606\n",
            "Epoch 20/50\n",
            "707/707 [==============================] - 1s 2ms/step - loss: 225365.6524 - mse: 225365.6524 - mae: 301.6057 - val_loss: 218626.1094 - val_mse: 218626.1094 - val_mae: 290.1399\n",
            "Epoch 21/50\n",
            "707/707 [==============================] - 1s 2ms/step - loss: 216768.6574 - mse: 216768.6574 - mae: 296.8406 - val_loss: 222225.4531 - val_mse: 222225.4531 - val_mae: 292.4345\n",
            "Epoch 22/50\n",
            "707/707 [==============================] - 1s 2ms/step - loss: 222670.9251 - mse: 222670.9251 - mae: 298.9277 - val_loss: 241642.2188 - val_mse: 241642.2188 - val_mae: 309.7696\n",
            "Epoch 23/50\n",
            "707/707 [==============================] - 1s 2ms/step - loss: 220326.8924 - mse: 220326.8918 - mae: 296.3972 - val_loss: 228254.3281 - val_mse: 228254.3125 - val_mae: 303.5361\n",
            "Epoch 24/50\n",
            "707/707 [==============================] - 1s 2ms/step - loss: 221695.9778 - mse: 221695.9778 - mae: 298.2381 - val_loss: 226447.9844 - val_mse: 226447.9844 - val_mae: 297.2508\n",
            "Epoch 25/50\n",
            "707/707 [==============================] - 1s 2ms/step - loss: 219712.6039 - mse: 219712.6039 - mae: 297.6316 - val_loss: 228971.8594 - val_mse: 228971.8594 - val_mae: 296.4498\n",
            "Epoch 26/50\n",
            "707/707 [==============================] - 1s 2ms/step - loss: 215297.2934 - mse: 215297.2934 - mae: 294.5025 - val_loss: 215642.1719 - val_mse: 215642.1719 - val_mae: 289.3575\n",
            "Epoch 27/50\n",
            "707/707 [==============================] - 1s 2ms/step - loss: 217793.4815 - mse: 217793.4968 - mae: 295.9607 - val_loss: 214392.1719 - val_mse: 214392.1719 - val_mae: 294.8506\n",
            "Epoch 28/50\n",
            "707/707 [==============================] - 1s 2ms/step - loss: 214488.5533 - mse: 214488.5533 - mae: 293.9962 - val_loss: 213876.2969 - val_mse: 213876.2969 - val_mae: 290.8312\n",
            "Epoch 29/50\n",
            "707/707 [==============================] - 1s 2ms/step - loss: 207132.9728 - mse: 207132.9728 - mae: 289.5254 - val_loss: 211905.3750 - val_mse: 211905.3750 - val_mae: 289.9107\n",
            "Epoch 30/50\n",
            "707/707 [==============================] - 1s 2ms/step - loss: 212969.1965 - mse: 212969.1965 - mae: 292.9610 - val_loss: 210342.3125 - val_mse: 210342.3125 - val_mae: 287.2573\n",
            "Epoch 31/50\n",
            "707/707 [==============================] - 1s 2ms/step - loss: 211134.8872 - mse: 211134.8870 - mae: 291.5957 - val_loss: 226465.2500 - val_mse: 226465.2500 - val_mae: 296.3663\n",
            "Epoch 32/50\n",
            "707/707 [==============================] - 1s 2ms/step - loss: 209410.6425 - mse: 209410.6349 - mae: 290.6900 - val_loss: 209830.0469 - val_mse: 209830.0469 - val_mae: 287.0114\n",
            "Epoch 33/50\n",
            "707/707 [==============================] - 1s 2ms/step - loss: 207185.8537 - mse: 207185.8529 - mae: 288.8631 - val_loss: 212348.8125 - val_mse: 212348.8125 - val_mae: 287.1279\n",
            "Epoch 34/50\n",
            "707/707 [==============================] - 1s 2ms/step - loss: 212576.2812 - mse: 212576.2812 - mae: 291.5720 - val_loss: 217877.1094 - val_mse: 217877.1094 - val_mae: 282.7854\n",
            "Epoch 35/50\n",
            "707/707 [==============================] - 1s 2ms/step - loss: 214089.0491 - mse: 214089.0491 - mae: 289.4488 - val_loss: 217685.4688 - val_mse: 217685.4688 - val_mae: 290.1075\n",
            "Epoch 36/50\n",
            "707/707 [==============================] - 1s 2ms/step - loss: 212574.7620 - mse: 212574.7620 - mae: 290.6950 - val_loss: 207212.7969 - val_mse: 207212.7969 - val_mae: 285.3956\n",
            "Epoch 37/50\n",
            "707/707 [==============================] - 1s 2ms/step - loss: 207204.9352 - mse: 207204.9352 - mae: 288.4945 - val_loss: 222617.4375 - val_mse: 222617.4375 - val_mae: 291.7581\n",
            "Epoch 38/50\n",
            "707/707 [==============================] - 1s 2ms/step - loss: 208525.2814 - mse: 208525.2814 - mae: 287.8341 - val_loss: 207135.4375 - val_mse: 207135.4375 - val_mae: 284.4448\n",
            "Epoch 39/50\n",
            "707/707 [==============================] - 1s 2ms/step - loss: 210400.3595 - mse: 210400.3595 - mae: 289.4893 - val_loss: 281007.8125 - val_mse: 281007.8125 - val_mae: 347.8544\n",
            "Epoch 40/50\n",
            "707/707 [==============================] - 1s 2ms/step - loss: 205373.5924 - mse: 205373.5893 - mae: 286.2983 - val_loss: 204864.5781 - val_mse: 204864.5781 - val_mae: 283.4016\n",
            "Epoch 41/50\n",
            "707/707 [==============================] - 1s 2ms/step - loss: 205023.8945 - mse: 205023.8934 - mae: 285.4426 - val_loss: 202057.7656 - val_mse: 202057.7656 - val_mae: 283.1391\n",
            "Epoch 42/50\n",
            "707/707 [==============================] - 1s 2ms/step - loss: 210801.3053 - mse: 210801.3053 - mae: 289.4992 - val_loss: 202506.2344 - val_mse: 202506.2344 - val_mae: 275.5748\n",
            "Epoch 43/50\n",
            "707/707 [==============================] - 1s 2ms/step - loss: 204033.3619 - mse: 204033.3620 - mae: 286.0883 - val_loss: 205396.4219 - val_mse: 205396.4375 - val_mae: 277.9503\n",
            "Epoch 44/50\n",
            "707/707 [==============================] - 1s 2ms/step - loss: 207937.1744 - mse: 207937.1744 - mae: 287.8228 - val_loss: 207897.1562 - val_mse: 207897.1562 - val_mae: 281.2984\n",
            "Epoch 45/50\n",
            "707/707 [==============================] - 1s 2ms/step - loss: 204627.7010 - mse: 204627.7010 - mae: 286.1601 - val_loss: 208239.1094 - val_mse: 208239.1094 - val_mae: 284.8904\n",
            "Epoch 46/50\n",
            "707/707 [==============================] - 1s 2ms/step - loss: 196556.6283 - mse: 196556.6280 - mae: 280.7136 - val_loss: 207168.7500 - val_mse: 207168.7500 - val_mae: 286.9549\n",
            "Epoch 47/50\n",
            "707/707 [==============================] - 1s 2ms/step - loss: 198828.8325 - mse: 198828.8325 - mae: 282.5738 - val_loss: 201907.2500 - val_mse: 201907.2500 - val_mae: 280.1282\n",
            "Epoch 48/50\n",
            "707/707 [==============================] - 1s 2ms/step - loss: 200968.3124 - mse: 200968.2993 - mae: 283.9968 - val_loss: 199622.0469 - val_mse: 199622.0469 - val_mae: 277.5402\n",
            "Epoch 49/50\n",
            "707/707 [==============================] - 1s 2ms/step - loss: 199913.1844 - mse: 199913.1833 - mae: 282.0833 - val_loss: 199671.5781 - val_mse: 199671.5781 - val_mae: 274.7291\n",
            "Epoch 50/50\n",
            "707/707 [==============================] - 1s 2ms/step - loss: 200567.9861 - mse: 200567.9861 - mae: 281.7293 - val_loss: 199050.7969 - val_mse: 199050.7969 - val_mae: 277.5140\n"
          ],
          "name": "stdout"
        }
      ]
    },
    {
      "cell_type": "code",
      "metadata": {
        "id": "FXxyY9INvV5Q"
      },
      "source": [
        "X_test = data_E.iloc[:,1:5].values\n",
        "y_test = data_E.iloc[:,6].values"
      ],
      "execution_count": null,
      "outputs": []
    },
    {
      "cell_type": "code",
      "metadata": {
        "colab": {
          "base_uri": "https://localhost:8080/"
        },
        "id": "lhsqDF5nvsWl",
        "outputId": "b746e412-dcb7-46b9-875c-0edfe22d2fbf"
      },
      "source": [
        "y_pred = model.predict(X_test)\n",
        "y_pred"
      ],
      "execution_count": null,
      "outputs": [
        {
          "output_type": "execute_result",
          "data": {
            "text/plain": [
              "array([[  61.887165],\n",
              "       [   0.      ],\n",
              "       [   0.      ],\n",
              "       ...,\n",
              "       [3393.8987  ],\n",
              "       [   0.      ],\n",
              "       [1285.1223  ]], dtype=float32)"
            ]
          },
          "metadata": {
            "tags": []
          },
          "execution_count": 105
        }
      ]
    },
    {
      "cell_type": "code",
      "metadata": {
        "id": "5JFCiU1Rv1pj"
      },
      "source": [
        "y_pred2=y_pred>0\n",
        "y_test2=y_test>0"
      ],
      "execution_count": null,
      "outputs": []
    },
    {
      "cell_type": "code",
      "metadata": {
        "colab": {
          "base_uri": "https://localhost:8080/",
          "height": 348
        },
        "id": "osOFpr_Mv5TU",
        "outputId": "aea306df-0fab-46af-9644-d691ed1fb821"
      },
      "source": [
        "from sklearn.metrics import confusion_matrix\n",
        "def plot_confusion_matrix(cm, classes,\n",
        "                          normalize=False,\n",
        "                          title='Confusion matrix',\n",
        "                          cmap=plt.cm.Blues):\n",
        "    \"\"\"\n",
        "    This function prints and plots the confusion matrix.\n",
        "    Normalization can be applied by setting `normalize=True`.\n",
        "    \"\"\"\n",
        "    if normalize:\n",
        "        cm = cm.astype('float') / cm.sum(axis=1)[:, np.newaxis]\n",
        "        print(\"Normalized confusion matrix\")\n",
        "    else:\n",
        "        print('Confusion matrix, without normalization')\n",
        "\n",
        "    print(cm)\n",
        "\n",
        "    plt.imshow(cm, interpolation='nearest', cmap=cmap)\n",
        "    plt.title(title)\n",
        "    plt.colorbar()\n",
        "    tick_marks = np.arange(len(classes))\n",
        "    plt.xticks(tick_marks, classes, rotation=45)\n",
        "    plt.yticks(tick_marks, classes)\n",
        "\n",
        "    fmt = '.2f' if normalize else 'd'\n",
        "    thresh = cm.max() / 2.\n",
        "    for i, j in itertools.product(range(cm.shape[0]), range(cm.shape[1])):\n",
        "        plt.text(j, i, format(cm[i, j], fmt),\n",
        "                 horizontalalignment=\"center\",\n",
        "                 color=\"white\" if cm[i, j] > thresh else \"black\")\n",
        "\n",
        "    plt.ylabel('True label')\n",
        "    plt.xlabel('Predicted label')\n",
        "    plt.tight_layout()\n",
        " \n",
        "plot_confusion_matrix(confusion_matrix(y_test2, y_pred2),['Alive','Dead'])"
      ],
      "execution_count": null,
      "outputs": [
        {
          "output_type": "stream",
          "text": [
            "Confusion matrix, without normalization\n",
            "[[ 4123  1907]\n",
            " [    0 16058]]\n"
          ],
          "name": "stdout"
        },
        {
          "output_type": "display_data",
          "data": {
            "image/png": "[encoded data removed]",
            "text/plain": [
              "<Figure size 432x288 with 2 Axes>"
            ]
          },
          "metadata": {
            "tags": []
          }
        }
      ]
    },
    {
      "cell_type": "code",
      "metadata": {
        "colab": {
          "base_uri": "https://localhost:8080/"
        },
        "id": "_PbrdJVGwGue",
        "outputId": "8842dd0f-2958-4986-86c8-fc35d8a0fdfc"
      },
      "source": [
        "import sklearn.metrics\n",
        "print(f'f1 score: {sklearn.metrics.f1_score(y_test2, y_pred2)*100:.2f}%')\n",
        "print(f'Accuracy: {sklearn.metrics.accuracy_score(y_test2, y_pred2)*100:.2f}%')"
      ],
      "execution_count": null,
      "outputs": [
        {
          "output_type": "stream",
          "text": [
            "f1 score: 94.39%\n",
            "Accuracy: 91.37%\n"
          ],
          "name": "stdout"
        }
      ]
    },
    {
      "cell_type": "code",
      "metadata": {
        "colab": {
          "base_uri": "https://localhost:8080/",
          "height": 346
        },
        "id": "k-GfSCZ8FA_W",
        "outputId": "33b55d46-c498-46f0-8750-726152abff9a"
      },
      "source": [
        "from sklearn.metrics import roc_curve, auc\n",
        "import matplotlib.pyplot as plt\n",
        "\n",
        "fpr, tpr, thersholds = roc_curve(y_test2, y_pred2)\n",
        "\n",
        "for i, value in enumerate(thersholds):\n",
        "    print(\"%f %f %f\" % (fpr[i], tpr[i], value))\n",
        "\n",
        "roc_auc = auc(fpr, tpr)\n",
        "\n",
        "plt.plot(fpr, tpr, 'k--', label='ROC (area = {0:.2f})'.format(roc_auc), lw=2)\n",
        "\n",
        "plt.xlim([-0.05, 1.05])\n",
        "plt.ylim([-0.05, 1.05])\n",
        "plt.xlabel('False Positive Rate')\n",
        "plt.ylabel('True Positive Rate')\n",
        "plt.title('ROC Curve')\n",
        "plt.legend(loc=\"lower right\")\n",
        "plt.show()"
      ],
      "execution_count": null,
      "outputs": [
        {
          "output_type": "stream",
          "text": [
            "0.000000 0.000000 2.000000\n",
            "0.316252 1.000000 1.000000\n",
            "1.000000 1.000000 0.000000\n"
          ],
          "name": "stdout"
        },
        {
          "output_type": "display_data",
          "data": {
            "image/png": "[encoded data removed]",
            "text/plain": [
              "<Figure size 432x288 with 1 Axes>"
            ]
          },
          "metadata": {
            "tags": []
          }
        }
      ]
    },
    {
      "cell_type": "markdown",
      "metadata": {
        "id": "ibbuD1nriZ-0"
      },
      "source": [
        "\n",
        "\n",
        "---\n",
        "\n",
        "## **Model 3**\n",
        "\n",
        "### **Re-Data Extraction: Dropping weird data & add 0 LI data**\n",
        "Tem 25, Current 60, Hr>=15\n",
        "\n",
        "Tem 60, Current 60, Hr>=11\n"
      ]
    },
    {
      "cell_type": "code",
      "metadata": {
        "colab": {
          "base_uri": "https://localhost:8080/",
          "height": 419
        },
        "id": "OsEbT9-DiY7z",
        "outputId": "48134d07-5c0a-4356-a384-0a4ee4214186"
      },
      "source": [
        "dataset"
      ],
      "execution_count": null,
      "outputs": [
        {
          "output_type": "execute_result",
          "data": {
            "text/html": [
              "<div>\n",
              "<style scoped>\n",
              "    .dataframe tbody tr th:only-of-type {\n",
              "        vertical-align: middle;\n",
              "    }\n",
              "\n",
              "    .dataframe tbody tr th {\n",
              "        vertical-align: top;\n",
              "    }\n",
              "\n",
              "    .dataframe thead th {\n",
              "        text-align: right;\n",
              "    }\n",
              "</style>\n",
              "<table border=\"1\" class=\"dataframe\">\n",
              "  <thead>\n",
              "    <tr style=\"text-align: right;\">\n",
              "      <th></th>\n",
              "      <th>LED</th>\n",
              "      <th>temperature</th>\n",
              "      <th>stressing current</th>\n",
              "      <th>performing hour</th>\n",
              "      <th>input voltage</th>\n",
              "      <th>reverse saturated current</th>\n",
              "      <th>light intensity</th>\n",
              "    </tr>\n",
              "  </thead>\n",
              "  <tbody>\n",
              "    <tr>\n",
              "      <th>0</th>\n",
              "      <td>A</td>\n",
              "      <td>25</td>\n",
              "      <td>40</td>\n",
              "      <td>0.0</td>\n",
              "      <td>-5.00</td>\n",
              "      <td>-5.270000e-10</td>\n",
              "      <td>2517</td>\n",
              "    </tr>\n",
              "    <tr>\n",
              "      <th>1</th>\n",
              "      <td>A</td>\n",
              "      <td>25</td>\n",
              "      <td>40</td>\n",
              "      <td>0.0</td>\n",
              "      <td>-4.95</td>\n",
              "      <td>-5.180000e-10</td>\n",
              "      <td>2517</td>\n",
              "    </tr>\n",
              "    <tr>\n",
              "      <th>2</th>\n",
              "      <td>A</td>\n",
              "      <td>25</td>\n",
              "      <td>40</td>\n",
              "      <td>0.0</td>\n",
              "      <td>-4.90</td>\n",
              "      <td>-5.210000e-10</td>\n",
              "      <td>2517</td>\n",
              "    </tr>\n",
              "    <tr>\n",
              "      <th>3</th>\n",
              "      <td>A</td>\n",
              "      <td>25</td>\n",
              "      <td>40</td>\n",
              "      <td>0.0</td>\n",
              "      <td>-4.85</td>\n",
              "      <td>-5.220000e-10</td>\n",
              "      <td>2517</td>\n",
              "    </tr>\n",
              "    <tr>\n",
              "      <th>4</th>\n",
              "      <td>A</td>\n",
              "      <td>25</td>\n",
              "      <td>40</td>\n",
              "      <td>0.0</td>\n",
              "      <td>-4.80</td>\n",
              "      <td>-5.160000e-10</td>\n",
              "      <td>2517</td>\n",
              "    </tr>\n",
              "    <tr>\n",
              "      <th>...</th>\n",
              "      <td>...</td>\n",
              "      <td>...</td>\n",
              "      <td>...</td>\n",
              "      <td>...</td>\n",
              "      <td>...</td>\n",
              "      <td>...</td>\n",
              "      <td>...</td>\n",
              "    </tr>\n",
              "    <tr>\n",
              "      <th>83410</th>\n",
              "      <td>E</td>\n",
              "      <td>60</td>\n",
              "      <td>100</td>\n",
              "      <td>2.0</td>\n",
              "      <td>4.80</td>\n",
              "      <td>1.674190e-02</td>\n",
              "      <td>0</td>\n",
              "    </tr>\n",
              "    <tr>\n",
              "      <th>83411</th>\n",
              "      <td>E</td>\n",
              "      <td>60</td>\n",
              "      <td>100</td>\n",
              "      <td>2.0</td>\n",
              "      <td>4.85</td>\n",
              "      <td>7.570060e-03</td>\n",
              "      <td>0</td>\n",
              "    </tr>\n",
              "    <tr>\n",
              "      <th>83412</th>\n",
              "      <td>E</td>\n",
              "      <td>60</td>\n",
              "      <td>100</td>\n",
              "      <td>2.0</td>\n",
              "      <td>4.90</td>\n",
              "      <td>1.024776e-02</td>\n",
              "      <td>0</td>\n",
              "    </tr>\n",
              "    <tr>\n",
              "      <th>83413</th>\n",
              "      <td>E</td>\n",
              "      <td>60</td>\n",
              "      <td>100</td>\n",
              "      <td>2.0</td>\n",
              "      <td>4.95</td>\n",
              "      <td>2.986120e-02</td>\n",
              "      <td>0</td>\n",
              "    </tr>\n",
              "    <tr>\n",
              "      <th>83414</th>\n",
              "      <td>E</td>\n",
              "      <td>60</td>\n",
              "      <td>100</td>\n",
              "      <td>2.0</td>\n",
              "      <td>5.00</td>\n",
              "      <td>2.787150e-02</td>\n",
              "      <td>0</td>\n",
              "    </tr>\n",
              "  </tbody>\n",
              "</table>\n",
              "<p>83415 rows × 7 columns</p>\n",
              "</div>"
            ],
            "text/plain": [
              "      LED  temperature  ...  reverse saturated current  light intensity\n",
              "0       A           25  ...              -5.270000e-10             2517\n",
              "1       A           25  ...              -5.180000e-10             2517\n",
              "2       A           25  ...              -5.210000e-10             2517\n",
              "3       A           25  ...              -5.220000e-10             2517\n",
              "4       A           25  ...              -5.160000e-10             2517\n",
              "...    ..          ...  ...                        ...              ...\n",
              "83410   E           60  ...               1.674190e-02                0\n",
              "83411   E           60  ...               7.570060e-03                0\n",
              "83412   E           60  ...               1.024776e-02                0\n",
              "83413   E           60  ...               2.986120e-02                0\n",
              "83414   E           60  ...               2.787150e-02                0\n",
              "\n",
              "[83415 rows x 7 columns]"
            ]
          },
          "metadata": {
            "tags": []
          },
          "execution_count": 4
        }
      ]
    },
    {
      "cell_type": "code",
      "metadata": {
        "colab": {
          "base_uri": "https://localhost:8080/",
          "height": 419
        },
        "id": "0uaewSEtmZNl",
        "outputId": "95666f95-5445-4ff4-b377-193ac614f157"
      },
      "source": [
        "indexNames = dataset[ (dataset['temperature'] == 25)\n",
        "                & (dataset['stressing current'] == 60)& (dataset['performing hour']>=15) ].index\n",
        "df_dropped=dataset.drop(indexNames).reset_index().iloc[:,1:]\n",
        "indexNames = df_dropped[ (df_dropped['temperature'] == 60)\n",
        "                & (df_dropped['stressing current'] == 60)& (df_dropped['performing hour']>=11) ].index\n",
        "df_dropped=df_dropped.drop(indexNames).reset_index().iloc[:,1:]\n",
        "from sklearn.utils import shuffle\n",
        "df_dropped=shuffle(df_dropped)\n",
        "df_dropped['temperature']=df_dropped['temperature']+273\n",
        "df_dropped"
      ],
      "execution_count": null,
      "outputs": [
        {
          "output_type": "execute_result",
          "data": {
            "text/html": [
              "<div>\n",
              "<style scoped>\n",
              "    .dataframe tbody tr th:only-of-type {\n",
              "        vertical-align: middle;\n",
              "    }\n",
              "\n",
              "    .dataframe tbody tr th {\n",
              "        vertical-align: top;\n",
              "    }\n",
              "\n",
              "    .dataframe thead th {\n",
              "        text-align: right;\n",
              "    }\n",
              "</style>\n",
              "<table border=\"1\" class=\"dataframe\">\n",
              "  <thead>\n",
              "    <tr style=\"text-align: right;\">\n",
              "      <th></th>\n",
              "      <th>LED</th>\n",
              "      <th>temperature</th>\n",
              "      <th>stressing current</th>\n",
              "      <th>performing hour</th>\n",
              "      <th>input voltage</th>\n",
              "      <th>reverse saturated current</th>\n",
              "      <th>light intensity</th>\n",
              "    </tr>\n",
              "  </thead>\n",
              "  <tbody>\n",
              "    <tr>\n",
              "      <th>46721</th>\n",
              "      <td>D</td>\n",
              "      <td>298</td>\n",
              "      <td>40</td>\n",
              "      <td>4.0</td>\n",
              "      <td>-0.55</td>\n",
              "      <td>-5.150000e-10</td>\n",
              "      <td>3514</td>\n",
              "    </tr>\n",
              "    <tr>\n",
              "      <th>20085</th>\n",
              "      <td>B</td>\n",
              "      <td>298</td>\n",
              "      <td>60</td>\n",
              "      <td>13.0</td>\n",
              "      <td>4.30</td>\n",
              "      <td>1.000003e-01</td>\n",
              "      <td>2096</td>\n",
              "    </tr>\n",
              "    <tr>\n",
              "      <th>76097</th>\n",
              "      <td>E</td>\n",
              "      <td>333</td>\n",
              "      <td>100</td>\n",
              "      <td>1.5</td>\n",
              "      <td>0.95</td>\n",
              "      <td>1.570000e-05</td>\n",
              "      <td>0</td>\n",
              "    </tr>\n",
              "    <tr>\n",
              "      <th>39112</th>\n",
              "      <td>C</td>\n",
              "      <td>298</td>\n",
              "      <td>100</td>\n",
              "      <td>1.0</td>\n",
              "      <td>0.90</td>\n",
              "      <td>-3.530000e-10</td>\n",
              "      <td>2834</td>\n",
              "    </tr>\n",
              "    <tr>\n",
              "      <th>52755</th>\n",
              "      <td>D</td>\n",
              "      <td>298</td>\n",
              "      <td>80</td>\n",
              "      <td>9.0</td>\n",
              "      <td>-0.35</td>\n",
              "      <td>-2.620000e-11</td>\n",
              "      <td>0</td>\n",
              "    </tr>\n",
              "    <tr>\n",
              "      <th>...</th>\n",
              "      <td>...</td>\n",
              "      <td>...</td>\n",
              "      <td>...</td>\n",
              "      <td>...</td>\n",
              "      <td>...</td>\n",
              "      <td>...</td>\n",
              "      <td>...</td>\n",
              "    </tr>\n",
              "    <tr>\n",
              "      <th>73948</th>\n",
              "      <td>E</td>\n",
              "      <td>333</td>\n",
              "      <td>80</td>\n",
              "      <td>2.0</td>\n",
              "      <td>4.05</td>\n",
              "      <td>9.999660e-02</td>\n",
              "      <td>501</td>\n",
              "    </tr>\n",
              "    <tr>\n",
              "      <th>32494</th>\n",
              "      <td>C</td>\n",
              "      <td>298</td>\n",
              "      <td>40</td>\n",
              "      <td>9.0</td>\n",
              "      <td>1.65</td>\n",
              "      <td>-4.100000e-10</td>\n",
              "      <td>2842</td>\n",
              "    </tr>\n",
              "    <tr>\n",
              "      <th>28984</th>\n",
              "      <td>B</td>\n",
              "      <td>333</td>\n",
              "      <td>80</td>\n",
              "      <td>5.0</td>\n",
              "      <td>-3.00</td>\n",
              "      <td>-1.323970e-04</td>\n",
              "      <td>0</td>\n",
              "    </tr>\n",
              "    <tr>\n",
              "      <th>50613</th>\n",
              "      <td>D</td>\n",
              "      <td>298</td>\n",
              "      <td>60</td>\n",
              "      <td>13.0</td>\n",
              "      <td>3.10</td>\n",
              "      <td>2.097300e-02</td>\n",
              "      <td>1579</td>\n",
              "    </tr>\n",
              "    <tr>\n",
              "      <th>55359</th>\n",
              "      <td>D</td>\n",
              "      <td>298</td>\n",
              "      <td>100</td>\n",
              "      <td>6.0</td>\n",
              "      <td>-0.80</td>\n",
              "      <td>-2.900000e-11</td>\n",
              "      <td>0</td>\n",
              "    </tr>\n",
              "  </tbody>\n",
              "</table>\n",
              "<p>76380 rows × 7 columns</p>\n",
              "</div>"
            ],
            "text/plain": [
              "      LED  temperature  ...  reverse saturated current  light intensity\n",
              "46721   D          298  ...              -5.150000e-10             3514\n",
              "20085   B          298  ...               1.000003e-01             2096\n",
              "76097   E          333  ...               1.570000e-05                0\n",
              "39112   C          298  ...              -3.530000e-10             2834\n",
              "52755   D          298  ...              -2.620000e-11                0\n",
              "...    ..          ...  ...                        ...              ...\n",
              "73948   E          333  ...               9.999660e-02              501\n",
              "32494   C          298  ...              -4.100000e-10             2842\n",
              "28984   B          333  ...              -1.323970e-04                0\n",
              "50613   D          298  ...               2.097300e-02             1579\n",
              "55359   D          298  ...              -2.900000e-11                0\n",
              "\n",
              "[76380 rows x 7 columns]"
            ]
          },
          "metadata": {
            "tags": []
          },
          "execution_count": 5
        }
      ]
    },
    {
      "cell_type": "code",
      "metadata": {
        "id": "a38HwBNLWiwC"
      },
      "source": [
        "#add row with LI=0\n",
        "t=0\n",
        "new=pd.DataFrame(columns=['LED','temperature','stressing current','performing hour','input voltage','reverse saturated current','light intensity'])\n",
        "for row,content in df_dropped[df_dropped['light intensity']==0].iterrows():\n",
        "  if t>30000:\n",
        "    break\n",
        "  else:\n",
        "    t+=1\n",
        "  LED=content[0]\n",
        "  temperature=content[1]\n",
        "  current=content[2]\n",
        "  hour=content[3]\n",
        "  voltage=content[4]\n",
        "  rsc=content[5]\n",
        "  for h in range(1,5):\n",
        "    new=new.append({'LED':LED,\n",
        "            'temperature':temperature,\n",
        "            'stressing current':current,\n",
        "            'performing hour':hour+h,\n",
        "            'input voltage':voltage,\n",
        "            'reverse saturated current':rsc,'light intensity':0},ignore_index=True)\n",
        "new=new.drop_duplicates()"
      ],
      "execution_count": null,
      "outputs": []
    },
    {
      "cell_type": "code",
      "metadata": {
        "colab": {
          "base_uri": "https://localhost:8080/",
          "height": 419
        },
        "id": "32z5JIVqXyfT",
        "outputId": "146bce43-5500-485e-8269-2d8faeb5d8e1"
      },
      "source": [
        "df_dropped=pd.concat([df_dropped,new]).drop_duplicates()\n",
        "df_dropped"
      ],
      "execution_count": null,
      "outputs": [
        {
          "output_type": "execute_result",
          "data": {
            "text/html": [
              "<div>\n",
              "<style scoped>\n",
              "    .dataframe tbody tr th:only-of-type {\n",
              "        vertical-align: middle;\n",
              "    }\n",
              "\n",
              "    .dataframe tbody tr th {\n",
              "        vertical-align: top;\n",
              "    }\n",
              "\n",
              "    .dataframe thead th {\n",
              "        text-align: right;\n",
              "    }\n",
              "</style>\n",
              "<table border=\"1\" class=\"dataframe\">\n",
              "  <thead>\n",
              "    <tr style=\"text-align: right;\">\n",
              "      <th></th>\n",
              "      <th>LED</th>\n",
              "      <th>temperature</th>\n",
              "      <th>stressing current</th>\n",
              "      <th>performing hour</th>\n",
              "      <th>input voltage</th>\n",
              "      <th>reverse saturated current</th>\n",
              "      <th>light intensity</th>\n",
              "    </tr>\n",
              "  </thead>\n",
              "  <tbody>\n",
              "    <tr>\n",
              "      <th>25931</th>\n",
              "      <td>B</td>\n",
              "      <td>333</td>\n",
              "      <td>60</td>\n",
              "      <td>5.0</td>\n",
              "      <td>-4.90</td>\n",
              "      <td>-4.440000e-10</td>\n",
              "      <td>1538</td>\n",
              "    </tr>\n",
              "    <tr>\n",
              "      <th>1296</th>\n",
              "      <td>A</td>\n",
              "      <td>298</td>\n",
              "      <td>40</td>\n",
              "      <td>6.0</td>\n",
              "      <td>-0.50</td>\n",
              "      <td>-5.260000e-10</td>\n",
              "      <td>3360</td>\n",
              "    </tr>\n",
              "    <tr>\n",
              "      <th>51041</th>\n",
              "      <td>D</td>\n",
              "      <td>298</td>\n",
              "      <td>80</td>\n",
              "      <td>0.0</td>\n",
              "      <td>4.40</td>\n",
              "      <td>9.999730e-02</td>\n",
              "      <td>3932</td>\n",
              "    </tr>\n",
              "    <tr>\n",
              "      <th>27729</th>\n",
              "      <td>B</td>\n",
              "      <td>333</td>\n",
              "      <td>80</td>\n",
              "      <td>1.0</td>\n",
              "      <td>4.60</td>\n",
              "      <td>9.999170e-02</td>\n",
              "      <td>718</td>\n",
              "    </tr>\n",
              "    <tr>\n",
              "      <th>72612</th>\n",
              "      <td>E</td>\n",
              "      <td>333</td>\n",
              "      <td>60</td>\n",
              "      <td>9.0</td>\n",
              "      <td>-2.45</td>\n",
              "      <td>-3.230000e-12</td>\n",
              "      <td>0</td>\n",
              "    </tr>\n",
              "    <tr>\n",
              "      <th>...</th>\n",
              "      <td>...</td>\n",
              "      <td>...</td>\n",
              "      <td>...</td>\n",
              "      <td>...</td>\n",
              "      <td>...</td>\n",
              "      <td>...</td>\n",
              "      <td>...</td>\n",
              "    </tr>\n",
              "    <tr>\n",
              "      <th>10935</th>\n",
              "      <td>C</td>\n",
              "      <td>298</td>\n",
              "      <td>80</td>\n",
              "      <td>16.0</td>\n",
              "      <td>1.25</td>\n",
              "      <td>1.530000e-09</td>\n",
              "      <td>0</td>\n",
              "    </tr>\n",
              "    <tr>\n",
              "      <th>10936</th>\n",
              "      <td>C</td>\n",
              "      <td>298</td>\n",
              "      <td>80</td>\n",
              "      <td>9.0</td>\n",
              "      <td>1.45</td>\n",
              "      <td>1.380000e-10</td>\n",
              "      <td>0</td>\n",
              "    </tr>\n",
              "    <tr>\n",
              "      <th>10937</th>\n",
              "      <td>C</td>\n",
              "      <td>298</td>\n",
              "      <td>80</td>\n",
              "      <td>10.0</td>\n",
              "      <td>1.45</td>\n",
              "      <td>1.380000e-10</td>\n",
              "      <td>0</td>\n",
              "    </tr>\n",
              "    <tr>\n",
              "      <th>10938</th>\n",
              "      <td>C</td>\n",
              "      <td>298</td>\n",
              "      <td>80</td>\n",
              "      <td>11.0</td>\n",
              "      <td>1.45</td>\n",
              "      <td>1.380000e-10</td>\n",
              "      <td>0</td>\n",
              "    </tr>\n",
              "    <tr>\n",
              "      <th>10939</th>\n",
              "      <td>C</td>\n",
              "      <td>298</td>\n",
              "      <td>80</td>\n",
              "      <td>12.0</td>\n",
              "      <td>1.45</td>\n",
              "      <td>1.380000e-10</td>\n",
              "      <td>0</td>\n",
              "    </tr>\n",
              "  </tbody>\n",
              "</table>\n",
              "<p>86980 rows × 7 columns</p>\n",
              "</div>"
            ],
            "text/plain": [
              "      LED temperature  ... reverse saturated current  light intensity\n",
              "25931   B         333  ...             -4.440000e-10             1538\n",
              "1296    A         298  ...             -5.260000e-10             3360\n",
              "51041   D         298  ...              9.999730e-02             3932\n",
              "27729   B         333  ...              9.999170e-02              718\n",
              "72612   E         333  ...             -3.230000e-12                0\n",
              "...    ..         ...  ...                       ...              ...\n",
              "10935   C         298  ...              1.530000e-09                0\n",
              "10936   C         298  ...              1.380000e-10                0\n",
              "10937   C         298  ...              1.380000e-10                0\n",
              "10938   C         298  ...              1.380000e-10                0\n",
              "10939   C         298  ...              1.380000e-10                0\n",
              "\n",
              "[86980 rows x 7 columns]"
            ]
          },
          "metadata": {
            "tags": []
          },
          "execution_count": 110
        }
      ]
    },
    {
      "cell_type": "code",
      "metadata": {
        "id": "rM6vHk31o9lN"
      },
      "source": [
        "X = df_dropped.iloc[:,1:5].values\n",
        "X=np.asarray(X).astype('float32')\n",
        "y = df_dropped.iloc[:,6].values\n",
        "y=np.asarray(y).astype('float32')\n",
        "from sklearn.model_selection import train_test_split\n",
        "X_train, X_test, y_train, y_test = train_test_split(X, y, test_size = 0.2, random_state = 0)"
      ],
      "execution_count": null,
      "outputs": []
    },
    {
      "cell_type": "code",
      "metadata": {
        "colab": {
          "base_uri": "https://localhost:8080/"
        },
        "id": "Rin0J4mipZKP",
        "outputId": "37fb7925-2966-4588-b6ee-d293e9452a7a"
      },
      "source": [
        "# Importing the Keras libraries and packages\n",
        "import keras\n",
        "from keras.models import Sequential\n",
        "from keras.layers import Dense\n",
        "\n",
        "optimizer = keras.optimizers.RMSprop(0.001)\n",
        "#optimizer = keras.optimizers.Nadam()\n",
        "# Initialising the ANN\n",
        "model3 = Sequential()\n",
        "\n",
        "# Adding the input layer and the first hidden layer\n",
        "model3.add(Dense(units = 32, activation = 'relu', input_dim = 4))\n",
        "model3.add(Dense(units = 32, activation = 'relu'))\n",
        "model3.add(Dense(units = 32, activation = 'relu'))\n",
        "\n",
        "# Adding the output layer\n",
        "model3.add(Dense(units = 1, activation = 'relu'))\n",
        "\n",
        "# Compiling the DNN\n",
        "model3.compile(optimizer = optimizer, loss = 'mse', metrics = ['mse','mae'])\n",
        "\n",
        "# Fitting the DNN to the Training set\n",
        "history = model3.fit(X_train, y_train, batch_size = 100, epochs = 50, validation_split = 0.2,verbose=1)"
      ],
      "execution_count": null,
      "outputs": [
        {
          "output_type": "stream",
          "text": [
            "Epoch 1/50\n",
            "644/644 [==============================] - 2s 2ms/step - loss: 1939040.1841 - mse: 1939040.1841 - mae: 1198.2818 - val_loss: 1094483.5000 - val_mse: 1094483.5000 - val_mae: 851.9033\n",
            "Epoch 2/50\n",
            "644/644 [==============================] - 1s 2ms/step - loss: 1046309.4728 - mse: 1046309.4596 - mae: 825.3670 - val_loss: 979434.0625 - val_mse: 979434.0625 - val_mae: 787.4288\n",
            "Epoch 3/50\n",
            "644/644 [==============================] - 1s 2ms/step - loss: 934948.6584 - mse: 934948.6584 - mae: 785.1451 - val_loss: 851407.9375 - val_mse: 851407.9375 - val_mae: 732.8204\n",
            "Epoch 4/50\n",
            "644/644 [==============================] - 1s 2ms/step - loss: 812786.5364 - mse: 812786.5364 - mae: 711.6455 - val_loss: 817238.8125 - val_mse: 817238.8125 - val_mae: 668.8237\n",
            "Epoch 5/50\n",
            "644/644 [==============================] - 1s 2ms/step - loss: 727138.8155 - mse: 727138.8155 - mae: 644.6575 - val_loss: 688864.6250 - val_mse: 688864.6250 - val_mae: 626.3660\n",
            "Epoch 6/50\n",
            "644/644 [==============================] - 1s 2ms/step - loss: 686387.0266 - mse: 686387.0259 - mae: 625.1064 - val_loss: 661783.0625 - val_mse: 661783.0625 - val_mae: 606.0247\n",
            "Epoch 7/50\n",
            "644/644 [==============================] - 1s 2ms/step - loss: 658712.2972 - mse: 658712.2972 - mae: 612.5240 - val_loss: 689062.2500 - val_mse: 689062.2500 - val_mae: 645.4489\n",
            "Epoch 8/50\n",
            "644/644 [==============================] - 1s 2ms/step - loss: 634966.5354 - mse: 634966.5354 - mae: 607.9649 - val_loss: 613179.0625 - val_mse: 613179.0625 - val_mae: 579.1143\n",
            "Epoch 9/50\n",
            "644/644 [==============================] - 1s 2ms/step - loss: 604929.6589 - mse: 604929.6586 - mae: 593.2832 - val_loss: 608684.5000 - val_mse: 608684.5000 - val_mae: 577.2021\n",
            "Epoch 10/50\n",
            "644/644 [==============================] - 1s 2ms/step - loss: 560793.3276 - mse: 560793.3276 - mae: 572.6613 - val_loss: 537394.1250 - val_mse: 537394.1250 - val_mae: 586.8411\n",
            "Epoch 11/50\n",
            "644/644 [==============================] - 1s 2ms/step - loss: 517029.7433 - mse: 517029.7433 - mae: 547.7763 - val_loss: 500076.4375 - val_mse: 500076.4375 - val_mae: 509.5701\n",
            "Epoch 12/50\n",
            "644/644 [==============================] - 1s 2ms/step - loss: 434560.7313 - mse: 434560.7313 - mae: 489.8157 - val_loss: 382403.3125 - val_mse: 382403.3125 - val_mae: 436.9689\n",
            "Epoch 13/50\n",
            "644/644 [==============================] - 1s 2ms/step - loss: 362247.8324 - mse: 362247.8325 - mae: 430.7071 - val_loss: 343444.2812 - val_mse: 343444.3125 - val_mae: 429.4101\n",
            "Epoch 14/50\n",
            "644/644 [==============================] - 1s 2ms/step - loss: 318033.1908 - mse: 318033.1908 - mae: 388.2198 - val_loss: 484687.0938 - val_mse: 484687.0938 - val_mae: 460.9907\n",
            "Epoch 15/50\n",
            "644/644 [==============================] - 1s 2ms/step - loss: 307252.7930 - mse: 307252.7927 - mae: 371.3744 - val_loss: 311179.4688 - val_mse: 311179.4688 - val_mae: 375.4246\n",
            "Epoch 16/50\n",
            "644/644 [==============================] - 1s 2ms/step - loss: 303231.6207 - mse: 303231.6207 - mae: 366.1579 - val_loss: 671269.3750 - val_mse: 671269.3750 - val_mae: 551.5096\n",
            "Epoch 17/50\n",
            "644/644 [==============================] - 1s 2ms/step - loss: 299363.7596 - mse: 299363.7476 - mae: 363.3836 - val_loss: 328667.9688 - val_mse: 328667.9688 - val_mae: 379.9736\n",
            "Epoch 18/50\n",
            "644/644 [==============================] - 1s 2ms/step - loss: 291096.8543 - mse: 291096.8543 - mae: 354.3238 - val_loss: 287310.6875 - val_mse: 287310.6875 - val_mae: 345.9865\n",
            "Epoch 19/50\n",
            "644/644 [==============================] - 1s 2ms/step - loss: 288011.8364 - mse: 288011.8364 - mae: 352.4726 - val_loss: 300604.5312 - val_mse: 300604.5312 - val_mae: 377.9704\n",
            "Epoch 20/50\n",
            "644/644 [==============================] - 1s 2ms/step - loss: 281312.8548 - mse: 281312.8547 - mae: 346.9569 - val_loss: 278711.0625 - val_mse: 278711.0625 - val_mae: 370.0785\n",
            "Epoch 21/50\n",
            "644/644 [==============================] - 1s 2ms/step - loss: 276956.5446 - mse: 276956.5446 - mae: 346.0938 - val_loss: 280211.2812 - val_mse: 280211.2500 - val_mae: 341.4013\n",
            "Epoch 22/50\n",
            "644/644 [==============================] - 1s 2ms/step - loss: 269339.0609 - mse: 269339.0609 - mae: 338.8822 - val_loss: 299881.7188 - val_mse: 299881.7188 - val_mae: 356.0670\n",
            "Epoch 23/50\n",
            "644/644 [==============================] - 1s 2ms/step - loss: 271480.6898 - mse: 271480.6881 - mae: 341.4562 - val_loss: 315915.3438 - val_mse: 315915.3438 - val_mae: 373.6989\n",
            "Epoch 24/50\n",
            "644/644 [==============================] - 1s 2ms/step - loss: 266444.0247 - mse: 266444.0164 - mae: 338.0335 - val_loss: 303130.9062 - val_mse: 303130.9062 - val_mae: 345.2506\n",
            "Epoch 25/50\n",
            "644/644 [==============================] - 1s 2ms/step - loss: 254752.6707 - mse: 254752.6664 - mae: 329.4671 - val_loss: 414575.8125 - val_mse: 414575.8125 - val_mae: 390.1110\n",
            "Epoch 26/50\n",
            "644/644 [==============================] - 1s 2ms/step - loss: 258519.1178 - mse: 258519.1183 - mae: 332.1794 - val_loss: 421835.6875 - val_mse: 421835.6875 - val_mae: 395.6812\n",
            "Epoch 27/50\n",
            "644/644 [==============================] - 1s 2ms/step - loss: 248443.3468 - mse: 248443.3275 - mae: 321.9340 - val_loss: 240153.1719 - val_mse: 240153.1719 - val_mae: 347.0360\n",
            "Epoch 28/50\n",
            "644/644 [==============================] - 1s 2ms/step - loss: 236618.7459 - mse: 236618.7459 - mae: 316.2210 - val_loss: 265963.3438 - val_mse: 265963.3438 - val_mae: 324.0461\n",
            "Epoch 29/50\n",
            "644/644 [==============================] - 1s 2ms/step - loss: 228960.0771 - mse: 228960.0771 - mae: 308.3605 - val_loss: 205152.0625 - val_mse: 205152.0625 - val_mae: 293.3562\n",
            "Epoch 30/50\n",
            "644/644 [==============================] - 1s 2ms/step - loss: 228148.0197 - mse: 228148.0197 - mae: 308.5358 - val_loss: 257068.3906 - val_mse: 257068.3906 - val_mae: 327.8144\n",
            "Epoch 31/50\n",
            "644/644 [==============================] - 1s 2ms/step - loss: 211195.6016 - mse: 211195.6016 - mae: 295.0943 - val_loss: 196239.3438 - val_mse: 196239.3438 - val_mae: 284.3336\n",
            "Epoch 32/50\n",
            "644/644 [==============================] - 1s 2ms/step - loss: 202638.2861 - mse: 202638.2862 - mae: 289.2697 - val_loss: 195487.4844 - val_mse: 195487.4844 - val_mae: 281.4362\n",
            "Epoch 33/50\n",
            "644/644 [==============================] - 1s 2ms/step - loss: 199686.4604 - mse: 199686.4601 - mae: 287.4567 - val_loss: 280374.2188 - val_mse: 280374.2188 - val_mae: 333.2115\n",
            "Epoch 34/50\n",
            "644/644 [==============================] - 1s 2ms/step - loss: 194649.9173 - mse: 194649.9173 - mae: 281.1706 - val_loss: 192967.7031 - val_mse: 192967.7031 - val_mae: 272.3959\n",
            "Epoch 35/50\n",
            "644/644 [==============================] - 1s 2ms/step - loss: 194166.8730 - mse: 194166.8729 - mae: 283.0412 - val_loss: 218880.1094 - val_mse: 218880.1094 - val_mae: 294.4531\n",
            "Epoch 36/50\n",
            "644/644 [==============================] - 1s 2ms/step - loss: 188606.0740 - mse: 188606.0748 - mae: 279.5950 - val_loss: 252994.8281 - val_mse: 252994.8281 - val_mae: 328.4545\n",
            "Epoch 37/50\n",
            "644/644 [==============================] - 1s 2ms/step - loss: 192595.6962 - mse: 192595.6962 - mae: 281.4687 - val_loss: 276978.7500 - val_mse: 276978.7500 - val_mae: 326.2154\n",
            "Epoch 38/50\n",
            "644/644 [==============================] - 1s 2ms/step - loss: 188637.3336 - mse: 188637.3336 - mae: 277.4217 - val_loss: 300905.8125 - val_mse: 300905.8125 - val_mae: 348.5378\n",
            "Epoch 39/50\n",
            "644/644 [==============================] - 1s 2ms/step - loss: 188609.6913 - mse: 188609.6892 - mae: 278.1465 - val_loss: 186414.0625 - val_mse: 186414.0625 - val_mae: 274.0453\n",
            "Epoch 40/50\n",
            "644/644 [==============================] - 1s 2ms/step - loss: 189350.2395 - mse: 189350.2316 - mae: 278.0491 - val_loss: 386739.8438 - val_mse: 386739.8438 - val_mae: 393.3234\n",
            "Epoch 41/50\n",
            "644/644 [==============================] - 1s 2ms/step - loss: 190191.7509 - mse: 190191.7509 - mae: 277.5749 - val_loss: 222060.3438 - val_mse: 222060.3438 - val_mae: 317.5989\n",
            "Epoch 42/50\n",
            "644/644 [==============================] - 1s 2ms/step - loss: 187281.5187 - mse: 187281.5187 - mae: 275.8913 - val_loss: 194027.4375 - val_mse: 194027.4375 - val_mae: 291.9660\n",
            "Epoch 43/50\n",
            "644/644 [==============================] - 1s 2ms/step - loss: 189114.4280 - mse: 189114.4280 - mae: 277.5370 - val_loss: 264555.7500 - val_mse: 264555.7500 - val_mae: 351.3824\n",
            "Epoch 44/50\n",
            "644/644 [==============================] - 1s 2ms/step - loss: 188734.0976 - mse: 188734.0977 - mae: 275.7391 - val_loss: 206579.5625 - val_mse: 206579.5625 - val_mae: 285.7480\n",
            "Epoch 45/50\n",
            "644/644 [==============================] - 1s 2ms/step - loss: 188931.8185 - mse: 188931.8185 - mae: 275.8077 - val_loss: 199676.1250 - val_mse: 199676.1250 - val_mae: 278.8944\n",
            "Epoch 46/50\n",
            "644/644 [==============================] - 1s 2ms/step - loss: 182840.8080 - mse: 182840.8080 - mae: 272.5334 - val_loss: 189491.3750 - val_mse: 189491.3750 - val_mae: 273.3111\n",
            "Epoch 47/50\n",
            "644/644 [==============================] - 1s 2ms/step - loss: 187402.8926 - mse: 187402.8926 - mae: 274.5865 - val_loss: 195768.7188 - val_mse: 195768.7188 - val_mae: 290.0363\n",
            "Epoch 48/50\n",
            "644/644 [==============================] - 1s 2ms/step - loss: 184961.8139 - mse: 184961.8139 - mae: 273.9088 - val_loss: 230514.9375 - val_mse: 230514.9375 - val_mae: 302.1715\n",
            "Epoch 49/50\n",
            "644/644 [==============================] - 1s 2ms/step - loss: 186504.3676 - mse: 186504.3578 - mae: 274.4363 - val_loss: 206340.5312 - val_mse: 206340.5312 - val_mae: 285.7071\n",
            "Epoch 50/50\n",
            "644/644 [==============================] - 1s 2ms/step - loss: 180586.7786 - mse: 180586.7787 - mae: 271.1680 - val_loss: 253555.6250 - val_mse: 253555.6250 - val_mae: 313.5346\n"
          ],
          "name": "stdout"
        }
      ]
    },
    {
      "cell_type": "code",
      "metadata": {
        "colab": {
          "base_uri": "https://localhost:8080/",
          "height": 552
        },
        "id": "A_669ND34A0G",
        "outputId": "476627c7-0a16-4597-bea4-03d4c5e73084"
      },
      "source": [
        "def plot_history(history):\n",
        "  hist = pd.DataFrame(history.history)\n",
        "  hist['epoch'] = history.epoch\n",
        "\n",
        "  plt.figure()\n",
        "  plt.xlabel('Epoch')\n",
        "  plt.ylabel('Mean Abs Error [MPG]')\n",
        "  plt.plot(hist['epoch'], hist['mae'],\n",
        "           label='Train Error')\n",
        "  plt.plot(hist['epoch'], hist['val_mae'],\n",
        "           label = 'Val Error')\n",
        "  plt.legend()\n",
        "\n",
        "  plt.figure()\n",
        "  plt.xlabel('Epoch')\n",
        "  plt.ylabel('Mean Square Error [$MPG^2$]')\n",
        "  plt.plot(hist['epoch'], hist['mse'],\n",
        "           label='Train Error')\n",
        "  plt.plot(hist['epoch'], hist['val_mse'],\n",
        "           label = 'Val Error')\n",
        "  plt.legend()\n",
        "  plt.show()\n",
        "\n",
        "\n",
        "plot_history(history)"
      ],
      "execution_count": null,
      "outputs": [
        {
          "output_type": "display_data",
          "data": {
            "image/png": "[encoded data removed]",
            "text/plain": [
              "<Figure size 432x288 with 1 Axes>"
            ]
          },
          "metadata": {
            "tags": []
          }
        },
        {
          "output_type": "display_data",
          "data": {
            "image/png": "[encoded data removed]",
            "text/plain": [
              "<Figure size 432x288 with 1 Axes>"
            ]
          },
          "metadata": {
            "tags": []
          }
        }
      ]
    },
    {
      "cell_type": "code",
      "metadata": {
        "colab": {
          "base_uri": "https://localhost:8080/",
          "height": 204
        },
        "id": "Ua_yUhB9pfOH",
        "outputId": "508dc87a-10be-44b0-c791-ea6fd07ecfc6"
      },
      "source": [
        "hist = pd.DataFrame(history.history)\n",
        "hist['epoch'] = history.epoch\n",
        "hist.tail()"
      ],
      "execution_count": null,
      "outputs": [
        {
          "output_type": "execute_result",
          "data": {
            "text/html": [
              "<div>\n",
              "<style scoped>\n",
              "    .dataframe tbody tr th:only-of-type {\n",
              "        vertical-align: middle;\n",
              "    }\n",
              "\n",
              "    .dataframe tbody tr th {\n",
              "        vertical-align: top;\n",
              "    }\n",
              "\n",
              "    .dataframe thead th {\n",
              "        text-align: right;\n",
              "    }\n",
              "</style>\n",
              "<table border=\"1\" class=\"dataframe\">\n",
              "  <thead>\n",
              "    <tr style=\"text-align: right;\">\n",
              "      <th></th>\n",
              "      <th>loss</th>\n",
              "      <th>mse</th>\n",
              "      <th>mae</th>\n",
              "      <th>val_loss</th>\n",
              "      <th>val_mse</th>\n",
              "      <th>val_mae</th>\n",
              "      <th>epoch</th>\n",
              "    </tr>\n",
              "  </thead>\n",
              "  <tbody>\n",
              "    <tr>\n",
              "      <th>45</th>\n",
              "      <td>185287.984375</td>\n",
              "      <td>185287.984375</td>\n",
              "      <td>273.504333</td>\n",
              "      <td>189491.37500</td>\n",
              "      <td>189491.37500</td>\n",
              "      <td>273.311066</td>\n",
              "      <td>45</td>\n",
              "    </tr>\n",
              "    <tr>\n",
              "      <th>46</th>\n",
              "      <td>185665.968750</td>\n",
              "      <td>185665.968750</td>\n",
              "      <td>273.701294</td>\n",
              "      <td>195768.71875</td>\n",
              "      <td>195768.71875</td>\n",
              "      <td>290.036346</td>\n",
              "      <td>46</td>\n",
              "    </tr>\n",
              "    <tr>\n",
              "      <th>47</th>\n",
              "      <td>185389.937500</td>\n",
              "      <td>185389.937500</td>\n",
              "      <td>273.600769</td>\n",
              "      <td>230514.93750</td>\n",
              "      <td>230514.93750</td>\n",
              "      <td>302.171509</td>\n",
              "      <td>47</td>\n",
              "    </tr>\n",
              "    <tr>\n",
              "      <th>48</th>\n",
              "      <td>183914.937500</td>\n",
              "      <td>183914.937500</td>\n",
              "      <td>272.492950</td>\n",
              "      <td>206340.53125</td>\n",
              "      <td>206340.53125</td>\n",
              "      <td>285.707123</td>\n",
              "      <td>48</td>\n",
              "    </tr>\n",
              "    <tr>\n",
              "      <th>49</th>\n",
              "      <td>183646.406250</td>\n",
              "      <td>183646.406250</td>\n",
              "      <td>272.391083</td>\n",
              "      <td>253555.62500</td>\n",
              "      <td>253555.62500</td>\n",
              "      <td>313.534607</td>\n",
              "      <td>49</td>\n",
              "    </tr>\n",
              "  </tbody>\n",
              "</table>\n",
              "</div>"
            ],
            "text/plain": [
              "             loss            mse         mae  ...       val_mse     val_mae  epoch\n",
              "45  185287.984375  185287.984375  273.504333  ...  189491.37500  273.311066     45\n",
              "46  185665.968750  185665.968750  273.701294  ...  195768.71875  290.036346     46\n",
              "47  185389.937500  185389.937500  273.600769  ...  230514.93750  302.171509     47\n",
              "48  183914.937500  183914.937500  272.492950  ...  206340.53125  285.707123     48\n",
              "49  183646.406250  183646.406250  272.391083  ...  253555.62500  313.534607     49\n",
              "\n",
              "[5 rows x 7 columns]"
            ]
          },
          "metadata": {
            "tags": []
          },
          "execution_count": 126
        }
      ]
    },
    {
      "cell_type": "code",
      "metadata": {
        "colab": {
          "base_uri": "https://localhost:8080/"
        },
        "id": "MUGAIackqQ7p",
        "outputId": "502e56d8-40d6-4355-dc51-d081d7528c1a"
      },
      "source": [
        "y_pred = model3.predict(X_test)\n",
        "y_pred2=y_pred>0\n",
        "y_test2=y_test>0\n",
        "sum(y_pred2)"
      ],
      "execution_count": null,
      "outputs": [
        {
          "output_type": "execute_result",
          "data": {
            "text/plain": [
              "array([11007])"
            ]
          },
          "metadata": {
            "tags": []
          },
          "execution_count": 127
        }
      ]
    },
    {
      "cell_type": "code",
      "metadata": {
        "colab": {
          "base_uri": "https://localhost:8080/"
        },
        "id": "mLwtFFG13h4Z",
        "outputId": "3e5312db-0560-4c69-bf6d-63bbdd705a61"
      },
      "source": [
        "sum(y_test2)"
      ],
      "execution_count": null,
      "outputs": [
        {
          "output_type": "execute_result",
          "data": {
            "text/plain": [
              "10317"
            ]
          },
          "metadata": {
            "tags": []
          },
          "execution_count": 128
        }
      ]
    },
    {
      "cell_type": "code",
      "metadata": {
        "colab": {
          "base_uri": "https://localhost:8080/",
          "height": 348
        },
        "id": "GwtVjuIWqY15",
        "outputId": "50f70e15-bef4-4648-a232-5db6c62800b0"
      },
      "source": [
        "from sklearn.metrics import confusion_matrix\n",
        "def plot_confusion_matrix(cm, classes,\n",
        "                          normalize=False,\n",
        "                          title='Confusion matrix',\n",
        "                          cmap=plt.cm.Blues):\n",
        "    \"\"\"\n",
        "    This function prints and plots the confusion matrix.\n",
        "    Normalization can be applied by setting `normalize=True`.\n",
        "    \"\"\"\n",
        "    if normalize:\n",
        "        cm = cm.astype('float') / cm.sum(axis=1)[:, np.newaxis]\n",
        "        print(\"Normalized confusion matrix\")\n",
        "    else:\n",
        "        print('Confusion matrix, without normalization')\n",
        "\n",
        "    print(cm)\n",
        "\n",
        "    plt.imshow(cm, interpolation='nearest', cmap=cmap)\n",
        "    plt.title(title)\n",
        "    plt.colorbar()\n",
        "    tick_marks = np.arange(len(classes))\n",
        "    plt.xticks(tick_marks, classes, rotation=45)\n",
        "    plt.yticks(tick_marks, classes)\n",
        "\n",
        "    fmt = '.2f' if normalize else 'd'\n",
        "    thresh = cm.max() / 2.\n",
        "    for i, j in itertools.product(range(cm.shape[0]), range(cm.shape[1])):\n",
        "        plt.text(j, i, format(cm[i, j], fmt),\n",
        "                 horizontalalignment=\"center\",\n",
        "                 color=\"white\" if cm[i, j] > thresh else \"black\")\n",
        "\n",
        "    plt.ylabel('True label')\n",
        "    plt.xlabel('Predicted label')\n",
        "    plt.tight_layout()\n",
        " \n",
        "plot_confusion_matrix(confusion_matrix(y_test2, y_pred2),['Dead','Alive'])"
      ],
      "execution_count": null,
      "outputs": [
        {
          "output_type": "stream",
          "text": [
            "Confusion matrix, without normalization\n",
            "[[4687 1076]\n",
            " [ 386 9931]]\n"
          ],
          "name": "stdout"
        },
        {
          "output_type": "display_data",
          "data": {
            "image/png": "[encoded data removed]",
            "text/plain": [
              "<Figure size 432x288 with 2 Axes>"
            ]
          },
          "metadata": {
            "tags": []
          }
        }
      ]
    },
    {
      "cell_type": "code",
      "metadata": {
        "colab": {
          "base_uri": "https://localhost:8080/"
        },
        "id": "8roN1kAt4rXl",
        "outputId": "a6061be4-c559-4254-bb2d-fe3a9991b66a"
      },
      "source": [
        "import sklearn.metrics\n",
        "print(f'f1 score: {sklearn.metrics.f1_score(y_test2, y_pred2)*100:.2f}%')\n",
        "print(f'Accuracy: {sklearn.metrics.accuracy_score(y_test2, y_pred2)*100:.2f}%')"
      ],
      "execution_count": null,
      "outputs": [
        {
          "output_type": "stream",
          "text": [
            "f1 score: 93.14%\n",
            "Accuracy: 90.91%\n"
          ],
          "name": "stdout"
        }
      ]
    },
    {
      "cell_type": "code",
      "metadata": {
        "id": "Sgjd6ZPE4hTx"
      },
      "source": [
        "model3.save('/content/model3.h5')"
      ],
      "execution_count": null,
      "outputs": []
    },
    {
      "cell_type": "markdown",
      "metadata": {
        "id": "skkS9y5dfjhI"
      },
      "source": [
        "----\n",
        "## **Model4: Overfitting Prevent**\n",
        "### **Model3 improvement (dropout & L2 regularization， reducing number of hidden layer)**\n",
        "refence: Dropout: A Simple Way to Prevent Neural Networks from\n",
        "Overfitting\n",
        "https://www.jmlr.org/papers/volume15/srivastava14a/srivastava14a.pdf"
      ]
    },
    {
      "cell_type": "code",
      "metadata": {
        "colab": {
          "base_uri": "https://localhost:8080/",
          "height": 435
        },
        "id": "6Ttn5-E_O8D3",
        "outputId": "83ba1d01-d722-4f17-80eb-83f7d9d9edae"
      },
      "source": [
        "indexNames = dataset[ (dataset['temperature'] == 25)\n",
        "                & (dataset['stressing current'] == 60)& (dataset['performing hour']>=15) ].index\n",
        "df_dropped=dataset.drop(indexNames).reset_index().iloc[:,1:]\n",
        "indexNames = df_dropped[ (df_dropped['temperature'] == 60)\n",
        "                & (df_dropped['stressing current'] == 60)& (df_dropped['performing hour']>=11) ].index\n",
        "df_dropped=df_dropped.drop(indexNames).reset_index().iloc[:,1:]\n",
        "from sklearn.utils import shuffle\n",
        "df_dropped=shuffle(df_dropped)\n",
        "df_dropped['temperature']=df_dropped['temperature']+273\n",
        "df_dropped"
      ],
      "execution_count": null,
      "outputs": [
        {
          "output_type": "execute_result",
          "data": {
            "text/html": [
              "<div>\n",
              "<style scoped>\n",
              "    .dataframe tbody tr th:only-of-type {\n",
              "        vertical-align: middle;\n",
              "    }\n",
              "\n",
              "    .dataframe tbody tr th {\n",
              "        vertical-align: top;\n",
              "    }\n",
              "\n",
              "    .dataframe thead th {\n",
              "        text-align: right;\n",
              "    }\n",
              "</style>\n",
              "<table border=\"1\" class=\"dataframe\">\n",
              "  <thead>\n",
              "    <tr style=\"text-align: right;\">\n",
              "      <th></th>\n",
              "      <th>LED</th>\n",
              "      <th>temperature</th>\n",
              "      <th>stressing current</th>\n",
              "      <th>performing hour</th>\n",
              "      <th>input voltage</th>\n",
              "      <th>reverse saturated current</th>\n",
              "      <th>light intensity</th>\n",
              "    </tr>\n",
              "  </thead>\n",
              "  <tbody>\n",
              "    <tr>\n",
              "      <th>68666</th>\n",
              "      <td>E</td>\n",
              "      <td>298</td>\n",
              "      <td>80</td>\n",
              "      <td>12.0</td>\n",
              "      <td>1.25</td>\n",
              "      <td>1.330000e-11</td>\n",
              "      <td>0</td>\n",
              "    </tr>\n",
              "    <tr>\n",
              "      <th>45889</th>\n",
              "      <td>D</td>\n",
              "      <td>298</td>\n",
              "      <td>40</td>\n",
              "      <td>0.0</td>\n",
              "      <td>-1.95</td>\n",
              "      <td>-5.270000e-10</td>\n",
              "      <td>2224</td>\n",
              "    </tr>\n",
              "    <tr>\n",
              "      <th>32690</th>\n",
              "      <td>C</td>\n",
              "      <td>298</td>\n",
              "      <td>40</td>\n",
              "      <td>10.0</td>\n",
              "      <td>1.40</td>\n",
              "      <td>3.230000e-12</td>\n",
              "      <td>2551</td>\n",
              "    </tr>\n",
              "    <tr>\n",
              "      <th>11479</th>\n",
              "      <td>A</td>\n",
              "      <td>333</td>\n",
              "      <td>60</td>\n",
              "      <td>9.0</td>\n",
              "      <td>-3.90</td>\n",
              "      <td>-2.600000e-10</td>\n",
              "      <td>366</td>\n",
              "    </tr>\n",
              "    <tr>\n",
              "      <th>44593</th>\n",
              "      <td>C</td>\n",
              "      <td>333</td>\n",
              "      <td>80</td>\n",
              "      <td>5.5</td>\n",
              "      <td>3.60</td>\n",
              "      <td>5.247730e-02</td>\n",
              "      <td>0</td>\n",
              "    </tr>\n",
              "    <tr>\n",
              "      <th>...</th>\n",
              "      <td>...</td>\n",
              "      <td>...</td>\n",
              "      <td>...</td>\n",
              "      <td>...</td>\n",
              "      <td>...</td>\n",
              "      <td>...</td>\n",
              "      <td>...</td>\n",
              "    </tr>\n",
              "    <tr>\n",
              "      <th>5726</th>\n",
              "      <td>A</td>\n",
              "      <td>298</td>\n",
              "      <td>80</td>\n",
              "      <td>3.0</td>\n",
              "      <td>-0.10</td>\n",
              "      <td>-1.610000e-10</td>\n",
              "      <td>403</td>\n",
              "    </tr>\n",
              "    <tr>\n",
              "      <th>48739</th>\n",
              "      <td>D</td>\n",
              "      <td>298</td>\n",
              "      <td>60</td>\n",
              "      <td>4.0</td>\n",
              "      <td>-0.15</td>\n",
              "      <td>-4.800000e-10</td>\n",
              "      <td>2752</td>\n",
              "    </tr>\n",
              "    <tr>\n",
              "      <th>49769</th>\n",
              "      <td>D</td>\n",
              "      <td>298</td>\n",
              "      <td>60</td>\n",
              "      <td>9.0</td>\n",
              "      <td>1.10</td>\n",
              "      <td>-3.710000e-10</td>\n",
              "      <td>2409</td>\n",
              "    </tr>\n",
              "    <tr>\n",
              "      <th>6246</th>\n",
              "      <td>A</td>\n",
              "      <td>298</td>\n",
              "      <td>80</td>\n",
              "      <td>6.0</td>\n",
              "      <td>-4.25</td>\n",
              "      <td>-1.170000e-10</td>\n",
              "      <td>0</td>\n",
              "    </tr>\n",
              "    <tr>\n",
              "      <th>1089</th>\n",
              "      <td>A</td>\n",
              "      <td>298</td>\n",
              "      <td>40</td>\n",
              "      <td>5.0</td>\n",
              "      <td>-0.80</td>\n",
              "      <td>-4.710000e-10</td>\n",
              "      <td>3209</td>\n",
              "    </tr>\n",
              "  </tbody>\n",
              "</table>\n",
              "<p>76380 rows × 7 columns</p>\n",
              "</div>"
            ],
            "text/plain": [
              "      LED  temperature  ...  reverse saturated current  light intensity\n",
              "68666   E          298  ...               1.330000e-11                0\n",
              "45889   D          298  ...              -5.270000e-10             2224\n",
              "32690   C          298  ...               3.230000e-12             2551\n",
              "11479   A          333  ...              -2.600000e-10              366\n",
              "44593   C          333  ...               5.247730e-02                0\n",
              "...    ..          ...  ...                        ...              ...\n",
              "5726    A          298  ...              -1.610000e-10              403\n",
              "48739   D          298  ...              -4.800000e-10             2752\n",
              "49769   D          298  ...              -3.710000e-10             2409\n",
              "6246    A          298  ...              -1.170000e-10                0\n",
              "1089    A          298  ...              -4.710000e-10             3209\n",
              "\n",
              "[76380 rows x 7 columns]"
            ]
          },
          "metadata": {
            "tags": []
          },
          "execution_count": 20
        }
      ]
    },
    {
      "cell_type": "code",
      "metadata": {
        "id": "028m2nTDuo4t"
      },
      "source": [
        "indexNames = df_dropped[ (df_dropped['temperature'] == 25)\n",
        "                & (df_dropped['stressing current'] == 60)& (df_dropped['performing hour']>=15) ].index\n",
        "df_dropped=df_dropped.drop(indexNames).reset_index().iloc[:,1:]"
      ],
      "execution_count": null,
      "outputs": []
    },
    {
      "cell_type": "code",
      "metadata": {
        "colab": {
          "base_uri": "https://localhost:8080/"
        },
        "id": "Y1i0Za-wO_Hj",
        "outputId": "b066461c-783f-47a6-c11e-c28bd8226f7d"
      },
      "source": [
        "#add row with LI=0\n",
        "t=0\n",
        "new=pd.DataFrame(columns=['LED','temperature','stressing current','performing hour','input voltage','reverse saturated current','light intensity'])\n",
        "for row,content in df_dropped[df_dropped['light intensity']==0].iterrows():\n",
        "  if t%1000==0:\n",
        "    print(t)\n",
        "  if t>20000:\n",
        "    break\n",
        "  else:\n",
        "    t+=1\n",
        "  LED=content[0]\n",
        "  temperature=content[1]\n",
        "  current=content[2]\n",
        "  hour=content[3]\n",
        "  voltage=content[4]\n",
        "  rsc=content[5]\n",
        "  for h in range(1,5):\n",
        "    new=new.append({'LED':LED,\n",
        "            'temperature':temperature,\n",
        "            'stressing current':current,\n",
        "            'performing hour':hour+h,\n",
        "            'input voltage':voltage,\n",
        "            'reverse saturated current':rsc,'light intensity':0},ignore_index=True)\n",
        "new=new.drop_duplicates()"
      ],
      "execution_count": null,
      "outputs": [
        {
          "output_type": "stream",
          "text": [
            "0\n",
            "1000\n",
            "2000\n",
            "3000\n",
            "4000\n",
            "5000\n",
            "6000\n",
            "7000\n",
            "8000\n",
            "9000\n",
            "10000\n",
            "11000\n",
            "12000\n",
            "13000\n",
            "14000\n",
            "15000\n",
            "16000\n",
            "17000\n",
            "18000\n",
            "19000\n",
            "20000\n"
          ],
          "name": "stdout"
        }
      ]
    },
    {
      "cell_type": "code",
      "metadata": {
        "colab": {
          "base_uri": "https://localhost:8080/",
          "height": 435
        },
        "id": "56K0XjCmPE6I",
        "outputId": "1e77a903-0e1d-45c2-ebef-6e585e49b666"
      },
      "source": [
        "df_dropped=pd.concat([df_dropped,new]).drop_duplicates()\n",
        "df_dropped"
      ],
      "execution_count": null,
      "outputs": [
        {
          "output_type": "execute_result",
          "data": {
            "text/html": [
              "<div>\n",
              "<style scoped>\n",
              "    .dataframe tbody tr th:only-of-type {\n",
              "        vertical-align: middle;\n",
              "    }\n",
              "\n",
              "    .dataframe tbody tr th {\n",
              "        vertical-align: top;\n",
              "    }\n",
              "\n",
              "    .dataframe thead th {\n",
              "        text-align: right;\n",
              "    }\n",
              "</style>\n",
              "<table border=\"1\" class=\"dataframe\">\n",
              "  <thead>\n",
              "    <tr style=\"text-align: right;\">\n",
              "      <th></th>\n",
              "      <th>LED</th>\n",
              "      <th>temperature</th>\n",
              "      <th>stressing current</th>\n",
              "      <th>performing hour</th>\n",
              "      <th>input voltage</th>\n",
              "      <th>reverse saturated current</th>\n",
              "      <th>light intensity</th>\n",
              "    </tr>\n",
              "  </thead>\n",
              "  <tbody>\n",
              "    <tr>\n",
              "      <th>0</th>\n",
              "      <td>E</td>\n",
              "      <td>298</td>\n",
              "      <td>80</td>\n",
              "      <td>12.0</td>\n",
              "      <td>1.25</td>\n",
              "      <td>1.330000e-11</td>\n",
              "      <td>0</td>\n",
              "    </tr>\n",
              "    <tr>\n",
              "      <th>1</th>\n",
              "      <td>D</td>\n",
              "      <td>298</td>\n",
              "      <td>40</td>\n",
              "      <td>0.0</td>\n",
              "      <td>-1.95</td>\n",
              "      <td>-5.270000e-10</td>\n",
              "      <td>2224</td>\n",
              "    </tr>\n",
              "    <tr>\n",
              "      <th>2</th>\n",
              "      <td>C</td>\n",
              "      <td>298</td>\n",
              "      <td>40</td>\n",
              "      <td>10.0</td>\n",
              "      <td>1.40</td>\n",
              "      <td>3.230000e-12</td>\n",
              "      <td>2551</td>\n",
              "    </tr>\n",
              "    <tr>\n",
              "      <th>3</th>\n",
              "      <td>A</td>\n",
              "      <td>333</td>\n",
              "      <td>60</td>\n",
              "      <td>9.0</td>\n",
              "      <td>-3.90</td>\n",
              "      <td>-2.600000e-10</td>\n",
              "      <td>366</td>\n",
              "    </tr>\n",
              "    <tr>\n",
              "      <th>4</th>\n",
              "      <td>C</td>\n",
              "      <td>333</td>\n",
              "      <td>80</td>\n",
              "      <td>5.5</td>\n",
              "      <td>3.60</td>\n",
              "      <td>5.247730e-02</td>\n",
              "      <td>0</td>\n",
              "    </tr>\n",
              "    <tr>\n",
              "      <th>...</th>\n",
              "      <td>...</td>\n",
              "      <td>...</td>\n",
              "      <td>...</td>\n",
              "      <td>...</td>\n",
              "      <td>...</td>\n",
              "      <td>...</td>\n",
              "      <td>...</td>\n",
              "    </tr>\n",
              "    <tr>\n",
              "      <th>79995</th>\n",
              "      <td>B</td>\n",
              "      <td>333</td>\n",
              "      <td>80</td>\n",
              "      <td>8.0</td>\n",
              "      <td>1.55</td>\n",
              "      <td>5.380000e-10</td>\n",
              "      <td>0</td>\n",
              "    </tr>\n",
              "    <tr>\n",
              "      <th>80000</th>\n",
              "      <td>E</td>\n",
              "      <td>333</td>\n",
              "      <td>80</td>\n",
              "      <td>4.0</td>\n",
              "      <td>3.20</td>\n",
              "      <td>3.367530e-02</td>\n",
              "      <td>0</td>\n",
              "    </tr>\n",
              "    <tr>\n",
              "      <th>80001</th>\n",
              "      <td>E</td>\n",
              "      <td>333</td>\n",
              "      <td>80</td>\n",
              "      <td>5.0</td>\n",
              "      <td>3.20</td>\n",
              "      <td>3.367530e-02</td>\n",
              "      <td>0</td>\n",
              "    </tr>\n",
              "    <tr>\n",
              "      <th>80002</th>\n",
              "      <td>E</td>\n",
              "      <td>333</td>\n",
              "      <td>80</td>\n",
              "      <td>6.0</td>\n",
              "      <td>3.20</td>\n",
              "      <td>3.367530e-02</td>\n",
              "      <td>0</td>\n",
              "    </tr>\n",
              "    <tr>\n",
              "      <th>80003</th>\n",
              "      <td>E</td>\n",
              "      <td>333</td>\n",
              "      <td>80</td>\n",
              "      <td>7.0</td>\n",
              "      <td>3.20</td>\n",
              "      <td>3.367530e-02</td>\n",
              "      <td>0</td>\n",
              "    </tr>\n",
              "  </tbody>\n",
              "</table>\n",
              "<p>151855 rows × 7 columns</p>\n",
              "</div>"
            ],
            "text/plain": [
              "      LED temperature  ... reverse saturated current  light intensity\n",
              "0       E         298  ...              1.330000e-11                0\n",
              "1       D         298  ...             -5.270000e-10             2224\n",
              "2       C         298  ...              3.230000e-12             2551\n",
              "3       A         333  ...             -2.600000e-10              366\n",
              "4       C         333  ...              5.247730e-02                0\n",
              "...    ..         ...  ...                       ...              ...\n",
              "79995   B         333  ...              5.380000e-10                0\n",
              "80000   E         333  ...              3.367530e-02                0\n",
              "80001   E         333  ...              3.367530e-02                0\n",
              "80002   E         333  ...              3.367530e-02                0\n",
              "80003   E         333  ...              3.367530e-02                0\n",
              "\n",
              "[151855 rows x 7 columns]"
            ]
          },
          "metadata": {
            "tags": []
          },
          "execution_count": 24
        }
      ]
    },
    {
      "cell_type": "code",
      "metadata": {
        "id": "EZQ49aLfPK84"
      },
      "source": [
        "X = df_dropped.iloc[:,1:5].values\n",
        "X=np.asarray(X).astype('float32')\n",
        "y = df_dropped.iloc[:,6].values\n",
        "y=np.asarray(y).astype('float32')\n",
        "from sklearn.model_selection import train_test_split\n",
        "X_train, X_test, y_train, y_test = train_test_split(X, y, test_size = 0.2, random_state = 0)"
      ],
      "execution_count": null,
      "outputs": []
    },
    {
      "cell_type": "code",
      "metadata": {
        "id": "GWuwX0A7f_Mv",
        "colab": {
          "base_uri": "https://localhost:8080/"
        },
        "outputId": "2d23b22b-9f77-497f-a011-88b9bb7fe252"
      },
      "source": [
        "# Importing the Keras libraries and packages\n",
        "import keras\n",
        "from keras.models import Sequential\n",
        "from keras.layers import Dense\n",
        "from keras.layers import Dropout\n",
        "from keras import regularizers\n",
        "\n",
        "optimizer = keras.optimizers.RMSprop(0.001)\n",
        "#optimizer = keras.optimizers.Nadam()\n",
        "# Initialising the DNN\n",
        "model4 = Sequential()\n",
        "\n",
        "# Adding the input layer and the first hidden layer\n",
        "model4.add(Dense(units = 12, activation = 'relu', input_dim = 4, kernel_regularizer=regularizers.l1(0.01)))\n",
        "model4.add(Dropout(0.2))\n",
        "model4.add(Dense(units = 12, activation = 'relu', kernel_regularizer=regularizers.l1(0.01)))\n",
        "\n",
        "model4.add(Dense(units = 12, activation = 'relu', kernel_regularizer=regularizers.l1(0.01)))\n",
        "\n",
        "model4.add(Dense(units = 12, activation = 'relu', kernel_regularizer=regularizers.l1(0.01)))\n",
        "\n",
        "model4.add(Dense(units = 12, activation = 'relu', kernel_regularizer=regularizers.l1(0.01)))\n",
        "\n",
        "\n",
        "# Adding the output layer\n",
        "model4.add(Dense(units = 1, activation = 'relu'))\n",
        "\n",
        "# Compiling the DNN\n",
        "model4.compile(optimizer = optimizer, loss = 'mse', metrics = ['mse','mae'])\n",
        "\n",
        "# Fitting the DNN to the Training set\n",
        "history = model4.fit(X_train, y_train, batch_size = 100, epochs = 100, validation_split = 0.2,verbose=1)"
      ],
      "execution_count": null,
      "outputs": [
        {
          "output_type": "stream",
          "text": [
            "Epoch 1/100\n",
            "972/972 [==============================] - 3s 2ms/step - loss: 1659436.7779 - mse: 1659435.8485 - mae: 839.9456 - val_loss: 762353.8750 - val_mse: 762352.6250 - val_mae: 612.1014\n",
            "Epoch 2/100\n",
            "972/972 [==============================] - 1s 1ms/step - loss: 752596.7122 - mse: 752595.5109 - mae: 587.8386 - val_loss: 620402.5000 - val_mse: 620400.9375 - val_mae: 508.2913\n",
            "Epoch 3/100\n",
            "972/972 [==============================] - 1s 1ms/step - loss: 632587.0690 - mse: 632585.1889 - mae: 541.2252 - val_loss: 527784.4375 - val_mse: 527782.6250 - val_mae: 440.7538\n",
            "Epoch 4/100\n",
            "972/972 [==============================] - 1s 1ms/step - loss: 545580.4718 - mse: 545578.3990 - mae: 486.3841 - val_loss: 429056.8750 - val_mse: 429054.5938 - val_mae: 366.0843\n",
            "Epoch 5/100\n",
            "972/972 [==============================] - 1s 1ms/step - loss: 446942.3825 - mse: 446940.1648 - mae: 415.1818 - val_loss: 398290.0625 - val_mse: 398287.7500 - val_mae: 344.1095\n",
            "Epoch 6/100\n",
            "972/972 [==============================] - 1s 1ms/step - loss: 404318.0223 - mse: 404315.7917 - mae: 382.6083 - val_loss: 347550.5938 - val_mse: 347547.7500 - val_mae: 315.3356\n",
            "Epoch 7/100\n",
            "972/972 [==============================] - 1s 1ms/step - loss: 362194.1905 - mse: 362191.3515 - mae: 354.0813 - val_loss: 211111.5312 - val_mse: 211108.6250 - val_mae: 250.0261\n",
            "Epoch 8/100\n",
            "972/972 [==============================] - 1s 1ms/step - loss: 306550.4559 - mse: 306547.4915 - mae: 318.8316 - val_loss: 185734.5312 - val_mse: 185731.4688 - val_mae: 214.5897\n",
            "Epoch 9/100\n",
            "972/972 [==============================] - 1s 1ms/step - loss: 288072.1415 - mse: 288069.1645 - mae: 293.8627 - val_loss: 169252.9688 - val_mse: 169249.7031 - val_mae: 207.0641\n",
            "Epoch 10/100\n",
            "972/972 [==============================] - 1s 1ms/step - loss: 268377.5109 - mse: 268374.2936 - mae: 277.2216 - val_loss: 149993.5781 - val_mse: 149990.2969 - val_mae: 187.7530\n",
            "Epoch 11/100\n",
            "972/972 [==============================] - 1s 1ms/step - loss: 254603.9754 - mse: 254600.7915 - mae: 267.8037 - val_loss: 164431.7031 - val_mse: 164428.4688 - val_mae: 194.2618\n",
            "Epoch 12/100\n",
            "972/972 [==============================] - 1s 1ms/step - loss: 251528.7668 - mse: 251525.6542 - mae: 263.8387 - val_loss: 138489.6406 - val_mse: 138486.3438 - val_mae: 181.5665\n",
            "Epoch 13/100\n",
            "972/972 [==============================] - 1s 1ms/step - loss: 245060.0657 - mse: 245056.6741 - mae: 257.1061 - val_loss: 198108.7812 - val_mse: 198105.3594 - val_mae: 212.7315\n",
            "Epoch 14/100\n",
            "972/972 [==============================] - 1s 1ms/step - loss: 238836.5648 - mse: 238833.2997 - mae: 252.1967 - val_loss: 173037.2969 - val_mse: 173033.9531 - val_mae: 203.1499\n",
            "Epoch 15/100\n",
            "972/972 [==============================] - 1s 1ms/step - loss: 236098.3015 - mse: 236094.8354 - mae: 249.5208 - val_loss: 168470.4062 - val_mse: 168467.0625 - val_mae: 196.2371\n",
            "Epoch 16/100\n",
            "972/972 [==============================] - 1s 1ms/step - loss: 228677.2399 - mse: 228673.7405 - mae: 242.1882 - val_loss: 204874.9688 - val_mse: 204871.4531 - val_mae: 218.1889\n",
            "Epoch 17/100\n",
            "972/972 [==============================] - 1s 1ms/step - loss: 229643.4445 - mse: 229639.7592 - mae: 241.4756 - val_loss: 188898.5000 - val_mse: 188895.0000 - val_mae: 207.6920\n",
            "Epoch 18/100\n",
            "972/972 [==============================] - 1s 1ms/step - loss: 226991.8395 - mse: 226988.3162 - mae: 237.2845 - val_loss: 140266.2188 - val_mse: 140262.5938 - val_mae: 179.6052\n",
            "Epoch 19/100\n",
            "972/972 [==============================] - 1s 1ms/step - loss: 222249.1810 - mse: 222245.6882 - mae: 233.5619 - val_loss: 172732.6562 - val_mse: 172728.9688 - val_mae: 196.7020\n",
            "Epoch 20/100\n",
            "972/972 [==============================] - 1s 1ms/step - loss: 221081.4954 - mse: 221077.8213 - mae: 232.6019 - val_loss: 159995.5625 - val_mse: 159991.8750 - val_mae: 187.3391\n",
            "Epoch 21/100\n",
            "972/972 [==============================] - 1s 1ms/step - loss: 209481.4008 - mse: 209477.7189 - mae: 226.1819 - val_loss: 175069.3750 - val_mse: 175065.6719 - val_mae: 198.9434\n",
            "Epoch 22/100\n",
            "972/972 [==============================] - 1s 1ms/step - loss: 211998.2308 - mse: 211994.5557 - mae: 226.7046 - val_loss: 170907.3438 - val_mse: 170903.5469 - val_mae: 196.6704\n",
            "Epoch 23/100\n",
            "972/972 [==============================] - 1s 1ms/step - loss: 206585.1280 - mse: 206581.4597 - mae: 222.1793 - val_loss: 181039.2969 - val_mse: 181035.5469 - val_mae: 203.3206\n",
            "Epoch 24/100\n",
            "972/972 [==============================] - 1s 1ms/step - loss: 206270.3275 - mse: 206266.5200 - mae: 220.7228 - val_loss: 179923.6094 - val_mse: 179919.9375 - val_mae: 202.4448\n",
            "Epoch 25/100\n",
            "972/972 [==============================] - 1s 1ms/step - loss: 201104.3213 - mse: 201100.5524 - mae: 217.3182 - val_loss: 158345.2500 - val_mse: 158341.4062 - val_mae: 191.7212\n",
            "Epoch 26/100\n",
            "972/972 [==============================] - 1s 1ms/step - loss: 200726.4971 - mse: 200722.6539 - mae: 216.4179 - val_loss: 206082.8906 - val_mse: 206079.0625 - val_mae: 220.0026\n",
            "Epoch 27/100\n",
            "972/972 [==============================] - 1s 1ms/step - loss: 196655.1162 - mse: 196651.1722 - mae: 213.6921 - val_loss: 193952.7031 - val_mse: 193948.8594 - val_mae: 217.9335\n",
            "Epoch 28/100\n",
            "972/972 [==============================] - 1s 1ms/step - loss: 197548.8272 - mse: 197544.9200 - mae: 213.8714 - val_loss: 172584.1094 - val_mse: 172580.1875 - val_mae: 187.3931\n",
            "Epoch 29/100\n",
            "972/972 [==============================] - 1s 1ms/step - loss: 192553.0693 - mse: 192549.2204 - mae: 209.8229 - val_loss: 172745.4844 - val_mse: 172741.5938 - val_mae: 203.2886\n",
            "Epoch 30/100\n",
            "972/972 [==============================] - 1s 1ms/step - loss: 194966.7787 - mse: 194962.7628 - mae: 211.4256 - val_loss: 180896.5312 - val_mse: 180892.5312 - val_mae: 200.4358\n",
            "Epoch 31/100\n",
            "972/972 [==============================] - 1s 1ms/step - loss: 191861.9427 - mse: 191857.8557 - mae: 207.8321 - val_loss: 156991.5625 - val_mse: 156987.7188 - val_mae: 186.3557\n",
            "Epoch 32/100\n",
            "972/972 [==============================] - 1s 2ms/step - loss: 194954.9184 - mse: 194951.0755 - mae: 209.5408 - val_loss: 206325.9531 - val_mse: 206322.0469 - val_mae: 217.7966\n",
            "Epoch 33/100\n",
            "972/972 [==============================] - 1s 1ms/step - loss: 191274.7197 - mse: 191270.7233 - mae: 208.2588 - val_loss: 184815.3750 - val_mse: 184811.3906 - val_mae: 207.0132\n",
            "Epoch 34/100\n",
            "972/972 [==============================] - 1s 1ms/step - loss: 184215.9974 - mse: 184211.9575 - mae: 206.1940 - val_loss: 167039.0938 - val_mse: 167035.2188 - val_mae: 193.8192\n",
            "Epoch 35/100\n",
            "972/972 [==============================] - 1s 1ms/step - loss: 184342.9415 - mse: 184338.9140 - mae: 206.2204 - val_loss: 148673.2500 - val_mse: 148669.2344 - val_mae: 178.6942\n",
            "Epoch 36/100\n",
            "972/972 [==============================] - 1s 2ms/step - loss: 188860.6898 - mse: 188856.7351 - mae: 209.1569 - val_loss: 178112.8281 - val_mse: 178108.7812 - val_mae: 210.2797\n",
            "Epoch 37/100\n",
            "972/972 [==============================] - 1s 1ms/step - loss: 180527.8626 - mse: 180523.8044 - mae: 201.9388 - val_loss: 161600.9531 - val_mse: 161596.9062 - val_mae: 191.6958\n",
            "Epoch 38/100\n",
            "972/972 [==============================] - 1s 1ms/step - loss: 181351.3598 - mse: 181347.2729 - mae: 202.9110 - val_loss: 180558.4375 - val_mse: 180554.2969 - val_mae: 196.7493\n",
            "Epoch 39/100\n",
            "972/972 [==============================] - 1s 1ms/step - loss: 186064.5823 - mse: 186060.5254 - mae: 203.0154 - val_loss: 228722.6719 - val_mse: 228718.5625 - val_mae: 230.9234\n",
            "Epoch 40/100\n",
            "972/972 [==============================] - 1s 1ms/step - loss: 179454.5741 - mse: 179450.5828 - mae: 200.2832 - val_loss: 175157.2500 - val_mse: 175153.2188 - val_mae: 196.2125\n",
            "Epoch 41/100\n",
            "972/972 [==============================] - 1s 1ms/step - loss: 177212.6837 - mse: 177208.4871 - mae: 200.2217 - val_loss: 169243.3281 - val_mse: 169239.1562 - val_mae: 191.7508\n",
            "Epoch 42/100\n",
            "972/972 [==============================] - 1s 1ms/step - loss: 176303.6937 - mse: 176299.6704 - mae: 199.7982 - val_loss: 187118.1406 - val_mse: 187113.8906 - val_mae: 210.8589\n",
            "Epoch 43/100\n",
            "972/972 [==============================] - 1s 1ms/step - loss: 175422.1564 - mse: 175418.0916 - mae: 199.0692 - val_loss: 177435.5312 - val_mse: 177431.3438 - val_mae: 193.0079\n",
            "Epoch 44/100\n",
            "972/972 [==============================] - 1s 1ms/step - loss: 179916.5937 - mse: 179912.5031 - mae: 200.0885 - val_loss: 176903.5781 - val_mse: 176899.3594 - val_mae: 201.1035\n",
            "Epoch 45/100\n",
            "972/972 [==============================] - 1s 1ms/step - loss: 180026.9516 - mse: 180022.6869 - mae: 200.3341 - val_loss: 171117.2969 - val_mse: 171112.9844 - val_mae: 191.1500\n",
            "Epoch 46/100\n",
            "972/972 [==============================] - 1s 1ms/step - loss: 177072.8425 - mse: 177068.5451 - mae: 198.1202 - val_loss: 150777.5781 - val_mse: 150773.3750 - val_mae: 179.8226\n",
            "Epoch 47/100\n",
            "972/972 [==============================] - 1s 1ms/step - loss: 174798.5956 - mse: 174794.4810 - mae: 198.4443 - val_loss: 168774.9375 - val_mse: 168770.6562 - val_mae: 194.1251\n",
            "Epoch 48/100\n",
            "972/972 [==============================] - 1s 1ms/step - loss: 176743.8950 - mse: 176739.7166 - mae: 198.6025 - val_loss: 183754.4062 - val_mse: 183750.1094 - val_mae: 204.2742\n",
            "Epoch 49/100\n",
            "972/972 [==============================] - 1s 1ms/step - loss: 179277.7043 - mse: 179273.5024 - mae: 200.3169 - val_loss: 202374.3125 - val_mse: 202370.0312 - val_mae: 218.0298\n",
            "Epoch 50/100\n",
            "972/972 [==============================] - 1s 1ms/step - loss: 172317.8074 - mse: 172313.6633 - mae: 195.6608 - val_loss: 208409.4375 - val_mse: 208405.1719 - val_mae: 223.1314\n",
            "Epoch 51/100\n",
            "972/972 [==============================] - 1s 1ms/step - loss: 172639.4788 - mse: 172635.1874 - mae: 195.0310 - val_loss: 171901.0469 - val_mse: 171896.7812 - val_mae: 195.2488\n",
            "Epoch 52/100\n",
            "972/972 [==============================] - 1s 1ms/step - loss: 176547.2722 - mse: 176543.0555 - mae: 199.5495 - val_loss: 149730.0000 - val_mse: 149725.7188 - val_mae: 178.5384\n",
            "Epoch 53/100\n",
            "972/972 [==============================] - 2s 2ms/step - loss: 174164.1585 - mse: 174159.9767 - mae: 196.4914 - val_loss: 154928.3125 - val_mse: 154923.9219 - val_mae: 187.1473\n",
            "Epoch 54/100\n",
            "972/972 [==============================] - 1s 1ms/step - loss: 172943.8881 - mse: 172939.5923 - mae: 194.9289 - val_loss: 167243.5000 - val_mse: 167239.0781 - val_mae: 189.0105\n",
            "Epoch 55/100\n",
            "972/972 [==============================] - 1s 1ms/step - loss: 169459.4891 - mse: 169455.1479 - mae: 193.3116 - val_loss: 185024.1406 - val_mse: 185019.7500 - val_mae: 201.9249\n",
            "Epoch 56/100\n",
            "972/972 [==============================] - 1s 1ms/step - loss: 169344.5468 - mse: 169340.2777 - mae: 193.6096 - val_loss: 150969.9062 - val_mse: 150965.6719 - val_mae: 178.6001\n",
            "Epoch 57/100\n",
            "972/972 [==============================] - 1s 1ms/step - loss: 169341.1700 - mse: 169336.8017 - mae: 193.8917 - val_loss: 157746.1250 - val_mse: 157741.7500 - val_mae: 180.2541\n",
            "Epoch 58/100\n",
            "972/972 [==============================] - 1s 1ms/step - loss: 171021.5464 - mse: 171017.1825 - mae: 193.1357 - val_loss: 172498.8750 - val_mse: 172494.5312 - val_mae: 197.6155\n",
            "Epoch 59/100\n",
            "972/972 [==============================] - 1s 1ms/step - loss: 165834.6590 - mse: 165830.4002 - mae: 189.7649 - val_loss: 186145.8906 - val_mse: 186141.5469 - val_mae: 201.7592\n",
            "Epoch 60/100\n",
            "972/972 [==============================] - 1s 1ms/step - loss: 169271.7751 - mse: 169267.4291 - mae: 192.6429 - val_loss: 180677.9219 - val_mse: 180673.5625 - val_mae: 207.0168\n",
            "Epoch 61/100\n",
            "972/972 [==============================] - 1s 1ms/step - loss: 169141.6651 - mse: 169137.3518 - mae: 192.0652 - val_loss: 160050.5781 - val_mse: 160046.2500 - val_mae: 188.1722\n",
            "Epoch 62/100\n",
            "972/972 [==============================] - 1s 1ms/step - loss: 168737.7135 - mse: 168733.2650 - mae: 192.5662 - val_loss: 171736.6719 - val_mse: 171732.3750 - val_mae: 195.2540\n",
            "Epoch 63/100\n",
            "972/972 [==============================] - 1s 1ms/step - loss: 166784.8648 - mse: 166780.5430 - mae: 191.4800 - val_loss: 205817.4062 - val_mse: 205813.0156 - val_mae: 225.2131\n",
            "Epoch 64/100\n",
            "972/972 [==============================] - 1s 1ms/step - loss: 168520.2747 - mse: 168515.8287 - mae: 192.7291 - val_loss: 157586.2656 - val_mse: 157581.8125 - val_mae: 188.6190\n",
            "Epoch 65/100\n",
            "972/972 [==============================] - 1s 1ms/step - loss: 165377.0033 - mse: 165372.6618 - mae: 190.1285 - val_loss: 153092.6250 - val_mse: 153088.2344 - val_mae: 179.4611\n",
            "Epoch 66/100\n",
            "972/972 [==============================] - 1s 1ms/step - loss: 167658.4716 - mse: 167654.1037 - mae: 190.8747 - val_loss: 183494.9219 - val_mse: 183490.5000 - val_mae: 204.8999\n",
            "Epoch 67/100\n",
            "972/972 [==============================] - 1s 2ms/step - loss: 167290.7892 - mse: 167286.3556 - mae: 190.9599 - val_loss: 172581.5312 - val_mse: 172577.0781 - val_mae: 197.1420\n",
            "Epoch 68/100\n",
            "972/972 [==============================] - 1s 1ms/step - loss: 167115.5513 - mse: 167111.1589 - mae: 189.7396 - val_loss: 152253.7969 - val_mse: 152249.4844 - val_mae: 176.2843\n",
            "Epoch 69/100\n",
            "972/972 [==============================] - 1s 1ms/step - loss: 165146.0499 - mse: 165141.6137 - mae: 187.4697 - val_loss: 172124.2656 - val_mse: 172119.8906 - val_mae: 192.2961\n",
            "Epoch 70/100\n",
            "972/972 [==============================] - 1s 1ms/step - loss: 165483.0649 - mse: 165478.6570 - mae: 188.2882 - val_loss: 136848.3125 - val_mse: 136843.7969 - val_mae: 173.7652\n",
            "Epoch 71/100\n",
            "972/972 [==============================] - 1s 1ms/step - loss: 164094.2386 - mse: 164089.8882 - mae: 188.3739 - val_loss: 157529.7969 - val_mse: 157525.3438 - val_mae: 185.9754\n",
            "Epoch 72/100\n",
            "972/972 [==============================] - 1s 1ms/step - loss: 163287.3087 - mse: 163282.8169 - mae: 190.2694 - val_loss: 146106.2344 - val_mse: 146101.7812 - val_mae: 176.3081\n",
            "Epoch 73/100\n",
            "972/972 [==============================] - 2s 2ms/step - loss: 162284.3549 - mse: 162279.8905 - mae: 186.0814 - val_loss: 167652.2812 - val_mse: 167647.7656 - val_mae: 194.6691\n",
            "Epoch 74/100\n",
            "972/972 [==============================] - 1s 1ms/step - loss: 164549.1364 - mse: 164544.7152 - mae: 188.1860 - val_loss: 162755.4219 - val_mse: 162750.9688 - val_mae: 184.9514\n",
            "Epoch 75/100\n",
            "972/972 [==============================] - 1s 1ms/step - loss: 164238.6000 - mse: 164234.2135 - mae: 189.5098 - val_loss: 159321.0156 - val_mse: 159316.6094 - val_mae: 187.2797\n",
            "Epoch 76/100\n",
            "972/972 [==============================] - 1s 1ms/step - loss: 165812.6188 - mse: 165808.2160 - mae: 190.5603 - val_loss: 149092.3438 - val_mse: 149087.8906 - val_mae: 182.8704\n",
            "Epoch 77/100\n",
            "972/972 [==============================] - 1s 1ms/step - loss: 166503.3098 - mse: 166498.9211 - mae: 190.6874 - val_loss: 172515.7656 - val_mse: 172511.1875 - val_mae: 199.7354\n",
            "Epoch 78/100\n",
            "972/972 [==============================] - 1s 1ms/step - loss: 161230.7425 - mse: 161226.3118 - mae: 187.8464 - val_loss: 188210.2969 - val_mse: 188205.8906 - val_mae: 211.9946\n",
            "Epoch 79/100\n",
            "972/972 [==============================] - 1s 1ms/step - loss: 164723.4014 - mse: 164718.9495 - mae: 189.6033 - val_loss: 155309.2188 - val_mse: 155304.7812 - val_mae: 185.5181\n",
            "Epoch 80/100\n",
            "972/972 [==============================] - 1s 2ms/step - loss: 161035.3483 - mse: 161030.8124 - mae: 187.7139 - val_loss: 180066.3750 - val_mse: 180061.9375 - val_mae: 197.7471\n",
            "Epoch 81/100\n",
            "972/972 [==============================] - 1s 1ms/step - loss: 163436.0882 - mse: 163431.6328 - mae: 188.1702 - val_loss: 164830.9531 - val_mse: 164826.3906 - val_mae: 190.3414\n",
            "Epoch 82/100\n",
            "972/972 [==============================] - 1s 1ms/step - loss: 162602.5218 - mse: 162598.0223 - mae: 188.7827 - val_loss: 217885.8125 - val_mse: 217881.2969 - val_mae: 222.6909\n",
            "Epoch 83/100\n",
            "972/972 [==============================] - 1s 1ms/step - loss: 160363.6163 - mse: 160359.1751 - mae: 186.1414 - val_loss: 175014.1250 - val_mse: 175009.6875 - val_mae: 200.1086\n",
            "Epoch 84/100\n",
            "972/972 [==============================] - 1s 1ms/step - loss: 164444.1742 - mse: 164439.6601 - mae: 188.3878 - val_loss: 145857.5781 - val_mse: 145853.1250 - val_mae: 179.1941\n",
            "Epoch 85/100\n",
            "972/972 [==============================] - 1s 1ms/step - loss: 157899.3498 - mse: 157894.8332 - mae: 185.1331 - val_loss: 152234.8750 - val_mse: 152230.3438 - val_mae: 179.8188\n",
            "Epoch 86/100\n",
            "972/972 [==============================] - 1s 2ms/step - loss: 160093.1369 - mse: 160088.5958 - mae: 186.9747 - val_loss: 180749.5312 - val_mse: 180745.0469 - val_mae: 194.5902\n",
            "Epoch 87/100\n",
            "972/972 [==============================] - 1s 2ms/step - loss: 160940.2525 - mse: 160935.6478 - mae: 186.3189 - val_loss: 178638.8438 - val_mse: 178634.3125 - val_mae: 193.3054\n",
            "Epoch 88/100\n",
            "972/972 [==============================] - 1s 1ms/step - loss: 162440.7115 - mse: 162436.2056 - mae: 187.3677 - val_loss: 174465.2969 - val_mse: 174460.8750 - val_mae: 193.9194\n",
            "Epoch 89/100\n",
            "972/972 [==============================] - 1s 1ms/step - loss: 157317.8173 - mse: 157313.2774 - mae: 184.1157 - val_loss: 164368.5625 - val_mse: 164364.0625 - val_mae: 187.4508\n",
            "Epoch 90/100\n",
            "972/972 [==============================] - 1s 1ms/step - loss: 158459.2960 - mse: 158454.8051 - mae: 182.9888 - val_loss: 180033.6719 - val_mse: 180029.1406 - val_mae: 196.9535\n",
            "Epoch 91/100\n",
            "972/972 [==============================] - 1s 1ms/step - loss: 160164.3680 - mse: 160159.8553 - mae: 186.6370 - val_loss: 165546.2188 - val_mse: 165541.7031 - val_mae: 194.2683\n",
            "Epoch 92/100\n",
            "972/972 [==============================] - 1s 1ms/step - loss: 160719.5870 - mse: 160715.0560 - mae: 184.1554 - val_loss: 174702.5312 - val_mse: 174697.9062 - val_mae: 199.2419\n",
            "Epoch 93/100\n",
            "972/972 [==============================] - 1s 1ms/step - loss: 162228.4808 - mse: 162223.9158 - mae: 186.7539 - val_loss: 189952.2344 - val_mse: 189947.7188 - val_mae: 208.2810\n",
            "Epoch 94/100\n",
            "972/972 [==============================] - 1s 1ms/step - loss: 163415.0318 - mse: 163410.4851 - mae: 187.2055 - val_loss: 154964.5625 - val_mse: 154959.9844 - val_mae: 179.6835\n",
            "Epoch 95/100\n",
            "972/972 [==============================] - 1s 1ms/step - loss: 160323.6557 - mse: 160319.1099 - mae: 185.2404 - val_loss: 151489.3438 - val_mse: 151484.7188 - val_mae: 178.3275\n",
            "Epoch 96/100\n",
            "972/972 [==============================] - 1s 2ms/step - loss: 160666.0337 - mse: 160661.3701 - mae: 187.0267 - val_loss: 141648.4688 - val_mse: 141643.9531 - val_mae: 168.9369\n",
            "Epoch 97/100\n",
            "972/972 [==============================] - 1s 1ms/step - loss: 154688.1085 - mse: 154683.5832 - mae: 182.6558 - val_loss: 185625.5781 - val_mse: 185621.0625 - val_mae: 204.4789\n",
            "Epoch 98/100\n",
            "972/972 [==============================] - 1s 1ms/step - loss: 159911.6175 - mse: 159907.0173 - mae: 184.6323 - val_loss: 196043.6406 - val_mse: 196038.9844 - val_mae: 213.5756\n",
            "Epoch 99/100\n",
            "972/972 [==============================] - 1s 1ms/step - loss: 159167.4092 - mse: 159162.8340 - mae: 186.2257 - val_loss: 164367.7031 - val_mse: 164363.1250 - val_mae: 187.5408\n",
            "Epoch 100/100\n",
            "972/972 [==============================] - 1s 1ms/step - loss: 155875.2658 - mse: 155870.6839 - mae: 181.2057 - val_loss: 192498.2656 - val_mse: 192493.7969 - val_mae: 211.1827\n"
          ],
          "name": "stdout"
        }
      ]
    },
    {
      "cell_type": "code",
      "metadata": {
        "id": "JQNQYi4Ei2YX",
        "colab": {
          "base_uri": "https://localhost:8080/",
          "height": 552
        },
        "outputId": "144168a9-b3a1-465b-e8be-9f7a6f6cd3e0"
      },
      "source": [
        "def plot_history(history):\n",
        "  hist = pd.DataFrame(history.history)\n",
        "  hist['epoch'] = history.epoch\n",
        "\n",
        "  plt.figure()\n",
        "  plt.xlabel('Epoch')\n",
        "  plt.ylabel('Mean Abs Error [MPG]')\n",
        "  plt.plot(hist['epoch'], hist['mae'],\n",
        "           label='Train Error')\n",
        "  plt.plot(hist['epoch'], hist['val_mae'],\n",
        "           label = 'Val Error')\n",
        "  plt.legend()\n",
        "\n",
        "  plt.figure()\n",
        "  plt.xlabel('Epoch')\n",
        "  plt.ylabel('Mean Square Error [$MPG^2$]')\n",
        "  plt.plot(hist['epoch'], hist['mse'],\n",
        "           label='Train Error')\n",
        "  plt.plot(hist['epoch'], hist['val_mse'],\n",
        "           label = 'Val Error')\n",
        "  plt.legend()\n",
        "  plt.show()\n",
        "\n",
        "\n",
        "plot_history(history)"
      ],
      "execution_count": null,
      "outputs": [
        {
          "output_type": "display_data",
          "data": {
            "image/png": "[encoded data removed]",
            "text/plain": [
              "<Figure size 432x288 with 1 Axes>"
            ]
          },
          "metadata": {
            "tags": [],
            "needs_background": "light"
          }
        },
        {
          "output_type": "display_data",
          "data": {
            "image/png": "[encoded data removed]",
            "text/plain": [
              "<Figure size 432x288 with 1 Axes>"
            ]
          },
          "metadata": {
            "tags": [],
            "needs_background": "light"
          }
        }
      ]
    },
    {
      "cell_type": "code",
      "metadata": {
        "id": "lbgxGNC0fjHs",
        "colab": {
          "base_uri": "https://localhost:8080/"
        },
        "outputId": "505eb953-322c-412c-8744-57c4ad9f176d"
      },
      "source": [
        "y_pred = model4.predict(X_test)\n",
        "y_pred2=y_pred>0\n",
        "y_test2=y_test>0\n",
        "sum(y_pred2)"
      ],
      "execution_count": null,
      "outputs": [
        {
          "output_type": "execute_result",
          "data": {
            "text/plain": [
              "array([9578])"
            ]
          },
          "metadata": {
            "tags": []
          },
          "execution_count": 54
        }
      ]
    },
    {
      "cell_type": "code",
      "metadata": {
        "id": "ryrdHXv3jAfB",
        "colab": {
          "base_uri": "https://localhost:8080/",
          "height": 348
        },
        "outputId": "51f6b20c-5da3-4338-c0ca-40cdd793a2f1"
      },
      "source": [
        "from sklearn.metrics import confusion_matrix\n",
        "def plot_confusion_matrix(cm, classes,\n",
        "                          normalize=False,\n",
        "                          title='Confusion matrix',\n",
        "                          cmap=plt.cm.Blues):\n",
        "    \"\"\"\n",
        "    This function prints and plots the confusion matrix.\n",
        "    Normalization can be applied by setting `normalize=True`.\n",
        "    \"\"\"\n",
        "    if normalize:\n",
        "        cm = cm.astype('float') / cm.sum(axis=1)[:, np.newaxis]\n",
        "        print(\"Normalized confusion matrix\")\n",
        "    else:\n",
        "        print('Confusion matrix, without normalization')\n",
        "\n",
        "    print(cm)\n",
        "\n",
        "    plt.imshow(cm, interpolation='nearest', cmap=cmap)\n",
        "    plt.title(title)\n",
        "    plt.colorbar()\n",
        "    tick_marks = np.arange(len(classes))\n",
        "    plt.xticks(tick_marks, classes, rotation=45)\n",
        "    plt.yticks(tick_marks, classes)\n",
        "\n",
        "    fmt = '.2f' if normalize else 'd'\n",
        "    thresh = cm.max() / 2.\n",
        "    for i, j in itertools.product(range(cm.shape[0]), range(cm.shape[1])):\n",
        "        plt.text(j, i, format(cm[i, j], fmt),\n",
        "                 horizontalalignment=\"center\",\n",
        "                 color=\"white\" if cm[i, j] > thresh else \"black\")\n",
        "\n",
        "    plt.ylabel('True label')\n",
        "    plt.xlabel('Predicted label')\n",
        "    plt.tight_layout()\n",
        " \n",
        "plot_confusion_matrix(confusion_matrix(y_test2, y_pred2),['Dead','Alive'])"
      ],
      "execution_count": null,
      "outputs": [
        {
          "output_type": "stream",
          "text": [
            "Confusion matrix, without normalization\n",
            "[[20200   277]\n",
            " [  593  9301]]\n"
          ],
          "name": "stdout"
        },
        {
          "output_type": "display_data",
          "data": {
            "image/png": "[encoded data removed]",
            "text/plain": [
              "<Figure size 432x288 with 2 Axes>"
            ]
          },
          "metadata": {
            "tags": [],
            "needs_background": "light"
          }
        }
      ]
    },
    {
      "cell_type": "code",
      "metadata": {
        "id": "VtpyHd8qjHEh",
        "colab": {
          "base_uri": "https://localhost:8080/"
        },
        "outputId": "2563d4bf-e203-404f-ebb6-108a8727ed4a"
      },
      "source": [
        "import sklearn.metrics\n",
        "print(f'f1 score: {sklearn.metrics.f1_score(y_test2, y_pred2)*100:.2f}%')\n",
        "print(f'Accuracy: {sklearn.metrics.accuracy_score(y_test2, y_pred2)*100:.2f}%')"
      ],
      "execution_count": null,
      "outputs": [
        {
          "output_type": "stream",
          "text": [
            "f1 score: 95.53%\n",
            "Accuracy: 97.14%\n"
          ],
          "name": "stdout"
        }
      ]
    },
    {
      "cell_type": "code",
      "metadata": {
        "id": "GDgINAfh6Yns"
      },
      "source": [
        "model4.save('model_03252211.h5')"
      ],
      "execution_count": null,
      "outputs": []
    },
    {
      "cell_type": "markdown",
      "metadata": {
        "id": "iZVosKSLPZ_1"
      },
      "source": [
        "\n",
        "\n",
        "---\n",
        "## **Interested Data set:**\n",
        "\n",
        "Light intensity of LED in different temperature, stressing current, performing hour, input voltage.\n",
        "\n",
        "Temperature: from 20 to 60, every 5 unit\n",
        "\n",
        "Stressing current: from 40 to 100, every 5 unit\n",
        "\n",
        "Input voltage: from -5.00 to 5.00, every 0.05 unit\n",
        "\n",
        "Performing hour: start from 0, every 0.2 unit, untill predicted light intensity become 0.\n",
        "\n",
        "\n",
        "\n"
      ]
    },
    {
      "cell_type": "code",
      "metadata": {
        "id": "FiaD-GqwSrp-"
      },
      "source": [
        "m=model4"
      ],
      "execution_count": null,
      "outputs": []
    },
    {
      "cell_type": "code",
      "metadata": {
        "colab": {
          "base_uri": "https://localhost:8080/"
        },
        "id": "CJV_CUVvKBv1",
        "outputId": "c21e0e1b-9838-43e0-ea88-55d0cf216240"
      },
      "source": [
        "from tqdm import trange\n",
        "r_list=[]\n",
        "column_list=['temperature','stressing current','performing hour','input voltage','light intensity']\n",
        "for temperature in trange(293,338,5):\n",
        "  for stressing_current in range(40,105,5):\n",
        "    performing_hour = 0\n",
        "    while performing_hour<=30000:\n",
        "      li=m.predict(np.array([[ temperature , stressing_current , performing_hour ,0]]))[0][0]\n",
        "      li-=100\n",
        "      li=max(0,li)\n",
        "      if li<0: print(li)\n",
        "      r_list.append( [temperature,stressing_current,performing_hour,0,li])\n",
        "      if li<=0: break\n",
        "      if performing_hour<20:\n",
        "        performing_hour+=1\n",
        "      elif performing_hour<50:\n",
        "        performing_hour+=3\n",
        "      elif performing_hour<100:\n",
        "        performing_hour+=5\n",
        "      elif performing_hour<300:\n",
        "        performing_hour+=20\n",
        "      elif performing_hour<800:\n",
        "        performing_hour+=50\n",
        "      elif performing_hour<2000:\n",
        "        performing_hour+=120\n",
        "      elif performing_hour<10000:\n",
        "        performing_hour+=200\n",
        "      else:\n",
        "        performing_hour+=1000\n",
        "record=pd.DataFrame(r_list,columns=column_list)"
      ],
      "execution_count": null,
      "outputs": [
        {
          "output_type": "stream",
          "text": [
            "100%|██████████| 9/9 [00:43<00:00,  4.89s/it]\n"
          ],
          "name": "stderr"
        }
      ]
    },
    {
      "cell_type": "code",
      "metadata": {
        "id": "iLHnwpR2e6t_"
      },
      "source": [
        "record['temperature']=record['temperature']-273"
      ],
      "execution_count": null,
      "outputs": []
    },
    {
      "cell_type": "code",
      "metadata": {
        "colab": {
          "base_uri": "https://localhost:8080/",
          "height": 418
        },
        "id": "-hjdFq7ZSy_0",
        "outputId": "a25e92d8-d53c-4a70-a425-99ce60892640"
      },
      "source": [
        "record"
      ],
      "execution_count": null,
      "outputs": [
        {
          "output_type": "execute_result",
          "data": {
            "text/html": [
              "<div>\n",
              "<style scoped>\n",
              "    .dataframe tbody tr th:only-of-type {\n",
              "        vertical-align: middle;\n",
              "    }\n",
              "\n",
              "    .dataframe tbody tr th {\n",
              "        vertical-align: top;\n",
              "    }\n",
              "\n",
              "    .dataframe thead th {\n",
              "        text-align: right;\n",
              "    }\n",
              "</style>\n",
              "<table border=\"1\" class=\"dataframe\">\n",
              "  <thead>\n",
              "    <tr style=\"text-align: right;\">\n",
              "      <th></th>\n",
              "      <th>temperature</th>\n",
              "      <th>stressing current</th>\n",
              "      <th>performing hour</th>\n",
              "      <th>input voltage</th>\n",
              "      <th>light intensity</th>\n",
              "    </tr>\n",
              "  </thead>\n",
              "  <tbody>\n",
              "    <tr>\n",
              "      <th>0</th>\n",
              "      <td>20</td>\n",
              "      <td>40</td>\n",
              "      <td>0</td>\n",
              "      <td>0</td>\n",
              "      <td>1975.810303</td>\n",
              "    </tr>\n",
              "    <tr>\n",
              "      <th>1</th>\n",
              "      <td>20</td>\n",
              "      <td>40</td>\n",
              "      <td>1</td>\n",
              "      <td>0</td>\n",
              "      <td>2074.696777</td>\n",
              "    </tr>\n",
              "    <tr>\n",
              "      <th>2</th>\n",
              "      <td>20</td>\n",
              "      <td>40</td>\n",
              "      <td>2</td>\n",
              "      <td>0</td>\n",
              "      <td>2346.847412</td>\n",
              "    </tr>\n",
              "    <tr>\n",
              "      <th>3</th>\n",
              "      <td>20</td>\n",
              "      <td>40</td>\n",
              "      <td>3</td>\n",
              "      <td>0</td>\n",
              "      <td>2398.308838</td>\n",
              "    </tr>\n",
              "    <tr>\n",
              "      <th>4</th>\n",
              "      <td>20</td>\n",
              "      <td>40</td>\n",
              "      <td>4</td>\n",
              "      <td>0</td>\n",
              "      <td>2403.764893</td>\n",
              "    </tr>\n",
              "    <tr>\n",
              "      <th>...</th>\n",
              "      <td>...</td>\n",
              "      <td>...</td>\n",
              "      <td>...</td>\n",
              "      <td>...</td>\n",
              "      <td>...</td>\n",
              "    </tr>\n",
              "    <tr>\n",
              "      <th>1142</th>\n",
              "      <td>60</td>\n",
              "      <td>95</td>\n",
              "      <td>4</td>\n",
              "      <td>0</td>\n",
              "      <td>740.369202</td>\n",
              "    </tr>\n",
              "    <tr>\n",
              "      <th>1143</th>\n",
              "      <td>60</td>\n",
              "      <td>95</td>\n",
              "      <td>5</td>\n",
              "      <td>0</td>\n",
              "      <td>549.265503</td>\n",
              "    </tr>\n",
              "    <tr>\n",
              "      <th>1144</th>\n",
              "      <td>60</td>\n",
              "      <td>95</td>\n",
              "      <td>6</td>\n",
              "      <td>0</td>\n",
              "      <td>0.000000</td>\n",
              "    </tr>\n",
              "    <tr>\n",
              "      <th>1145</th>\n",
              "      <td>60</td>\n",
              "      <td>100</td>\n",
              "      <td>0</td>\n",
              "      <td>0</td>\n",
              "      <td>1198.703369</td>\n",
              "    </tr>\n",
              "    <tr>\n",
              "      <th>1146</th>\n",
              "      <td>60</td>\n",
              "      <td>100</td>\n",
              "      <td>1</td>\n",
              "      <td>0</td>\n",
              "      <td>0.000000</td>\n",
              "    </tr>\n",
              "  </tbody>\n",
              "</table>\n",
              "<p>1147 rows × 5 columns</p>\n",
              "</div>"
            ],
            "text/plain": [
              "      temperature  stressing current  ...  input voltage  light intensity\n",
              "0              20                 40  ...              0      1975.810303\n",
              "1              20                 40  ...              0      2074.696777\n",
              "2              20                 40  ...              0      2346.847412\n",
              "3              20                 40  ...              0      2398.308838\n",
              "4              20                 40  ...              0      2403.764893\n",
              "...           ...                ...  ...            ...              ...\n",
              "1142           60                 95  ...              0       740.369202\n",
              "1143           60                 95  ...              0       549.265503\n",
              "1144           60                 95  ...              0         0.000000\n",
              "1145           60                100  ...              0      1198.703369\n",
              "1146           60                100  ...              0         0.000000\n",
              "\n",
              "[1147 rows x 5 columns]"
            ]
          },
          "metadata": {
            "tags": []
          },
          "execution_count": 60
        }
      ]
    },
    {
      "cell_type": "code",
      "metadata": {
        "id": "iNZhuZbDmk80"
      },
      "source": [
        "from datetime import datetime\n",
        "now = datetime.now()\n",
        "current_time = now.strftime(\"%m%d%H%M\")\n",
        "record.to_csv('/content/LED_output_Li_'+current_time+'.csv')"
      ],
      "execution_count": null,
      "outputs": []
    },
    {
      "cell_type": "code",
      "metadata": {
        "id": "w2IlrpGKpsEf"
      },
      "source": [
        "df_dropped.to_csv('/content/dropped_input.csv')"
      ],
      "execution_count": null,
      "outputs": []
    },
    {
      "cell_type": "markdown",
      "metadata": {
        "id": "0gOoXHUulZBt"
      },
      "source": [
        "# **2. Diode Current Prediction**\n",
        "\n"
      ]
    },
    {
      "cell_type": "markdown",
      "metadata": {
        "id": "G_svnj-hKSsL"
      },
      "source": [
        "\n",
        "\n",
        "---\n",
        "\n",
        "## **Re-Data Extraction: Dropping weird data**\n",
        "Tem 25, Current 60, Hr>=15\n",
        "\n",
        "Tem 60, Current 60, Hr>=11\n"
      ]
    },
    {
      "cell_type": "code",
      "metadata": {
        "colab": {
          "base_uri": "https://localhost:8080/",
          "height": 220
        },
        "id": "TAxW7UNiKSsP",
        "outputId": "c11275a8-8061-4558-84b7-b61c98dfef2e"
      },
      "source": [
        "dataset.head()"
      ],
      "execution_count": null,
      "outputs": [
        {
          "output_type": "execute_result",
          "data": {
            "text/html": [
              "<div>\n",
              "<style scoped>\n",
              "    .dataframe tbody tr th:only-of-type {\n",
              "        vertical-align: middle;\n",
              "    }\n",
              "\n",
              "    .dataframe tbody tr th {\n",
              "        vertical-align: top;\n",
              "    }\n",
              "\n",
              "    .dataframe thead th {\n",
              "        text-align: right;\n",
              "    }\n",
              "</style>\n",
              "<table border=\"1\" class=\"dataframe\">\n",
              "  <thead>\n",
              "    <tr style=\"text-align: right;\">\n",
              "      <th></th>\n",
              "      <th>LED</th>\n",
              "      <th>temperature</th>\n",
              "      <th>stressing current</th>\n",
              "      <th>performing hour</th>\n",
              "      <th>input voltage</th>\n",
              "      <th>reverse saturated current</th>\n",
              "      <th>light intensity</th>\n",
              "    </tr>\n",
              "  </thead>\n",
              "  <tbody>\n",
              "    <tr>\n",
              "      <th>0</th>\n",
              "      <td>A</td>\n",
              "      <td>25</td>\n",
              "      <td>40</td>\n",
              "      <td>0.0</td>\n",
              "      <td>-5.00</td>\n",
              "      <td>-5.270000e-10</td>\n",
              "      <td>2517</td>\n",
              "    </tr>\n",
              "    <tr>\n",
              "      <th>1</th>\n",
              "      <td>A</td>\n",
              "      <td>25</td>\n",
              "      <td>40</td>\n",
              "      <td>0.0</td>\n",
              "      <td>-4.95</td>\n",
              "      <td>-5.180000e-10</td>\n",
              "      <td>2517</td>\n",
              "    </tr>\n",
              "    <tr>\n",
              "      <th>2</th>\n",
              "      <td>A</td>\n",
              "      <td>25</td>\n",
              "      <td>40</td>\n",
              "      <td>0.0</td>\n",
              "      <td>-4.90</td>\n",
              "      <td>-5.210000e-10</td>\n",
              "      <td>2517</td>\n",
              "    </tr>\n",
              "    <tr>\n",
              "      <th>3</th>\n",
              "      <td>A</td>\n",
              "      <td>25</td>\n",
              "      <td>40</td>\n",
              "      <td>0.0</td>\n",
              "      <td>-4.85</td>\n",
              "      <td>-5.220000e-10</td>\n",
              "      <td>2517</td>\n",
              "    </tr>\n",
              "    <tr>\n",
              "      <th>4</th>\n",
              "      <td>A</td>\n",
              "      <td>25</td>\n",
              "      <td>40</td>\n",
              "      <td>0.0</td>\n",
              "      <td>-4.80</td>\n",
              "      <td>-5.160000e-10</td>\n",
              "      <td>2517</td>\n",
              "    </tr>\n",
              "  </tbody>\n",
              "</table>\n",
              "</div>"
            ],
            "text/plain": [
              "  LED  temperature  ...  reverse saturated current  light intensity\n",
              "0   A           25  ...              -5.270000e-10             2517\n",
              "1   A           25  ...              -5.180000e-10             2517\n",
              "2   A           25  ...              -5.210000e-10             2517\n",
              "3   A           25  ...              -5.220000e-10             2517\n",
              "4   A           25  ...              -5.160000e-10             2517\n",
              "\n",
              "[5 rows x 7 columns]"
            ]
          },
          "metadata": {
            "tags": []
          },
          "execution_count": 4
        }
      ]
    },
    {
      "cell_type": "code",
      "metadata": {
        "colab": {
          "base_uri": "https://localhost:8080/",
          "height": 435
        },
        "id": "ZpiEytKiKSsQ",
        "outputId": "65086a75-dbf4-44c9-bf51-84988d9b5d56"
      },
      "source": [
        "df=dataset\n",
        "from sklearn.utils import shuffle\n",
        "df=shuffle(df)\n",
        "df['temperature']=df['temperature']+273\n",
        "df['reverse saturated current']=df['reverse saturated current']*(10**10)\n",
        "df"
      ],
      "execution_count": null,
      "outputs": [
        {
          "output_type": "execute_result",
          "data": {
            "text/html": [
              "<div>\n",
              "<style scoped>\n",
              "    .dataframe tbody tr th:only-of-type {\n",
              "        vertical-align: middle;\n",
              "    }\n",
              "\n",
              "    .dataframe tbody tr th {\n",
              "        vertical-align: top;\n",
              "    }\n",
              "\n",
              "    .dataframe thead th {\n",
              "        text-align: right;\n",
              "    }\n",
              "</style>\n",
              "<table border=\"1\" class=\"dataframe\">\n",
              "  <thead>\n",
              "    <tr style=\"text-align: right;\">\n",
              "      <th></th>\n",
              "      <th>LED</th>\n",
              "      <th>temperature</th>\n",
              "      <th>stressing current</th>\n",
              "      <th>performing hour</th>\n",
              "      <th>input voltage</th>\n",
              "      <th>reverse saturated current</th>\n",
              "      <th>light intensity</th>\n",
              "    </tr>\n",
              "  </thead>\n",
              "  <tbody>\n",
              "    <tr>\n",
              "      <th>34224</th>\n",
              "      <td>C</td>\n",
              "      <td>298</td>\n",
              "      <td>40</td>\n",
              "      <td>4.0</td>\n",
              "      <td>-2.30</td>\n",
              "      <td>-5.100000e+00</td>\n",
              "      <td>2763</td>\n",
              "    </tr>\n",
              "    <tr>\n",
              "      <th>12556</th>\n",
              "      <td>A</td>\n",
              "      <td>333</td>\n",
              "      <td>60</td>\n",
              "      <td>11.0</td>\n",
              "      <td>-0.30</td>\n",
              "      <td>0.000000e+00</td>\n",
              "      <td>0</td>\n",
              "    </tr>\n",
              "    <tr>\n",
              "      <th>79105</th>\n",
              "      <td>E</td>\n",
              "      <td>333</td>\n",
              "      <td>60</td>\n",
              "      <td>10.0</td>\n",
              "      <td>0.60</td>\n",
              "      <td>3.630000e-02</td>\n",
              "      <td>0</td>\n",
              "    </tr>\n",
              "    <tr>\n",
              "      <th>31518</th>\n",
              "      <td>B</td>\n",
              "      <td>333</td>\n",
              "      <td>80</td>\n",
              "      <td>4.0</td>\n",
              "      <td>3.10</td>\n",
              "      <td>1.707720e+08</td>\n",
              "      <td>0</td>\n",
              "    </tr>\n",
              "    <tr>\n",
              "      <th>16221</th>\n",
              "      <td>A</td>\n",
              "      <td>333</td>\n",
              "      <td>100</td>\n",
              "      <td>1.0</td>\n",
              "      <td>2.05</td>\n",
              "      <td>1.120000e+03</td>\n",
              "      <td>0</td>\n",
              "    </tr>\n",
              "    <tr>\n",
              "      <th>...</th>\n",
              "      <td>...</td>\n",
              "      <td>...</td>\n",
              "      <td>...</td>\n",
              "      <td>...</td>\n",
              "      <td>...</td>\n",
              "      <td>...</td>\n",
              "      <td>...</td>\n",
              "    </tr>\n",
              "    <tr>\n",
              "      <th>20832</th>\n",
              "      <td>B</td>\n",
              "      <td>298</td>\n",
              "      <td>60</td>\n",
              "      <td>10.0</td>\n",
              "      <td>1.45</td>\n",
              "      <td>-3.510000e+00</td>\n",
              "      <td>2544</td>\n",
              "    </tr>\n",
              "    <tr>\n",
              "      <th>39017</th>\n",
              "      <td>C</td>\n",
              "      <td>298</td>\n",
              "      <td>80</td>\n",
              "      <td>0.0</td>\n",
              "      <td>-3.85</td>\n",
              "      <td>-4.980000e+00</td>\n",
              "      <td>3282</td>\n",
              "    </tr>\n",
              "    <tr>\n",
              "      <th>14421</th>\n",
              "      <td>A</td>\n",
              "      <td>333</td>\n",
              "      <td>80</td>\n",
              "      <td>3.0</td>\n",
              "      <td>2.50</td>\n",
              "      <td>5.510000e+05</td>\n",
              "      <td>215</td>\n",
              "    </tr>\n",
              "    <tr>\n",
              "      <th>6381</th>\n",
              "      <td>A</td>\n",
              "      <td>298</td>\n",
              "      <td>80</td>\n",
              "      <td>3.0</td>\n",
              "      <td>2.50</td>\n",
              "      <td>2.990000e+05</td>\n",
              "      <td>403</td>\n",
              "    </tr>\n",
              "    <tr>\n",
              "      <th>8885</th>\n",
              "      <td>A</td>\n",
              "      <td>298</td>\n",
              "      <td>100</td>\n",
              "      <td>0.0</td>\n",
              "      <td>-2.95</td>\n",
              "      <td>-4.370000e+00</td>\n",
              "      <td>2710</td>\n",
              "    </tr>\n",
              "  </tbody>\n",
              "</table>\n",
              "<p>83415 rows × 7 columns</p>\n",
              "</div>"
            ],
            "text/plain": [
              "      LED  temperature  ...  reverse saturated current  light intensity\n",
              "34224   C          298  ...              -5.100000e+00             2763\n",
              "12556   A          333  ...               0.000000e+00                0\n",
              "79105   E          333  ...               3.630000e-02                0\n",
              "31518   B          333  ...               1.707720e+08                0\n",
              "16221   A          333  ...               1.120000e+03                0\n",
              "...    ..          ...  ...                        ...              ...\n",
              "20832   B          298  ...              -3.510000e+00             2544\n",
              "39017   C          298  ...              -4.980000e+00             3282\n",
              "14421   A          333  ...               5.510000e+05              215\n",
              "6381    A          298  ...               2.990000e+05              403\n",
              "8885    A          298  ...              -4.370000e+00             2710\n",
              "\n",
              "[83415 rows x 7 columns]"
            ]
          },
          "metadata": {
            "tags": []
          },
          "execution_count": 5
        }
      ]
    },
    {
      "cell_type": "code",
      "metadata": {
        "id": "0VGrSCx5KSsR"
      },
      "source": [
        "X = df.iloc[:,1:5].values\n",
        "y = df.iloc[:,5].values\n",
        "from sklearn.model_selection import train_test_split\n",
        "X_train, X_test, y_train, y_test = train_test_split(X, y, test_size = 0.2, random_state = 0)"
      ],
      "execution_count": null,
      "outputs": []
    },
    {
      "cell_type": "code",
      "metadata": {
        "colab": {
          "base_uri": "https://localhost:8080/"
        },
        "id": "buRAgrgpKgMT",
        "outputId": "e35bce70-11ac-495b-e2c0-7cc6fff7fa72"
      },
      "source": [
        "# Importing the Keras libraries and packages\n",
        "import keras\n",
        "from keras.models import Sequential\n",
        "from keras.layers import Dense\n",
        "from keras.layers import Dropout\n",
        "from keras import regularizers\n",
        "\n",
        "optimizer = keras.optimizers.RMSprop(0.001)\n",
        "#optimizer = keras.optimizers.Nadam()\n",
        "# Initialising the ANN\n",
        "model_c = Sequential()\n",
        "\n",
        "# Adding the input layer and the first hidden layer\n",
        "model_c.add(Dense(units = 32, activation = 'relu', input_dim = 4, kernel_regularizer=regularizers.l1(0.01)))\n",
        "model_c.add(Dropout(0.2))\n",
        "model_c.add(Dense(units = 32, activation = 'relu', kernel_regularizer=regularizers.l1(0.01)))\n",
        "model_c.add(Dropout(0.2))\n",
        "model_c.add(Dense(units = 32, activation = 'relu', kernel_regularizer=regularizers.l1(0.01)))\n",
        "model_c.add(Dropout(0.2))\n",
        "model_c.add(Dense(units = 32, activation = 'relu', kernel_regularizer=regularizers.l1(0.01)))\n",
        "model_c.add(Dropout(0.2))\n",
        "\n",
        "# Adding the output layer\n",
        "model_c.add(Dense(units = 1, activation = 'relu'))\n",
        "\n",
        "# Compiling the DNN\n",
        "model_c.compile(optimizer = optimizer, loss = 'mse', metrics = ['mse','mae'])\n",
        "\n",
        "# Fitting the DNN to the Training set\n",
        "history_c = model_c.fit(X_train, y_train, batch_size = 100, epochs = 50, validation_split = 0.2,verbose=1)"
      ],
      "execution_count": null,
      "outputs": [
        {
          "output_type": "stream",
          "text": [
            "Epoch 1/50\n",
            "534/534 [==============================] - 2s 2ms/step - loss: 118950884325691152.0000 - mse: 118950884325691152.0000 - mae: 138744062.0860 - val_loss: 116146807720902656.0000 - val_mse: 116146807720902656.0000 - val_mae: 142067824.0000\n",
            "Epoch 2/50\n",
            "534/534 [==============================] - 1s 2ms/step - loss: 112782049676110848.0000 - mse: 112782047685172736.0000 - mae: 153408187.1850 - val_loss: 100554504478392320.0000 - val_mse: 100554504478392320.0000 - val_mae: 208289792.0000\n",
            "Epoch 3/50\n",
            "534/534 [==============================] - 1s 2ms/step - loss: 102330802891321888.0000 - mse: 102330802891321888.0000 - mae: 214672951.4467 - val_loss: 100087598583644160.0000 - val_mse: 100087598583644160.0000 - val_mae: 213807488.0000\n",
            "Epoch 4/50\n",
            "534/534 [==============================] - 1s 2ms/step - loss: 101129232934070224.0000 - mse: 101129232934070224.0000 - mae: 215195226.9458 - val_loss: 99727774813519872.0000 - val_mse: 99727774813519872.0000 - val_mae: 214446944.0000\n",
            "Epoch 5/50\n",
            "534/534 [==============================] - 1s 2ms/step - loss: 101841009926678944.0000 - mse: 101841009926678944.0000 - mae: 216804873.6598 - val_loss: 99253052078292992.0000 - val_mse: 99253052078292992.0000 - val_mae: 214772896.0000\n",
            "Epoch 6/50\n",
            "534/534 [==============================] - 1s 2ms/step - loss: 99654477913171344.0000 - mse: 99654476933758240.0000 - mae: 214611144.5832 - val_loss: 98563005452648448.0000 - val_mse: 98563005452648448.0000 - val_mae: 214095840.0000\n",
            "Epoch 7/50\n",
            "534/534 [==============================] - 1s 2ms/step - loss: 99071178115694432.0000 - mse: 99071178115694432.0000 - mae: 214773824.2991 - val_loss: 97448126431887360.0000 - val_mse: 97448126431887360.0000 - val_mae: 215128992.0000\n",
            "Epoch 8/50\n",
            "534/534 [==============================] - 1s 2ms/step - loss: 99008810775169584.0000 - mse: 99008810775169584.0000 - mae: 216091632.4486 - val_loss: 95666720026394624.0000 - val_mse: 95666728616329216.0000 - val_mae: 210454576.0000\n",
            "Epoch 9/50\n",
            "534/534 [==============================] - 1s 2ms/step - loss: 96731975091353440.0000 - mse: 96731975091353440.0000 - mae: 213300880.3589 - val_loss: 91968409587154944.0000 - val_mse: 91968409587154944.0000 - val_mae: 206707200.0000\n",
            "Epoch 10/50\n",
            "534/534 [==============================] - 1s 2ms/step - loss: 91722281549052272.0000 - mse: 91722281549052272.0000 - mae: 205266952.1944 - val_loss: 84419961614761984.0000 - val_mse: 84419961614761984.0000 - val_mae: 196875424.0000\n",
            "Epoch 11/50\n",
            "534/534 [==============================] - 1s 2ms/step - loss: 84131432985163184.0000 - mse: 84131431652519136.0000 - mae: 192669408.2692 - val_loss: 72183814536822784.0000 - val_mse: 72183823126757376.0000 - val_mae: 175334368.0000\n",
            "Epoch 12/50\n",
            "534/534 [==============================] - 1s 2ms/step - loss: 72956981263148000.0000 - mse: 72956981319343840.0000 - mae: 172957753.3607 - val_loss: 58487103700336640.0000 - val_mse: 58487103700336640.0000 - val_mae: 147311216.0000\n",
            "Epoch 13/50\n",
            "534/534 [==============================] - 1s 2ms/step - loss: 59629632564520792.0000 - mse: 59629633889136880.0000 - mae: 147051623.4766 - val_loss: 44864154632192000.0000 - val_mse: 44864158927159296.0000 - val_mae: 113548312.0000\n",
            "Epoch 14/50\n",
            "534/534 [==============================] - 1s 2ms/step - loss: 45079230602646984.0000 - mse: 45079230602646984.0000 - mae: 115750300.0822 - val_loss: 31432780432801792.0000 - val_mse: 31432780432801792.0000 - val_mae: 91891272.0000\n",
            "Epoch 15/50\n",
            "534/534 [==============================] - 1s 2ms/step - loss: 33569064692668244.0000 - mse: 33569064584290564.0000 - mae: 88877120.8374 - val_loss: 23620191971704832.0000 - val_mse: 23620191971704832.0000 - val_mae: 70215560.0000\n",
            "Epoch 16/50\n",
            "534/534 [==============================] - 1s 2ms/step - loss: 26905470179571492.0000 - mse: 26905470187599472.0000 - mae: 70311158.9084 - val_loss: 20762305700560896.0000 - val_mse: 20762305700560896.0000 - val_mae: 57613076.0000\n",
            "Epoch 17/50\n",
            "534/534 [==============================] - 1s 2ms/step - loss: 24344390788447276.0000 - mse: 24344390788447276.0000 - mae: 61051131.8804 - val_loss: 19383247536390144.0000 - val_mse: 19383247536390144.0000 - val_mae: 51401164.0000\n",
            "Epoch 18/50\n",
            "534/534 [==============================] - 1s 2ms/step - loss: 22952969041103524.0000 - mse: 22952968246333876.0000 - mae: 57655492.2841 - val_loss: 19438281099837440.0000 - val_mse: 19438281099837440.0000 - val_mae: 50843632.0000\n",
            "Epoch 19/50\n",
            "534/534 [==============================] - 1s 2ms/step - loss: 22525822579824712.0000 - mse: 22525822579824712.0000 - mae: 55746327.1103 - val_loss: 19112930884714496.0000 - val_mse: 19112930884714496.0000 - val_mae: 47668940.0000\n",
            "Epoch 20/50\n",
            "534/534 [==============================] - 1s 2ms/step - loss: 22430010035944768.0000 - mse: 22430010035944768.0000 - mae: 54507329.2561 - val_loss: 19109862130581504.0000 - val_mse: 19109862130581504.0000 - val_mae: 48177856.0000\n",
            "Epoch 21/50\n",
            "534/534 [==============================] - 1s 2ms/step - loss: 21479728851155952.0000 - mse: 21479728839113988.0000 - mae: 52454991.6112 - val_loss: 18951590438240256.0000 - val_mse: 18951590438240256.0000 - val_mae: 48798484.0000\n",
            "Epoch 22/50\n",
            "534/534 [==============================] - 1s 2ms/step - loss: 22628749528303100.0000 - mse: 22628748127421244.0000 - mae: 54813375.4991 - val_loss: 18883242476175360.0000 - val_mse: 18883242476175360.0000 - val_mae: 48453132.0000\n",
            "Epoch 23/50\n",
            "534/534 [==============================] - 1s 2ms/step - loss: 22355447649573396.0000 - mse: 22355447649573396.0000 - mae: 54241587.2822 - val_loss: 18724622891483136.0000 - val_mse: 18724622891483136.0000 - val_mae: 47166536.0000\n",
            "Epoch 24/50\n",
            "534/534 [==============================] - 1s 2ms/step - loss: 22436401613603244.0000 - mse: 22436401613603244.0000 - mae: 54181798.9009 - val_loss: 18720111028338688.0000 - val_mse: 18720111028338688.0000 - val_mae: 47101000.0000\n",
            "Epoch 25/50\n",
            "534/534 [==============================] - 1s 2ms/step - loss: 21906398743666396.0000 - mse: 21906398743666396.0000 - mae: 53520007.9103 - val_loss: 18664882043879424.0000 - val_mse: 18664882043879424.0000 - val_mae: 46446720.0000\n",
            "Epoch 26/50\n",
            "534/534 [==============================] - 1s 2ms/step - loss: 21851623911858804.0000 - mse: 21851623907844816.0000 - mae: 52575344.0449 - val_loss: 18625956755275776.0000 - val_mse: 18625956755275776.0000 - val_mae: 45817180.0000\n",
            "Epoch 27/50\n",
            "534/534 [==============================] - 1s 2ms/step - loss: 22355723815970528.0000 - mse: 22355723815970528.0000 - mae: 53815123.4168 - val_loss: 19097591409016832.0000 - val_mse: 19097591409016832.0000 - val_mae: 49538080.0000\n",
            "Epoch 28/50\n",
            "534/534 [==============================] - 1s 2ms/step - loss: 22572730109301848.0000 - mse: 22572730109301848.0000 - mae: 54763652.2019 - val_loss: 18827244692570112.0000 - val_mse: 18827244692570112.0000 - val_mae: 48280160.0000\n",
            "Epoch 29/50\n",
            "534/534 [==============================] - 1s 2ms/step - loss: 22712042884753304.0000 - mse: 22712042884753304.0000 - mae: 54497472.7925 - val_loss: 18812113522786304.0000 - val_mse: 18812113522786304.0000 - val_mae: 46020448.0000\n",
            "Epoch 30/50\n",
            "534/534 [==============================] - 1s 2ms/step - loss: 22123757716029532.0000 - mse: 22123757587581912.0000 - mae: 53559156.0224 - val_loss: 18939641839222784.0000 - val_mse: 18939641839222784.0000 - val_mae: 46526628.0000\n",
            "Epoch 31/50\n",
            "534/534 [==============================] - 1s 2ms/step - loss: 21757100103020936.0000 - mse: 21757100103020936.0000 - mae: 53217479.8430 - val_loss: 18620031847890944.0000 - val_mse: 18620031847890944.0000 - val_mae: 45662920.0000\n",
            "Epoch 32/50\n",
            "534/534 [==============================] - 1s 2ms/step - loss: 22143360685342292.0000 - mse: 22143360685342292.0000 - mae: 53727221.3907 - val_loss: 18650176075857920.0000 - val_mse: 18650176075857920.0000 - val_mae: 46731164.0000\n",
            "Epoch 33/50\n",
            "534/534 [==============================] - 1s 2ms/step - loss: 21769246182226284.0000 - mse: 21769246182226284.0000 - mae: 52691877.5477 - val_loss: 18651136001048576.0000 - val_mse: 18651136001048576.0000 - val_mae: 46772444.0000\n",
            "Epoch 34/50\n",
            "534/534 [==============================] - 1s 2ms/step - loss: 21954466010649164.0000 - mse: 21954467582125516.0000 - mae: 53095324.3290 - val_loss: 19833375141396480.0000 - val_mse: 19833375141396480.0000 - val_mae: 51609460.0000\n",
            "Epoch 35/50\n",
            "534/534 [==============================] - 1s 2ms/step - loss: 21654099700566816.0000 - mse: 21654099704580804.0000 - mae: 53349255.0206 - val_loss: 18828513855406080.0000 - val_mse: 18828513855406080.0000 - val_mae: 48031196.0000\n",
            "Epoch 36/50\n",
            "534/534 [==============================] - 1s 2ms/step - loss: 22375352932401948.0000 - mse: 22375352422625456.0000 - mae: 53852827.1028 - val_loss: 18593731615653888.0000 - val_mse: 18593731615653888.0000 - val_mae: 45037768.0000\n",
            "Epoch 37/50\n",
            "534/534 [==============================] - 1s 2ms/step - loss: 22930196203289860.0000 - mse: 22930196203289860.0000 - mae: 54135874.4673 - val_loss: 18566417771134976.0000 - val_mse: 18566417771134976.0000 - val_mae: 46094624.0000\n",
            "Epoch 38/50\n",
            "534/534 [==============================] - 1s 2ms/step - loss: 23024352531514692.0000 - mse: 23024352487360824.0000 - mae: 54559472.8673 - val_loss: 19111232225148928.0000 - val_mse: 19111232225148928.0000 - val_mae: 49587464.0000\n",
            "Epoch 39/50\n",
            "534/534 [==============================] - 1s 2ms/step - loss: 22854031749963208.0000 - mse: 22854031749963208.0000 - mae: 55059038.0411 - val_loss: 18661506199584768.0000 - val_mse: 18661506199584768.0000 - val_mae: 47228060.0000\n",
            "Epoch 40/50\n",
            "534/534 [==============================] - 1s 2ms/step - loss: 22719406277035272.0000 - mse: 22719406277035272.0000 - mae: 54582183.1402 - val_loss: 18551578659127296.0000 - val_mse: 18551578659127296.0000 - val_mae: 46352232.0000\n",
            "Epoch 41/50\n",
            "534/534 [==============================] - 1s 2ms/step - loss: 21639393754622248.0000 - mse: 21639393768671204.0000 - mae: 52352794.1981 - val_loss: 20039262988664832.0000 - val_mse: 20039262988664832.0000 - val_mae: 52409792.0000\n",
            "Epoch 42/50\n",
            "534/534 [==============================] - 1s 2ms/step - loss: 22172203086644916.0000 - mse: 22172203086644916.0000 - mae: 53337063.0953 - val_loss: 18543639412080640.0000 - val_mse: 18543639412080640.0000 - val_mae: 46742876.0000\n",
            "Epoch 43/50\n",
            "534/534 [==============================] - 1s 2ms/step - loss: 22104344052417828.0000 - mse: 22104344052417828.0000 - mae: 52787877.9290 - val_loss: 18550687453413376.0000 - val_mse: 18550689600897024.0000 - val_mae: 44819544.0000\n",
            "Epoch 44/50\n",
            "534/534 [==============================] - 1s 2ms/step - loss: 22183827953505948.0000 - mse: 22183827951498952.0000 - mae: 53189311.5514 - val_loss: 18726748900294656.0000 - val_mse: 18726748900294656.0000 - val_mae: 47539968.0000\n",
            "Epoch 45/50\n",
            "534/534 [==============================] - 1s 2ms/step - loss: 22010823764695664.0000 - mse: 22010824378835848.0000 - mae: 53025828.8822 - val_loss: 18754518011346944.0000 - val_mse: 18754518011346944.0000 - val_mae: 48285772.0000\n",
            "Epoch 46/50\n",
            "534/534 [==============================] - 1s 2ms/step - loss: 22477800221341112.0000 - mse: 22477800221341112.0000 - mae: 53528916.6654 - val_loss: 18546551399907328.0000 - val_mse: 18546551399907328.0000 - val_mae: 44606056.0000\n",
            "Epoch 47/50\n",
            "534/534 [==============================] - 1s 2ms/step - loss: 22230127315613968.0000 - mse: 22230127315613968.0000 - mae: 53259986.2879 - val_loss: 18484218539540480.0000 - val_mse: 18484218539540480.0000 - val_mae: 45748824.0000\n",
            "Epoch 48/50\n",
            "534/534 [==============================] - 1s 2ms/step - loss: 22767640822959248.0000 - mse: 22767640822959248.0000 - mae: 54422739.1776 - val_loss: 18470274928214016.0000 - val_mse: 18470274928214016.0000 - val_mae: 45187304.0000\n",
            "Epoch 49/50\n",
            "534/534 [==============================] - 1s 2ms/step - loss: 22596671566573376.0000 - mse: 22596671560552396.0000 - mae: 53508282.8523 - val_loss: 18448866663727104.0000 - val_mse: 18448866663727104.0000 - val_mae: 45457412.0000\n",
            "Epoch 50/50\n",
            "534/534 [==============================] - 1s 2ms/step - loss: 22263375865662732.0000 - mse: 22263375865662732.0000 - mae: 53487363.1327 - val_loss: 18505343336185856.0000 - val_mse: 18505343336185856.0000 - val_mae: 46421352.0000\n"
          ],
          "name": "stdout"
        }
      ]
    },
    {
      "cell_type": "code",
      "metadata": {
        "colab": {
          "base_uri": "https://localhost:8080/",
          "height": 563
        },
        "id": "MpD_Rv1JKgMW",
        "outputId": "8c027d0d-9c28-4351-adca-7dbcb1414e90"
      },
      "source": [
        "def plot_history(history):\n",
        "  hist = pd.DataFrame(history.history)\n",
        "  hist['epoch'] = history.epoch\n",
        "\n",
        "  plt.figure()\n",
        "  plt.xlabel('Epoch')\n",
        "  plt.ylabel('Mean Abs Error [MPG]')\n",
        "  plt.plot(hist['epoch'], hist['mae'],\n",
        "           label='Train Error')\n",
        "  plt.plot(hist['epoch'], hist['val_mae'],\n",
        "           label = 'Val Error')\n",
        "  plt.legend()\n",
        "\n",
        "  plt.figure()\n",
        "  plt.xlabel('Epoch')\n",
        "  plt.ylabel('Mean Square Error [$MPG^2$]')\n",
        "  plt.plot(hist['epoch'], hist['mse'],\n",
        "           label='Train Error')\n",
        "  plt.plot(hist['epoch'], hist['val_mse'],\n",
        "           label = 'Val Error')\n",
        "  plt.legend()\n",
        "  plt.show()\n",
        "\n",
        "\n",
        "plot_history(history_c)"
      ],
      "execution_count": null,
      "outputs": [
        {
          "output_type": "display_data",
          "data": {
            "image/png": "[encoded data removed]",
            "text/plain": [
              "<Figure size 432x288 with 1 Axes>"
            ]
          },
          "metadata": {
            "tags": [],
            "needs_background": "light"
          }
        },
        {
          "output_type": "display_data",
          "data": {
            "image/png": "[encoded data removed]",
            "text/plain": [
              "<Figure size 432x288 with 1 Axes>"
            ]
          },
          "metadata": {
            "tags": [],
            "needs_background": "light"
          }
        }
      ]
    },
    {
      "cell_type": "code",
      "metadata": {
        "colab": {
          "base_uri": "https://localhost:8080/",
          "height": 203
        },
        "id": "TCihm-qHKgMW",
        "outputId": "bd1465dd-34f4-4314-ea5f-a36d8a81b04c"
      },
      "source": [
        "hist = pd.DataFrame(history_c.history)\n",
        "hist['epoch'] = history_c.epoch\n",
        "hist.tail()"
      ],
      "execution_count": null,
      "outputs": [
        {
          "output_type": "execute_result",
          "data": {
            "text/html": [
              "<div>\n",
              "<style scoped>\n",
              "    .dataframe tbody tr th:only-of-type {\n",
              "        vertical-align: middle;\n",
              "    }\n",
              "\n",
              "    .dataframe tbody tr th {\n",
              "        vertical-align: top;\n",
              "    }\n",
              "\n",
              "    .dataframe thead th {\n",
              "        text-align: right;\n",
              "    }\n",
              "</style>\n",
              "<table border=\"1\" class=\"dataframe\">\n",
              "  <thead>\n",
              "    <tr style=\"text-align: right;\">\n",
              "      <th></th>\n",
              "      <th>loss</th>\n",
              "      <th>mse</th>\n",
              "      <th>mae</th>\n",
              "      <th>val_loss</th>\n",
              "      <th>val_mse</th>\n",
              "      <th>val_mae</th>\n",
              "      <th>epoch</th>\n",
              "    </tr>\n",
              "  </thead>\n",
              "  <tbody>\n",
              "    <tr>\n",
              "      <th>45</th>\n",
              "      <td>2.197672e+16</td>\n",
              "      <td>2.197672e+16</td>\n",
              "      <td>53145832.0</td>\n",
              "      <td>1.854655e+16</td>\n",
              "      <td>1.854655e+16</td>\n",
              "      <td>44606056.0</td>\n",
              "      <td>45</td>\n",
              "    </tr>\n",
              "    <tr>\n",
              "      <th>46</th>\n",
              "      <td>2.246979e+16</td>\n",
              "      <td>2.246979e+16</td>\n",
              "      <td>53646660.0</td>\n",
              "      <td>1.848422e+16</td>\n",
              "      <td>1.848422e+16</td>\n",
              "      <td>45748824.0</td>\n",
              "      <td>46</td>\n",
              "    </tr>\n",
              "    <tr>\n",
              "      <th>47</th>\n",
              "      <td>2.237140e+16</td>\n",
              "      <td>2.237140e+16</td>\n",
              "      <td>53700240.0</td>\n",
              "      <td>1.847027e+16</td>\n",
              "      <td>1.847027e+16</td>\n",
              "      <td>45187304.0</td>\n",
              "      <td>47</td>\n",
              "    </tr>\n",
              "    <tr>\n",
              "      <th>48</th>\n",
              "      <td>2.209574e+16</td>\n",
              "      <td>2.209574e+16</td>\n",
              "      <td>53220580.0</td>\n",
              "      <td>1.844887e+16</td>\n",
              "      <td>1.844887e+16</td>\n",
              "      <td>45457412.0</td>\n",
              "      <td>48</td>\n",
              "    </tr>\n",
              "    <tr>\n",
              "      <th>49</th>\n",
              "      <td>2.204641e+16</td>\n",
              "      <td>2.204641e+16</td>\n",
              "      <td>53389908.0</td>\n",
              "      <td>1.850534e+16</td>\n",
              "      <td>1.850534e+16</td>\n",
              "      <td>46421352.0</td>\n",
              "      <td>49</td>\n",
              "    </tr>\n",
              "  </tbody>\n",
              "</table>\n",
              "</div>"
            ],
            "text/plain": [
              "            loss           mse         mae  ...       val_mse     val_mae  epoch\n",
              "45  2.197672e+16  2.197672e+16  53145832.0  ...  1.854655e+16  44606056.0     45\n",
              "46  2.246979e+16  2.246979e+16  53646660.0  ...  1.848422e+16  45748824.0     46\n",
              "47  2.237140e+16  2.237140e+16  53700240.0  ...  1.847027e+16  45187304.0     47\n",
              "48  2.209574e+16  2.209574e+16  53220580.0  ...  1.844887e+16  45457412.0     48\n",
              "49  2.204641e+16  2.204641e+16  53389908.0  ...  1.850534e+16  46421352.0     49\n",
              "\n",
              "[5 rows x 7 columns]"
            ]
          },
          "metadata": {
            "tags": []
          },
          "execution_count": 10
        }
      ]
    },
    {
      "cell_type": "code",
      "metadata": {
        "colab": {
          "base_uri": "https://localhost:8080/",
          "height": 418
        },
        "id": "F2hiOQ50MTLa",
        "outputId": "2352962a-3d52-4313-952d-b8c182cd8e28"
      },
      "source": [
        "y_pred = model_c.predict(X_test)\n",
        "pd.DataFrame(y_pred,columns=['pred'])"
      ],
      "execution_count": null,
      "outputs": [
        {
          "output_type": "execute_result",
          "data": {
            "text/html": [
              "<div>\n",
              "<style scoped>\n",
              "    .dataframe tbody tr th:only-of-type {\n",
              "        vertical-align: middle;\n",
              "    }\n",
              "\n",
              "    .dataframe tbody tr th {\n",
              "        vertical-align: top;\n",
              "    }\n",
              "\n",
              "    .dataframe thead th {\n",
              "        text-align: right;\n",
              "    }\n",
              "</style>\n",
              "<table border=\"1\" class=\"dataframe\">\n",
              "  <thead>\n",
              "    <tr style=\"text-align: right;\">\n",
              "      <th></th>\n",
              "      <th>pred</th>\n",
              "    </tr>\n",
              "  </thead>\n",
              "  <tbody>\n",
              "    <tr>\n",
              "      <th>0</th>\n",
              "      <td>0.0</td>\n",
              "    </tr>\n",
              "    <tr>\n",
              "      <th>1</th>\n",
              "      <td>0.0</td>\n",
              "    </tr>\n",
              "    <tr>\n",
              "      <th>2</th>\n",
              "      <td>208726656.0</td>\n",
              "    </tr>\n",
              "    <tr>\n",
              "      <th>3</th>\n",
              "      <td>0.0</td>\n",
              "    </tr>\n",
              "    <tr>\n",
              "      <th>4</th>\n",
              "      <td>0.0</td>\n",
              "    </tr>\n",
              "    <tr>\n",
              "      <th>...</th>\n",
              "      <td>...</td>\n",
              "    </tr>\n",
              "    <tr>\n",
              "      <th>16678</th>\n",
              "      <td>0.0</td>\n",
              "    </tr>\n",
              "    <tr>\n",
              "      <th>16679</th>\n",
              "      <td>718072832.0</td>\n",
              "    </tr>\n",
              "    <tr>\n",
              "      <th>16680</th>\n",
              "      <td>212127760.0</td>\n",
              "    </tr>\n",
              "    <tr>\n",
              "      <th>16681</th>\n",
              "      <td>0.0</td>\n",
              "    </tr>\n",
              "    <tr>\n",
              "      <th>16682</th>\n",
              "      <td>0.0</td>\n",
              "    </tr>\n",
              "  </tbody>\n",
              "</table>\n",
              "<p>16683 rows × 1 columns</p>\n",
              "</div>"
            ],
            "text/plain": [
              "              pred\n",
              "0              0.0\n",
              "1              0.0\n",
              "2      208726656.0\n",
              "3              0.0\n",
              "4              0.0\n",
              "...            ...\n",
              "16678          0.0\n",
              "16679  718072832.0\n",
              "16680  212127760.0\n",
              "16681          0.0\n",
              "16682          0.0\n",
              "\n",
              "[16683 rows x 1 columns]"
            ]
          },
          "metadata": {
            "tags": []
          },
          "execution_count": 11
        }
      ]
    },
    {
      "cell_type": "code",
      "metadata": {
        "id": "PjZsFdsTMnH6"
      },
      "source": [
        "result = pd.concat([pd.DataFrame(X_test), pd.DataFrame(y_test,columns=['true']), pd.DataFrame(y_pred,columns=['pred'])], axis=1)"
      ],
      "execution_count": null,
      "outputs": []
    },
    {
      "cell_type": "code",
      "metadata": {
        "colab": {
          "base_uri": "https://localhost:8080/",
          "height": 418
        },
        "id": "cn1jGbe7NblP",
        "outputId": "80cb5b30-2254-4c04-dcb3-3ff14161fa73"
      },
      "source": [
        "result.columns=['tem','stressing current','performing hour','input voltage','true','pred']\n",
        "result['tem']=result['tem']-273\n",
        "result['true']=result['true']/(10**10)\n",
        "result['pred']=result['pred']/(10**10)\n",
        "result"
      ],
      "execution_count": null,
      "outputs": [
        {
          "output_type": "execute_result",
          "data": {
            "text/html": [
              "<div>\n",
              "<style scoped>\n",
              "    .dataframe tbody tr th:only-of-type {\n",
              "        vertical-align: middle;\n",
              "    }\n",
              "\n",
              "    .dataframe tbody tr th {\n",
              "        vertical-align: top;\n",
              "    }\n",
              "\n",
              "    .dataframe thead th {\n",
              "        text-align: right;\n",
              "    }\n",
              "</style>\n",
              "<table border=\"1\" class=\"dataframe\">\n",
              "  <thead>\n",
              "    <tr style=\"text-align: right;\">\n",
              "      <th></th>\n",
              "      <th>tem</th>\n",
              "      <th>stressing current</th>\n",
              "      <th>performing hour</th>\n",
              "      <th>input voltage</th>\n",
              "      <th>true</th>\n",
              "      <th>pred</th>\n",
              "    </tr>\n",
              "  </thead>\n",
              "  <tbody>\n",
              "    <tr>\n",
              "      <th>0</th>\n",
              "      <td>25.0</td>\n",
              "      <td>100.0</td>\n",
              "      <td>4.0</td>\n",
              "      <td>-3.50</td>\n",
              "      <td>-6.970000e-11</td>\n",
              "      <td>0.000000</td>\n",
              "    </tr>\n",
              "    <tr>\n",
              "      <th>1</th>\n",
              "      <td>60.0</td>\n",
              "      <td>60.0</td>\n",
              "      <td>4.0</td>\n",
              "      <td>1.05</td>\n",
              "      <td>-4.130000e-10</td>\n",
              "      <td>0.000000</td>\n",
              "    </tr>\n",
              "    <tr>\n",
              "      <th>2</th>\n",
              "      <td>25.0</td>\n",
              "      <td>80.0</td>\n",
              "      <td>3.0</td>\n",
              "      <td>2.95</td>\n",
              "      <td>1.130859e-02</td>\n",
              "      <td>0.020873</td>\n",
              "    </tr>\n",
              "    <tr>\n",
              "      <th>3</th>\n",
              "      <td>25.0</td>\n",
              "      <td>60.0</td>\n",
              "      <td>4.0</td>\n",
              "      <td>-3.30</td>\n",
              "      <td>-5.040000e-10</td>\n",
              "      <td>0.000000</td>\n",
              "    </tr>\n",
              "    <tr>\n",
              "      <th>4</th>\n",
              "      <td>25.0</td>\n",
              "      <td>60.0</td>\n",
              "      <td>17.0</td>\n",
              "      <td>0.50</td>\n",
              "      <td>-1.950000e-10</td>\n",
              "      <td>0.000000</td>\n",
              "    </tr>\n",
              "    <tr>\n",
              "      <th>...</th>\n",
              "      <td>...</td>\n",
              "      <td>...</td>\n",
              "      <td>...</td>\n",
              "      <td>...</td>\n",
              "      <td>...</td>\n",
              "      <td>...</td>\n",
              "    </tr>\n",
              "    <tr>\n",
              "      <th>16678</th>\n",
              "      <td>25.0</td>\n",
              "      <td>100.0</td>\n",
              "      <td>4.0</td>\n",
              "      <td>-0.10</td>\n",
              "      <td>-4.060000e-11</td>\n",
              "      <td>0.000000</td>\n",
              "    </tr>\n",
              "    <tr>\n",
              "      <th>16679</th>\n",
              "      <td>60.0</td>\n",
              "      <td>60.0</td>\n",
              "      <td>4.0</td>\n",
              "      <td>4.05</td>\n",
              "      <td>1.000025e-01</td>\n",
              "      <td>0.071807</td>\n",
              "    </tr>\n",
              "    <tr>\n",
              "      <th>16680</th>\n",
              "      <td>60.0</td>\n",
              "      <td>60.0</td>\n",
              "      <td>12.0</td>\n",
              "      <td>3.35</td>\n",
              "      <td>5.159710e-02</td>\n",
              "      <td>0.021213</td>\n",
              "    </tr>\n",
              "    <tr>\n",
              "      <th>16681</th>\n",
              "      <td>60.0</td>\n",
              "      <td>100.0</td>\n",
              "      <td>2.0</td>\n",
              "      <td>-2.35</td>\n",
              "      <td>-7.250000e-09</td>\n",
              "      <td>0.000000</td>\n",
              "    </tr>\n",
              "    <tr>\n",
              "      <th>16682</th>\n",
              "      <td>25.0</td>\n",
              "      <td>60.0</td>\n",
              "      <td>3.0</td>\n",
              "      <td>0.05</td>\n",
              "      <td>-4.240000e-10</td>\n",
              "      <td>0.000000</td>\n",
              "    </tr>\n",
              "  </tbody>\n",
              "</table>\n",
              "<p>16683 rows × 6 columns</p>\n",
              "</div>"
            ],
            "text/plain": [
              "        tem  stressing current  ...          true      pred\n",
              "0      25.0              100.0  ... -6.970000e-11  0.000000\n",
              "1      60.0               60.0  ... -4.130000e-10  0.000000\n",
              "2      25.0               80.0  ...  1.130859e-02  0.020873\n",
              "3      25.0               60.0  ... -5.040000e-10  0.000000\n",
              "4      25.0               60.0  ... -1.950000e-10  0.000000\n",
              "...     ...                ...  ...           ...       ...\n",
              "16678  25.0              100.0  ... -4.060000e-11  0.000000\n",
              "16679  60.0               60.0  ...  1.000025e-01  0.071807\n",
              "16680  60.0               60.0  ...  5.159710e-02  0.021213\n",
              "16681  60.0              100.0  ... -7.250000e-09  0.000000\n",
              "16682  25.0               60.0  ... -4.240000e-10  0.000000\n",
              "\n",
              "[16683 rows x 6 columns]"
            ]
          },
          "metadata": {
            "tags": []
          },
          "execution_count": 13
        }
      ]
    },
    {
      "cell_type": "markdown",
      "metadata": {
        "id": "mG5eq6MgRhoq"
      },
      "source": [
        "\n",
        "\n",
        "---\n",
        "## **Interested Data set:**\n",
        "\n",
        "Light intensity of LED in different temperature, stressing current, performing hour, input voltage.\n",
        "\n",
        "Temperature: from 20 to 60, every 5 unit\n",
        "\n",
        "Stressing current: from 40 to 100, every 5 unit\n",
        "\n",
        "Input voltage: from -5.00 to 5.00, every 0.05 unit\n",
        "\n",
        "Performing hour: start from 0, every 0.2 unit, untill hr>=100.\n",
        "\n",
        "\n",
        "\n"
      ]
    },
    {
      "cell_type": "code",
      "metadata": {
        "colab": {
          "base_uri": "https://localhost:8080/"
        },
        "id": "WsVYpOXLRhor",
        "outputId": "aef16908-ea5d-4173-f822-3ad1b5a5590d"
      },
      "source": [
        "from tqdm import trange\n",
        "r_list=[]\n",
        "column_list=['temperature','stressing current','performing hour','input voltage','reverse saturated current']\n",
        "for temperature in trange(293,338,5):\n",
        "  for stressing_current in range(40,105,5):\n",
        "    performing_hour = 0\n",
        "    while performing_hour<=1000:\n",
        "      for input_voltage in range(-500, 501 ,50):\n",
        "        input_voltage=input_voltage/100\n",
        "        li=model_c.predict(np.array([[ temperature , stressing_current , performing_hour ,input_voltage]]))[0][0]\n",
        "        r_list.append( [temperature,stressing_current,performing_hour,input_voltage,li])\n",
        "        if performing_hour<100:\n",
        "          performing_hour+=1\n",
        "        elif performing_hour<300:\n",
        "          performing_hour+=3\n",
        "        elif performing_hour<1000:\n",
        "          performing_hour+=6\n",
        "        else:\n",
        "          performing_hour+=10\n",
        "record_c=pd.DataFrame(r_list,columns=column_list)"
      ],
      "execution_count": null,
      "outputs": [
        {
          "output_type": "stream",
          "text": [
            "100%|██████████| 9/9 [22:14<00:00, 148.25s/it]\n"
          ],
          "name": "stderr"
        }
      ]
    },
    {
      "cell_type": "code",
      "metadata": {
        "colab": {
          "base_uri": "https://localhost:8080/",
          "height": 418
        },
        "id": "0Bk2At6xRhos",
        "outputId": "9e6a6a65-f963-4422-b210-cbcd4ec3d8d3"
      },
      "source": [
        "record_c['temperature']=record_c['temperature']-273\n",
        "record_c['reverse saturated current']=record_c['reverse saturated current']/(10**10)\n",
        "record_c"
      ],
      "execution_count": null,
      "outputs": [
        {
          "output_type": "execute_result",
          "data": {
            "text/html": [
              "<div>\n",
              "<style scoped>\n",
              "    .dataframe tbody tr th:only-of-type {\n",
              "        vertical-align: middle;\n",
              "    }\n",
              "\n",
              "    .dataframe tbody tr th {\n",
              "        vertical-align: top;\n",
              "    }\n",
              "\n",
              "    .dataframe thead th {\n",
              "        text-align: right;\n",
              "    }\n",
              "</style>\n",
              "<table border=\"1\" class=\"dataframe\">\n",
              "  <thead>\n",
              "    <tr style=\"text-align: right;\">\n",
              "      <th></th>\n",
              "      <th>temperature</th>\n",
              "      <th>stressing current</th>\n",
              "      <th>performing hour</th>\n",
              "      <th>input voltage</th>\n",
              "      <th>reverse saturated current</th>\n",
              "    </tr>\n",
              "  </thead>\n",
              "  <tbody>\n",
              "    <tr>\n",
              "      <th>0</th>\n",
              "      <td>20</td>\n",
              "      <td>40</td>\n",
              "      <td>0</td>\n",
              "      <td>-5.0</td>\n",
              "      <td>0.0</td>\n",
              "    </tr>\n",
              "    <tr>\n",
              "      <th>1</th>\n",
              "      <td>20</td>\n",
              "      <td>40</td>\n",
              "      <td>1</td>\n",
              "      <td>-4.5</td>\n",
              "      <td>0.0</td>\n",
              "    </tr>\n",
              "    <tr>\n",
              "      <th>2</th>\n",
              "      <td>20</td>\n",
              "      <td>40</td>\n",
              "      <td>2</td>\n",
              "      <td>-4.0</td>\n",
              "      <td>0.0</td>\n",
              "    </tr>\n",
              "    <tr>\n",
              "      <th>3</th>\n",
              "      <td>20</td>\n",
              "      <td>40</td>\n",
              "      <td>3</td>\n",
              "      <td>-3.5</td>\n",
              "      <td>0.0</td>\n",
              "    </tr>\n",
              "    <tr>\n",
              "      <th>4</th>\n",
              "      <td>20</td>\n",
              "      <td>40</td>\n",
              "      <td>4</td>\n",
              "      <td>-3.0</td>\n",
              "      <td>0.0</td>\n",
              "    </tr>\n",
              "    <tr>\n",
              "      <th>...</th>\n",
              "      <td>...</td>\n",
              "      <td>...</td>\n",
              "      <td>...</td>\n",
              "      <td>...</td>\n",
              "      <td>...</td>\n",
              "    </tr>\n",
              "    <tr>\n",
              "      <th>35095</th>\n",
              "      <td>60</td>\n",
              "      <td>100</td>\n",
              "      <td>1113</td>\n",
              "      <td>2.5</td>\n",
              "      <td>0.0</td>\n",
              "    </tr>\n",
              "    <tr>\n",
              "      <th>35096</th>\n",
              "      <td>60</td>\n",
              "      <td>100</td>\n",
              "      <td>1123</td>\n",
              "      <td>3.0</td>\n",
              "      <td>0.0</td>\n",
              "    </tr>\n",
              "    <tr>\n",
              "      <th>35097</th>\n",
              "      <td>60</td>\n",
              "      <td>100</td>\n",
              "      <td>1133</td>\n",
              "      <td>3.5</td>\n",
              "      <td>0.0</td>\n",
              "    </tr>\n",
              "    <tr>\n",
              "      <th>35098</th>\n",
              "      <td>60</td>\n",
              "      <td>100</td>\n",
              "      <td>1143</td>\n",
              "      <td>4.0</td>\n",
              "      <td>0.0</td>\n",
              "    </tr>\n",
              "    <tr>\n",
              "      <th>35099</th>\n",
              "      <td>60</td>\n",
              "      <td>100</td>\n",
              "      <td>1153</td>\n",
              "      <td>4.5</td>\n",
              "      <td>0.0</td>\n",
              "    </tr>\n",
              "  </tbody>\n",
              "</table>\n",
              "<p>35100 rows × 5 columns</p>\n",
              "</div>"
            ],
            "text/plain": [
              "       temperature  stressing current  ...  input voltage  reverse saturated current\n",
              "0               20                 40  ...           -5.0                        0.0\n",
              "1               20                 40  ...           -4.5                        0.0\n",
              "2               20                 40  ...           -4.0                        0.0\n",
              "3               20                 40  ...           -3.5                        0.0\n",
              "4               20                 40  ...           -3.0                        0.0\n",
              "...            ...                ...  ...            ...                        ...\n",
              "35095           60                100  ...            2.5                        0.0\n",
              "35096           60                100  ...            3.0                        0.0\n",
              "35097           60                100  ...            3.5                        0.0\n",
              "35098           60                100  ...            4.0                        0.0\n",
              "35099           60                100  ...            4.5                        0.0\n",
              "\n",
              "[35100 rows x 5 columns]"
            ]
          },
          "metadata": {
            "tags": []
          },
          "execution_count": 19
        }
      ]
    },
    {
      "cell_type": "code",
      "metadata": {
        "id": "T9NhY-YtRhot"
      },
      "source": [
        "from datetime import datetime\n",
        "now = datetime.now()\n",
        "current_time = now.strftime(\"%m%d%H%M\")\n",
        "record_c.to_csv('/content/LED_output_RSC_'+current_time+'.csv')"
      ],
      "execution_count": null,
      "outputs": []
    },
    {
      "cell_type": "code",
      "metadata": {
        "id": "Fz9eVwngRhot"
      },
      "source": [
        "df_dropped.to_csv('/content/dropped_input_RSV.csv')"
      ],
      "execution_count": null,
      "outputs": []
    },
    {
      "cell_type": "markdown",
      "metadata": {
        "id": "0yMMI7xA6HqD"
      },
      "source": [
        "\n",
        "\n",
        "---\n",
        "## **Assumption:**\n",
        "Let f(t) be light intensity of a LED at performing hour ***t***.\n",
        "\n",
        "\n",
        "f(t) followed a normal distribution with mean μt and variance σ^2t, where f(t) is affected by temperature, stressing current, and input voltage.\n",
        "\n",
        "Therefore, we can build a predictive model to predict the distribution of f(t) by deep learning"
      ]
    }
  ]
}